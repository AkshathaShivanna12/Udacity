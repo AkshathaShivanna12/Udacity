{
 "cells": [
  {
   "cell_type": "code",
   "execution_count": 1,
   "metadata": {
    "collapsed": true
   },
   "outputs": [],
   "source": [
    "import unicodecsv"
   ]
  },
  {
   "cell_type": "code",
   "execution_count": 7,
   "metadata": {
    "collapsed": false
   },
   "outputs": [],
   "source": [
    "with open(\"beatles-diskography.csv\", \"rb\") as f:\n",
    "    reader = unicodecsv.DictReader(f)\n",
    "    beatles_csv = list(reader)"
   ]
  },
  {
   "cell_type": "markdown",
   "metadata": {},
   "source": [
    "## Reading CSV files without CSV reader"
   ]
  },
  {
   "cell_type": "code",
   "execution_count": 69,
   "metadata": {
    "collapsed": false
   },
   "outputs": [],
   "source": [
    "\n",
    "\n",
    "# Your task is to read the input DATAFILE line by line, and for the first 10 lines (not including the header)\n",
    "# split each line on \",\" and then for each line, create a dictionary\n",
    "# where the key is the header title of the field, and the value is the value of that field in the row.\n",
    "# The function parse_file should return a list of dictionaries,\n",
    "# each data line in the file being a single list entry.\n",
    "# Field names and values should not contain extra whitespace, like spaces or newline characters.\n",
    "# You can use the Python string method strip() to remove the extra whitespace.\n",
    "# You have to parse only the first 10 data lines in this exercise,\n",
    "# so the returned list should have 10 entries!\n",
    "import os\n",
    "\n",
    "DATADIR = \"\"\n",
    "DATAFILE = \"beatles-diskography.csv\"\n",
    "\n",
    "\n",
    "def parse_file(datafile):\n",
    "    data = []\n",
    "    with open(datafile, \"r\") as f:\n",
    "        keys = []\n",
    "        for number, line in enumerate(f):\n",
    "            if number == 0:\n",
    "                keys.extend(line.split(\",\"))\n",
    "            else:\n",
    "                values = line.split(\",\")\n",
    "                zip_values = zip(keys, values)\n",
    "                diccio = dict((key.strip(), value.strip()) for key, value in zip_values)\n",
    "                data.append(diccio)\n",
    "            if number>= 10:\n",
    "                break\n",
    "\n",
    "    return data"
   ]
  },
  {
   "cell_type": "markdown",
   "metadata": {},
   "source": [
    "## Reading excel files with xlrd module"
   ]
  },
  {
   "cell_type": "code",
   "execution_count": 116,
   "metadata": {
    "collapsed": false
   },
   "outputs": [],
   "source": [
    "#!/usr/bin/env python\n",
    "\"\"\"\n",
    "Your task is as follows:\n",
    "- read the provided Excel file\n",
    "- find and return the min and max values for the COAST region\n",
    "- find and return the time value for the min and max entries\n",
    "- the time values should be returned as Python tuples\n",
    "Please see the test function for the expected return format\n",
    "\"\"\"\n",
    "\n",
    "import xlrd\n",
    "from zipfile import ZipFile\n",
    "datafile = \"2013_ERCOT_Hourly_Load_Data.xls\"\n",
    "\n",
    "\n",
    "#def open_zip(datafile):\n",
    "#    with ZipFile('{0}.zip'.format(datafile), 'r') as myzip:\n",
    "#        myzip.extractall()\n",
    "\n",
    "\n",
    "def parse_file(datafile):\n",
    "    workbook = xlrd.open_workbook(datafile)\n",
    "    sheet = workbook.sheet_by_index(0)\n",
    "\n",
    "    ###example on how you can get the data\n",
    "    sheet_data = [[sheet.cell_value(r, col) for col in range(sheet.ncols)] for r in range(sheet.nrows)]\n",
    "    ### other useful methods:\n",
    "    #print \"\\nROWS, COLUMNS, and CELLS:\"\n",
    "    #print \"Number of rows in the sheet:\", \n",
    "    #print sheet.nrows\n",
    "    #print \"Type of data in cell (row 3, col 2):\", \n",
    "    #print sheet.cell_type(3, 2)\n",
    "    #print \"Value in cell (row 3, col 2):\", \n",
    "    #print sheet.cell_value(3, 2)\n",
    "    #print \"Get a slice of values in column 3, from rows 1-3:\"\n",
    "    #print sheet.col_values(3, start_rowx=1, end_rowx=4)\n",
    "\n",
    "    #print \"\\nDATES:\"\n",
    "    #print \"Type of data in cell (row 1, col 0):\", \n",
    "    #print sheet.cell_type(1, 0)\n",
    "    #exceltime = sheet.cell_value(1, 0)\n",
    "    #print \"Time in Excel format:\",\n",
    "    #print exceltime\n",
    "    #print \"Convert time to a Python datetime tuple, from the Excel float:\",\n",
    "    #print xlrd.xldate_as_tuple(exceltime, 0)\n",
    "    \n",
    "    coast_col = sheet.col_values(1, start_rowx=1)\n",
    "    average_coast = sum(coast_col) / float(len(coast_col))\n",
    "    maxvalue = max(coast_col)\n",
    "    minvalue = min(coast_col)\n",
    "\n",
    "#Note that here, I could have used the index function on lists to retrieve the index that I was looking for.\n",
    "    def search_row_val(value):\n",
    "        for number, row in enumerate(coast_col):\n",
    "            if row == value:\n",
    "                return number + 1\n",
    "            \n",
    "    max_row_value = search_row_val(maxvalue)\n",
    "    min_row_value = search_row_val(minvalue)\n",
    "    max_time = sheet.cell_value(max_row_value, 0)\n",
    "    min_time = sheet.cell_value(min_row_value, 0)\n",
    "    max_time_tuple = xlrd.xldate_as_tuple(max_time , 0)\n",
    "    min_time_tuple = xlrd.xldate_as_tuple(min_time , 0)\n",
    "\n",
    "    \n",
    "    data = {\n",
    "            'maxtime': max_time_tuple,\n",
    "            'maxvalue': maxvalue,\n",
    "            'mintime': min_time_tuple,\n",
    "            'minvalue': minvalue,\n",
    "            'avgcoast': average_coast\n",
    "    }\n",
    "    return data\n",
    "\n",
    "\n",
    "def test():\n",
    "    #open_zip(datafile)\n",
    "    data = parse_file(datafile)\n",
    "\n",
    "    assert data['maxtime'] == (2013, 8, 13, 17, 0, 0)\n",
    "    assert round(data['maxvalue'], 10) == round(18779.02551, 10)\n",
    "\n",
    "test()"
   ]
  },
  {
   "cell_type": "markdown",
   "metadata": {},
   "source": [
    "## Using JSON and retrieving info from API"
   ]
  },
  {
   "cell_type": "code",
   "execution_count": 123,
   "metadata": {
    "collapsed": false
   },
   "outputs": [
    {
     "name": "stdout",
     "output_type": "stream",
     "text": [
      "requesting http://musicbrainz.org/ws/2/artist/?query=artist%3ANirvana&fmt=json\n",
      "9282c8b4-ca0b-4c6b-b7e3-4f7762dfc4d6\n"
     ]
    }
   ],
   "source": [
    "# To experiment with this code freely you will have to run this code locally.\n",
    "# Take a look at the main() function for an example of how to use the code.\n",
    "# We have provided example json output in the other code editor tabs for you to\n",
    "# look at, but you will not be able to run any queries through our UI.\n",
    "import json\n",
    "import requests\n",
    "\n",
    "\n",
    "BASE_URL = \"http://musicbrainz.org/ws/2/\"\n",
    "ARTIST_URL = BASE_URL + \"artist/\"\n",
    "\n",
    "# query parameters are given to the requests.get function as a dictionary; this\n",
    "# variable contains some starter parameters.\n",
    "query_type = {  \"simple\": {},\n",
    "                \"atr\": {\"inc\": \"aliases+tags+ratings\"},\n",
    "                \"aliases\": {\"inc\": \"aliases\"},\n",
    "                \"releases\": {\"inc\": \"releases\"}}\n",
    "\n",
    "\n",
    "def query_site(url, params, uid=\"\", fmt=\"json\"):\n",
    "    # This is the main function for making queries to the musicbrainz API.\n",
    "    # A json document should be returned by the query.\n",
    "    params[\"fmt\"] = fmt\n",
    "    r = requests.get(url + uid, params=params)\n",
    "    print \"requesting\", r.url\n",
    "\n",
    "    if r.status_code == requests.codes.ok:\n",
    "        return r.json()\n",
    "    else:\n",
    "        r.raise_for_status()\n",
    "\n",
    "\n",
    "def query_by_name(url, params, name):\n",
    "    # This adds an artist name to the query parameters before making\n",
    "    # an API call to the function above.\n",
    "    params[\"query\"] = \"artist:\" + name\n",
    "    return query_site(url, params)\n",
    "\n",
    "\n",
    "def pretty_print(data, indent=4):\n",
    "    # After we get our output, we can format it to be more readable\n",
    "    # by using this function.\n",
    "    if type(data) == dict:\n",
    "        print json.dumps(data, indent=indent, sort_keys=True)\n",
    "    else:\n",
    "        print data\n",
    "\n",
    "\n",
    "def main():\n",
    "    '''\n",
    "    Modify the function calls and indexing below to answer the questions on\n",
    "    the next quiz. HINT: Note how the output we get from the site is a\n",
    "    multi-level JSON document, so try making print statements to step through\n",
    "    the structure one level at a time or copy the output to a separate output\n",
    "    file.\n",
    "    '''\n",
    "    results = query_by_name(ARTIST_URL, query_type[\"simple\"], \"Nirvana\")\n",
    "    #pretty_print(results)\n",
    "\n",
    "    artist_id = results[\"artists\"][1][\"id\"]\n",
    "    print artist_id\n",
    "    #print \"\\nARTIST:\"\n",
    "    #pretty_print(results[\"artists\"][1])\n",
    "#\n",
    "    artist_data = query_site(ARTIST_URL, query_type[\"releases\"], artist_id)\n",
    "    #releases = artist_data[\"releases\"]\n",
    "    #print \"\\nONE RELEASE:\"\n",
    "    #pretty_print(releases[0], indent=2)\n",
    "    #release_titles = [r[\"title\"] for r in releases]\n",
    "#\n",
    "    #print \"\\nALL TITLES:\"\n",
    "    #for t in release_titles:\n",
    "    #    print t\n",
    "\n",
    "\n",
    "if __name__ == '__main__':\n",
    "    main()"
   ]
  },
  {
   "cell_type": "code",
   "execution_count": 160,
   "metadata": {
    "collapsed": false
   },
   "outputs": [
    {
     "name": "stdout",
     "output_type": "stream",
     "text": [
      "requesting http://musicbrainz.org/ws/2/artist/?query=artist%3AFirst+Aid+Kit&fmt=json\n",
      "2\n"
     ]
    }
   ],
   "source": [
    "# Question 1\n",
    "results_first_aid = query_by_name(ARTIST_URL, query_type[\"simple\"], \"First Aid Kit\")\n",
    "counter = 0\n",
    "for item in results_first_aid[\"artists\"]:\n",
    "    if item[\"name\"].lower() == \"first aid kit\":\n",
    "        counter += 1\n",
    "print counter\n",
    "#pretty_print(results_first_aid)\n"
   ]
  },
  {
   "cell_type": "code",
   "execution_count": 142,
   "metadata": {
    "collapsed": false
   },
   "outputs": [
    {
     "name": "stdout",
     "output_type": "stream",
     "text": [
      "requesting http://musicbrainz.org/ws/2/artist/?query=artist%3AQueen&fmt=json\n",
      "{\n",
      "    \"id\": \"f03d09b3-39dc-4083-afd6-159e3f0d462f\", \n",
      "    \"name\": \"London\", \n",
      "    \"sort-name\": \"London\"\n",
      "}\n"
     ]
    }
   ],
   "source": [
    "# Question 2\n",
    "results_queen = query_by_name(ARTIST_URL, query_type[\"simple\"], \"Queen\")\n",
    "pretty_print(results_queen[\"artists\"][0][\"begin-area\"])"
   ]
  },
  {
   "cell_type": "code",
   "execution_count": 143,
   "metadata": {
    "collapsed": false
   },
   "outputs": [
    {
     "name": "stdout",
     "output_type": "stream",
     "text": [
      "requesting http://musicbrainz.org/ws/2/artist/?query=artist%3ABeatles&fmt=json\n"
     ]
    }
   ],
   "source": [
    "# Question 3\n",
    "results_beatles = query_by_name(ARTIST_URL, query_type[\"simple\"], \"Beatles\")"
   ]
  },
  {
   "cell_type": "code",
   "execution_count": 148,
   "metadata": {
    "collapsed": false
   },
   "outputs": [],
   "source": [
    "#pretty_print(results_beatles[\"artists\"][0][\"aliases\"])"
   ]
  },
  {
   "cell_type": "code",
   "execution_count": 150,
   "metadata": {
    "collapsed": false
   },
   "outputs": [
    {
     "name": "stdout",
     "output_type": "stream",
     "text": [
      "requesting http://musicbrainz.org/ws/2/artist/?query=artist%3ANirvana&fmt=json\n",
      "90s US grunge band\n"
     ]
    }
   ],
   "source": [
    "# Question 4\n",
    "results_nirvana = query_by_name(ARTIST_URL, query_type[\"simple\"], \"Nirvana\")\n",
    "pretty_print(results_nirvana[\"artists\"][0][\"disambiguation\"])"
   ]
  },
  {
   "cell_type": "code",
   "execution_count": 152,
   "metadata": {
    "collapsed": false
   },
   "outputs": [
    {
     "name": "stdout",
     "output_type": "stream",
     "text": [
      "requesting http://musicbrainz.org/ws/2/artist/?query=artist%3AOne+direction&fmt=json\n",
      "{\n",
      "    \"area\": {\n",
      "        \"id\": \"8a754a16-0027-3a29-b6d7-2b40ea0481ed\", \n",
      "        \"name\": \"United Kingdom\", \n",
      "        \"sort-name\": \"United Kingdom\"\n",
      "    }, \n",
      "    \"begin-area\": {\n",
      "        \"id\": \"f03d09b3-39dc-4083-afd6-159e3f0d462f\", \n",
      "        \"name\": \"London\", \n",
      "        \"sort-name\": \"London\"\n",
      "    }, \n",
      "    \"country\": \"GB\", \n",
      "    \"disambiguation\": \"English-Irish boy band formed in 2010\", \n",
      "    \"id\": \"1a425bbd-cca4-4b2c-aeb7-71cb176c828a\", \n",
      "    \"life-span\": {\n",
      "        \"begin\": \"2010-07\", \n",
      "        \"ended\": null\n",
      "    }, \n",
      "    \"name\": \"One Direction\", \n",
      "    \"score\": \"100\", \n",
      "    \"sort-name\": \"One Direction\", \n",
      "    \"tags\": [\n",
      "        {\n",
      "            \"count\": 2, \n",
      "            \"name\": \"pop\"\n",
      "        }, \n",
      "        {\n",
      "            \"count\": 1, \n",
      "            \"name\": \"power pop\"\n",
      "        }, \n",
      "        {\n",
      "            \"count\": 1, \n",
      "            \"name\": \"dance-pop\"\n",
      "        }, \n",
      "        {\n",
      "            \"count\": 1, \n",
      "            \"name\": \"pop rock\"\n",
      "        }, \n",
      "        {\n",
      "            \"count\": 1, \n",
      "            \"name\": \"folk pop\"\n",
      "        }, \n",
      "        {\n",
      "            \"count\": 2, \n",
      "            \"name\": \"boy band\"\n",
      "        }\n",
      "    ], \n",
      "    \"type\": \"Group\"\n",
      "}\n"
     ]
    }
   ],
   "source": [
    "# Qestion 5\n",
    "results_one_d = query_by_name(ARTIST_URL, query_type[\"simple\"], \"One direction\")\n",
    "pretty_print(results_one_d[\"artists\"][0])"
   ]
  },
  {
   "cell_type": "markdown",
   "metadata": {},
   "source": [
    "## Task: Reading from csv files"
   ]
  },
  {
   "cell_type": "code",
   "execution_count": 225,
   "metadata": {
    "collapsed": false
   },
   "outputs": [],
   "source": [
    "\"\"\"\n",
    "Your task is to process the supplied file and use the csv module to extract data from it.\n",
    "The data comes from NREL (National Renewable Energy Laboratory) website. Each file\n",
    "contains information from one meteorological station, in particular - about amount of\n",
    "solar and wind energy for each hour of day.\n",
    "\n",
    "Note that the first line of the datafile is neither data entry, nor header. It is a line\n",
    "describing the data source. You should extract the name of the station from it.\n",
    "\n",
    "The data should be returned as a list of lists (not dictionaries).\n",
    "You can use the csv modules \"reader\" method to get data in such format.\n",
    "Another useful method is next() - to get the next line from the iterator.\n",
    "You should only change the parse_file function.\n",
    "\"\"\"\n",
    "import csv\n",
    "import os\n",
    "\n",
    "DATADIR = \"/Users/Jose/Documents/Udacity/data_science/data_wrangling\"\n",
    "DATAFILE = \"745090.csv\"\n",
    "\n",
    "\n",
    "def parse_file(datafile):\n",
    "    name = \"\"\n",
    "    data = []\n",
    "    with open(datafile,'rb') as f:\n",
    "        name = f.readline().split(\",\")[1][1:-1]\n",
    "        reader = csv.reader(f)\n",
    "        next(reader)\n",
    "        for line in reader:\n",
    "            data.append(line)\n",
    "    # Do not change the line below\n",
    "    return (name, data)\n",
    "\n",
    "\n",
    "def test():\n",
    "    datafile = os.path.join(DATADIR, DATAFILE)\n",
    "\n",
    "    name, data = parse_file(datafile)\n",
    "    assert name == \"MOUNTAIN VIEW MOFFETT FLD NAS\"\n",
    "    assert data[0][1] == \"01:00\"\n",
    "    assert data[2][0] == \"01/01/2005\"\n",
    "    assert data[2][5] == \"2\"\n",
    "\n",
    "\n",
    "if __name__ == \"__main__\":\n",
    "    test()"
   ]
  },
  {
   "cell_type": "markdown",
   "metadata": {},
   "source": [
    "## Excel Exercise"
   ]
  },
  {
   "cell_type": "code",
   "execution_count": 324,
   "metadata": {
    "collapsed": false
   },
   "outputs": [],
   "source": [
    "# -*- coding: utf-8 -*-\n",
    "'''\n",
    "Find the time and value of max load for each of the regions\n",
    "COAST, EAST, FAR_WEST, NORTH, NORTH_C, SOUTHERN, SOUTH_C, WEST\n",
    "and write the result out in a csv file, using pipe character | as the delimiter.\n",
    "\n",
    "An example output can be seen in the \"example.csv\" file.\n",
    "'''\n",
    "\n",
    "import xlrd\n",
    "import os\n",
    "import csv\n",
    "from zipfile import ZipFile\n",
    "\n",
    "datafile = \"2013_ERCOT_Hourly_Load_Data.xls\"\n",
    "outfile = \"2013_Max_Loads.csv\"\n",
    "\n",
    "\n",
    "#def open_zip(datafile):\n",
    "#    with ZipFile('{0}.zip'.format(datafile), 'r') as myzip:\n",
    "#        myzip.extractall()\n",
    "#\n",
    "\n",
    "def parse_file(datafile):\n",
    "    workbook = xlrd.open_workbook(datafile)\n",
    "    sheet = workbook.sheet_by_index(0)\n",
    "    #data = [[sheet.cell_value(r, col) for col in range(sheet.ncols)] for r in range(sheet.nrows)]\n",
    "    # YOUR CODE HERE\n",
    "    # Remember that you can use xlrd.xldate_as_tuple(sometime, 0) to convert\n",
    "    # Excel date to Python tuple of (year, month, day, hour, minute, second)\n",
    "    result_list = []\n",
    "    for item in range(1, len(['COAST', 'EAST', 'FAR_WEST', 'NORTH',\n",
    "                           'NORTH_C', 'SOUTHERN', 'SOUTH_C', 'WEST']) + 1):\n",
    "        region_name = sheet.col_values(item, start_rowx=0, end_rowx=1)[0].strip()\n",
    "        region = sheet.col_values(item, start_rowx=1)\n",
    "        maxvalue = max(region)\n",
    "        ind_max = region.index(maxvalue) + 1\n",
    "        max_time = sheet.cell_value(ind_max, 0)\n",
    "        max_time_tuple = xlrd.xldate_as_tuple(max_time , 0)\n",
    "        dict_results = {\"Station\": region_name, \"Year\": max_time_tuple[0], \"Month\": max_time_tuple[1], \\\n",
    "                       \"Day\": max_time_tuple[2], \"Hour\": max_time_tuple[3], \"Max Load\": maxvalue}\n",
    "        result_list.append(dict_results)\n",
    "    return result_list\n",
    "\n",
    "\n",
    "\n",
    "def save_file(data, filename):\n",
    "    with open(filename, 'wb') as f:  # Just use 'w' mode in 3.x\n",
    "        writer = csv.DictWriter(f, data[0].keys(), delimiter=\"|\")\n",
    "        writer.writeheader()\n",
    "        writer.writerows(data)\n",
    "\n",
    "    \n",
    "def test():\n",
    "    #open_zip(datafile)\n",
    "    data = parse_file(datafile)\n",
    "    save_file(data, outfile)\n",
    "\n",
    "    number_of_rows = 0\n",
    "    stations = []\n",
    "\n",
    "    ans = {'FAR_WEST': {'Max Load': '2281.2722140000024',\n",
    "                        'Year': '2013',\n",
    "                        'Month': '6',\n",
    "                        'Day': '26',\n",
    "                        'Hour': '17'}}\n",
    "    correct_stations = ['COAST', 'EAST', 'FAR_WEST', 'NORTH',\n",
    "                        'NORTH_C', 'SOUTHERN', 'SOUTH_C', 'WEST']\n",
    "    fields = ['Year', 'Month', 'Day', 'Hour', 'Max Load']\n",
    "\n",
    "    with open(outfile) as of:\n",
    "        csvfile = csv.DictReader(of, delimiter=\"|\")\n",
    "        for line in csvfile:\n",
    "            station = line['Station']\n",
    "            if station == 'FAR_WEST':\n",
    "                for field in fields:\n",
    "                    # Check if 'Max Load' is within .1 of answer\n",
    "                    if field == 'Max Load':\n",
    "                        max_answer = round(float(ans[station][field]), 1)\n",
    "                        max_line = round(float(line[field]), 1)\n",
    "                        assert max_answer == max_line\n",
    "\n",
    "                    # Otherwise check for equality\n",
    "                    else:\n",
    "                        assert ans[station][field] == line[field]\n",
    "\n",
    "            number_of_rows += 1\n",
    "            stations.append(station)\n",
    "\n",
    "        # Output should be 8 lines not including header\n",
    "        assert number_of_rows == 8\n",
    "\n",
    "        # Check Station Names\n",
    "        assert set(stations) == set(correct_stations)\n",
    "\n",
    "        \n",
    "if __name__ == \"__main__\":\n",
    "    test()\n"
   ]
  },
  {
   "cell_type": "markdown",
   "metadata": {},
   "source": [
    "## Working with JSON files"
   ]
  },
  {
   "cell_type": "code",
   "execution_count": 326,
   "metadata": {
    "collapsed": false
   },
   "outputs": [],
   "source": [
    "#!/usr/bin/env python\n",
    "# -*- coding: utf-8 -*-\n",
    "\"\"\"\n",
    "This exercise shows some important concepts that you should be aware about:\n",
    "- using codecs module to write unicode files\n",
    "- using authentication with web APIs\n",
    "- using offset when accessing web APIs\n",
    "\n",
    "To run this code locally you have to register at the NYTimes developer site \n",
    "and get your own API key. You will be able to complete this exercise in our UI\n",
    "without doing so, as we have provided a sample result.\n",
    "\n",
    "Your task is to process the saved file that represents the most popular\n",
    "articles (by view count) from the last day, and return the following data:\n",
    "- list of dictionaries, where the dictionary key is \"section\" and value is \"title\"\n",
    "- list of URLs for all media entries with \"format\": \"Standard Thumbnail\"\n",
    "\n",
    "All your changes should be in the article_overview function.\n",
    "The rest of functions are provided for your convenience, if you want to access\n",
    "the API by yourself.\n",
    "\"\"\"\n",
    "import json\n",
    "import codecs\n",
    "import requests\n",
    "\n",
    "URL_MAIN = \"http://api.nytimes.com/svc/\"\n",
    "URL_POPULAR = URL_MAIN + \"mostpopular/v2/\"\n",
    "API_KEY = { \"popular\": \"6b1b8aa9f3914e24abc3f1bfe52aebbf\",\n",
    "            \"article\": \"6b1b8aa9f3914e24abc3f1bfe52aebbf\"}\n",
    "\n",
    "\n",
    "def get_from_file(kind, period):\n",
    "    filename = \"popular-{0}-{1}.json\".format(kind, period)\n",
    "    with open(filename, \"r\") as f:\n",
    "        return json.loads(f.read())\n",
    "\n",
    "\n",
    "#def article_overview(kind, period):\n",
    "#    data = get_from_file(kind, period)\n",
    "#    titles = []\n",
    "#    urls =[]\n",
    "#    # YOUR CODE HERE\n",
    "#\n",
    "#    return (titles, urls)\n",
    "#\n",
    "\n",
    "def query_site(url, target, offset):\n",
    "    # This will set up the query with the API key and offset\n",
    "    # Web services often use offset paramter to return data in small chunks\n",
    "    # NYTimes returns 20 articles per request, if you want the next 20\n",
    "    # You have to provide the offset parameter\n",
    "    if API_KEY[\"popular\"] == \"\" or API_KEY[\"article\"] == \"\":\n",
    "        print \"You need to register for NYTimes Developer account to run this program.\"\n",
    "        print \"See Intructor notes for information\"\n",
    "        return False\n",
    "    params = {\"api-key\": API_KEY[target], \"offset\": offset}\n",
    "    r = requests.get(url, params = params)\n",
    "\n",
    "    if r.status_code == requests.codes.ok:\n",
    "        return r.json()\n",
    "    else:\n",
    "        r.raise_for_status()\n",
    "\n",
    "\n",
    "def get_popular(url, kind, days, section=\"all-sections\", offset=0):\n",
    "    # This function will construct the query according to the requirements of the site\n",
    "    # and return the data, or print an error message if called incorrectly\n",
    "    if days not in [1,7,30]:\n",
    "        print \"Time period can be 1,7, 30 days only\"\n",
    "        return False\n",
    "    if kind not in [\"viewed\", \"shared\", \"emailed\"]:\n",
    "        print \"kind can be only one of viewed/shared/emailed\"\n",
    "        return False\n",
    "\n",
    "    url += \"most{0}/{1}/{2}.json\".format(kind, section, days)\n",
    "    data = query_site(url, \"popular\", offset)\n",
    "\n",
    "    return data\n",
    "\n",
    "\n",
    "def save_file(kind, period):\n",
    "    # This will process all results, by calling the API repeatedly with supplied offset value,\n",
    "    # combine the data and then write all results in a file.\n",
    "    data = get_popular(URL_POPULAR, \"viewed\", 1)\n",
    "    num_results = data[\"num_results\"]\n",
    "    full_data = []\n",
    "    with codecs.open(\"popular-{0}-{1}.json\".format(kind, period), encoding='utf-8', mode='w') as v:\n",
    "        for offset in range(0, num_results, 20):        \n",
    "            data = get_popular(URL_POPULAR, kind, period, offset=offset)\n",
    "            full_data += data[\"results\"]\n",
    "        \n",
    "        v.write(json.dumps(full_data, indent=2))\n",
    "\n",
    "\n",
    "#def test():\n",
    "#    titles, urls = article_overview(\"viewed\", 1)\n",
    "#    assert len(titles) == 20\n",
    "#    assert len(urls) == 30\n",
    "#    assert titles[2] == {'Opinion': 'Professors, We Need You!'}\n",
    "#    assert urls[20] == 'http://graphics8.nytimes.com/images/2014/02/17/sports/ICEDANCE/ICEDANCE-thumbStandard.jpg'\n",
    "#\n",
    "#\n",
    "#if __name__ == \"__main__\":\n",
    "#    test()"
   ]
  },
  {
   "cell_type": "code",
   "execution_count": 334,
   "metadata": {
    "collapsed": false
   },
   "outputs": [],
   "source": [
    "save_file(\"viewed\", 1)"
   ]
  },
  {
   "cell_type": "code",
   "execution_count": 335,
   "metadata": {
    "collapsed": false
   },
   "outputs": [],
   "source": [
    "data = get_from_file(\"viewed\", 1)"
   ]
  },
  {
   "cell_type": "code",
   "execution_count": 379,
   "metadata": {
    "collapsed": false
   },
   "outputs": [
    {
     "data": {
      "text/plain": [
       "{u'caption': u'Matt Lauer with Hillary Clinton during Wednesday\\u2019s forum at the Intrepid Sea, Air &amp; Space Museum in Manhattan.',\n",
       " u'copyright': u'Doug Mills/The New York Times',\n",
       " u'media-metadata': [{u'format': u'square320',\n",
       "   u'height': 320,\n",
       "   u'url': u'https://static01.nyt.com/images/2016/09/08/us/08ASSESSweb1/08ASSESSweb1-square320-v2.jpg',\n",
       "   u'width': 320},\n",
       "  {u'format': u'Standard Thumbnail',\n",
       "   u'height': 75,\n",
       "   u'url': u'https://static01.nyt.com/images/2016/09/08/us/08ASSESSweb1/08ASSESSweb1-thumbStandard-v2.jpg',\n",
       "   u'width': 75},\n",
       "  {u'format': u'Normal',\n",
       "   u'height': 133,\n",
       "   u'url': u'https://static01.nyt.com/images/2016/09/08/us/08ASSESSweb1/08ASSESSweb1-articleInline.jpg',\n",
       "   u'width': 190},\n",
       "  {u'format': u'Large',\n",
       "   u'height': 264,\n",
       "   u'url': u'https://static01.nyt.com/images/2016/09/08/us/08ASSESSweb1/08ASSESSweb1-sfSpan-v2.jpg',\n",
       "   u'width': 395},\n",
       "  {u'format': u'Jumbo',\n",
       "   u'height': 715,\n",
       "   u'url': u'https://static01.nyt.com/images/2016/09/08/us/08ASSESSweb1/08ASSESSweb1-jumbo.jpg',\n",
       "   u'width': 1024},\n",
       "  {u'format': u'superJumbo',\n",
       "   u'height': 1429,\n",
       "   u'url': u'https://static01.nyt.com/images/2016/09/08/us/08ASSESSweb1/08ASSESSweb1-superJumbo.jpg',\n",
       "   u'width': 2048},\n",
       "  {u'format': u'square640',\n",
       "   u'height': 640,\n",
       "   u'url': u'https://static01.nyt.com/images/2016/09/08/us/08ASSESSweb1/08ASSESSweb1-square640-v2.jpg',\n",
       "   u'width': 640},\n",
       "  {u'format': u'Large Thumbnail',\n",
       "   u'height': 150,\n",
       "   u'url': u'https://static01.nyt.com/images/2016/09/08/us/08ASSESSweb1/08ASSESSweb1-thumbLarge-v2.jpg',\n",
       "   u'width': 150},\n",
       "  {u'format': u'mediumThreeByTwo210',\n",
       "   u'height': 140,\n",
       "   u'url': u'https://static01.nyt.com/images/2016/09/08/us/08ASSESSweb1/08ASSESSweb1-mediumThreeByTwo210-v2.jpg',\n",
       "   u'width': 210},\n",
       "  {u'format': u'mediumThreeByTwo440',\n",
       "   u'height': 293,\n",
       "   u'url': u'https://static01.nyt.com/images/2016/09/08/us/08ASSESSweb1/08ASSESSweb1-mediumThreeByTwo440-v2.jpg',\n",
       "   u'width': 440}],\n",
       " u'subtype': u'photo',\n",
       " u'type': u'image'}"
      ]
     },
     "execution_count": 379,
     "metadata": {},
     "output_type": "execute_result"
    }
   ],
   "source": [
    "data[0][\"media\"][0]\n"
   ]
  },
  {
   "cell_type": "code",
   "execution_count": 382,
   "metadata": {
    "collapsed": false
   },
   "outputs": [
    {
     "name": "stdout",
     "output_type": "stream",
     "text": [
      "yes\n",
      "0\n",
      "yes\n",
      "1\n",
      "yes\n",
      "2\n",
      "yes\n",
      "3\n",
      "yes\n",
      "4\n",
      "yes\n",
      "5\n",
      "yes\n",
      "6\n",
      "yes\n",
      "7\n",
      "yes\n",
      "8\n",
      "yes\n",
      "9\n",
      "yes\n",
      "10\n",
      "yes\n",
      "11\n",
      "yes\n",
      "12\n",
      "yes\n",
      "13\n",
      "yes\n",
      "14\n",
      "yes\n",
      "15\n",
      "yes\n",
      "16\n",
      "yes\n",
      "17\n",
      "yes\n",
      "18\n",
      "yes\n",
      "19\n",
      "yes\n",
      "20\n",
      "yes\n",
      "21\n",
      "yes\n",
      "22\n",
      "yes\n",
      "23\n",
      "yes\n",
      "24\n",
      "yes\n",
      "25\n",
      "yes\n",
      "26\n",
      "yes\n",
      "27\n",
      "yes\n",
      "28\n",
      "yes\n",
      "29\n",
      "yes\n",
      "30\n",
      "yes\n",
      "31\n",
      "yes\n",
      "32\n",
      "yes\n",
      "33\n",
      "yes\n",
      "34\n",
      "yes\n",
      "35\n",
      "yes\n",
      "36\n",
      "yes\n",
      "37\n"
     ]
    },
    {
     "ename": "IndexError",
     "evalue": "string index out of range",
     "output_type": "error",
     "traceback": [
      "\u001b[0;31m---------------------------------------------------------------------------\u001b[0m",
      "\u001b[0;31mIndexError\u001b[0m                                Traceback (most recent call last)",
      "\u001b[0;32m<ipython-input-382-aac657d7b091>\u001b[0m in \u001b[0;36m<module>\u001b[0;34m()\u001b[0m\n\u001b[1;32m      1\u001b[0m \u001b[0;32mfor\u001b[0m \u001b[0mnum\u001b[0m\u001b[0;34m,\u001b[0m \u001b[0marticle\u001b[0m \u001b[0;32min\u001b[0m \u001b[0menumerate\u001b[0m\u001b[0;34m(\u001b[0m\u001b[0mdata\u001b[0m\u001b[0;34m)\u001b[0m\u001b[0;34m:\u001b[0m\u001b[0;34m\u001b[0m\u001b[0m\n\u001b[0;32m----> 2\u001b[0;31m     \u001b[0;32mfor\u001b[0m  \u001b[0mentry\u001b[0m \u001b[0;32min\u001b[0m \u001b[0marticle\u001b[0m\u001b[0;34m[\u001b[0m\u001b[0;34m\"media\"\u001b[0m\u001b[0;34m]\u001b[0m\u001b[0;34m[\u001b[0m\u001b[0;36m0\u001b[0m\u001b[0;34m]\u001b[0m\u001b[0;34m[\u001b[0m\u001b[0;34m\"media-metadata\"\u001b[0m\u001b[0;34m]\u001b[0m\u001b[0;34m:\u001b[0m\u001b[0;34m\u001b[0m\u001b[0m\n\u001b[0m\u001b[1;32m      3\u001b[0m         \u001b[0;32mif\u001b[0m \u001b[0mentry\u001b[0m\u001b[0;34m[\u001b[0m\u001b[0;34m\"format\"\u001b[0m\u001b[0;34m]\u001b[0m \u001b[0;34m==\u001b[0m \u001b[0;34m'Standard Thumbnail'\u001b[0m\u001b[0;34m:\u001b[0m\u001b[0;34m\u001b[0m\u001b[0m\n\u001b[1;32m      4\u001b[0m             \u001b[0;32mprint\u001b[0m \u001b[0;34m\"yes\"\u001b[0m\u001b[0;34m\u001b[0m\u001b[0m\n\u001b[1;32m      5\u001b[0m             \u001b[0;32mprint\u001b[0m \u001b[0mnum\u001b[0m\u001b[0;34m\u001b[0m\u001b[0m\n",
      "\u001b[0;31mIndexError\u001b[0m: string index out of range"
     ]
    }
   ],
   "source": [
    "for num, article in enumerate(data):\n",
    "    for  entry in article[\"media\"][0][\"media-metadata\"]:\n",
    "        if entry[\"format\"] == 'Standard Thumbnail':\n",
    "            print \"yes\"\n",
    "            print num"
   ]
  },
  {
   "cell_type": "code",
   "execution_count": 340,
   "metadata": {
    "collapsed": true
   },
   "outputs": [],
   "source": [
    "section_title = []\n",
    "for article in data:\n",
    "    dict_data = {article[\"section\"]: article[\"title\"]}\n",
    "    section_title.append(dict_data)"
   ]
  },
  {
   "cell_type": "code",
   "execution_count": 341,
   "metadata": {
    "collapsed": false
   },
   "outputs": [
    {
     "name": "stdout",
     "output_type": "stream",
     "text": [
      "[{u'U.S.': u'Matt Lauer Fields Storm of Criticism Over Clinton-Trump Forum'}, {u'U.S.': u'\\u2018What Is Aleppo?\\u2019 Gary Johnson Asks, in an Interview Stumble'}, {u'Arts': u'Matt Lauer Loses the War in a Battle Between the Candidates'}, {u'World': u'U.S. Rescue Attempt in Afghanistan Missed Western Hostages by Hours'}, {u'Business Day': u'Wells Fargo Fined $185 Million for Fraudulently Opening Accounts'}, {u'Opinion': u'The Black Eyes in Donald Trump\\u2019s Life'}, {u'Technology': u'IPhone 7 and Wireless Headphones: Analyzing Apple\\u2019s Announcements'}, {u'U.S.': u'Justice Dept. Granted Immunity to Specialist Who Deleted Hillary Clinton\\u2019s Emails'}, {u'Opinion': u'Donald Trump Is Lying in Plain Sight'}, {u'U.S.': u'Donald Trump\\u2019s Campaign Stands By Embrace of Putin'}, {u'The Upshot': u'2016 Election Forecast: Who Will Be President?'}, {u'Fashion & Style': u'How a Man Falls in Love'}, {u'Opinion': u'Elizabeth Warren: What Apple Teaches Us About Taxes'}, {u'U.S.': u'Latest Election Polls 2016'}, {u'U.S.': u'Forum Offers Preview of Hillary Clinton and Donald Trump Presidential Debate'}, {u'U.S.': u'Obama on Climate Change: The Trends Are \\u2018Terrifying\\u2019'}, {u'Business Day': u'How to Pick the Fastest Line at the Supermarket'}, {u'U.S.': u'Here\\u2019s What You Missed in the Presidential Forum'}, {u'Opinion': u'A Debate Disaster Waiting to Happen'}, {u'T Magazine': u'Five or Six Things I Didn\\u2019t Know About Brad Pitt, by Marlon James'}, {u'Technology': u'Airbnb Adopts Rules to Fight Discrimination by Its Hosts'}, {u'Technology': u'What\\u2019s Really Missing From the New iPhone: Cutting-Edge Design'}, {u'World': u'Isabelle Dinoire, Recipient of First Partial Facial Transplant, Dies at 49'}, {u'Opinion': u'My Lost Mother\\u2019s Last Receipt'}, {u'U.S.': u'Nancy Pelosi Urges Paul Ryan to Ban Republicans From Using Hacked Documents'}, {u'World': u'Soviet Document Suggests Mahmoud Abbas Was a K.G.B. Spy in the 1980s'}, {u'Science': u'A Quadruple Take on the Giraffe: There are Four Species, Not One'}, {u'Books': u'Anna Dewdney Dies; Author of \\u2018Llama Llama\\u2019 Books Was 50'}, {u'U.S.': u'A Female World War II Pilot Is Finally an Equal at Arlington'}, {u'U.S.': u'Hillary Clinton and Donald Trump at the Presidential Forum: Analysis'}, {u'World': u'North Korea Tests a Mightier Nuclear Bomb, Raising Tension'}, {u'Sports': u'Twins Finish Marathon Hand in Hand, but Their Country Says They Crossed a Line'}, {u'World': u'\\u2018What Is Aleppo?\\u2019 Gary Johnson Asked. Let Us Explain.'}, {u'U.S.': u'Creepy Clown Reports Continue, and Clowns Are Not Happy'}, {u'Health': u'Why I Decided to Stop Writing About My Children'}, {u'Arts': u'Daveed Diggs Jets From \\u2018Hamilton\\u2019 Into the Future'}, {u'World': u'Air China Will Fly You to London, and Warn You About Dark-Skinned People There'}, {u'U.S.': u'Donald Trump\\u2019s Remarks Show He\\u2019s Mistaken on Sexual Assault in Military'}, {u'N.Y. / Region': u'Judge, Citing Inequality, Orders Connecticut to Overhaul Its School System'}, {u'U.S.': u'Not Smiling Enough? Hillary Clinton Says She Will Stay Serious on Vital Issues'}, {u'U.S.': u'Classified Emails and the Iraq War: Fact-Checking the Forum'}, {u'Health': u'Researchers Confront an Epidemic of Loneliness'}, {u'Opinion': u'Hillary Clinton Gets Gored'}, {u'U.S.': u'Ferguson Protest Leader Darren Seals Found Dead in Vehicle'}, {u'Opinion': u'Passing My Disability On to My Children'}, {u'Health': u'As Boys Get Fatter, Parents Worry One Body Part Is Too Small'}, {u'Well': u'Vitamin B12 as Protection for the Aging Brain'}, {u'Magazine': u'Inside Santa Monica High'}, {u'Business Day': u'\\u2018Sully\\u2019 Is Latest Historical Film to Prompt Off-Screen Drama'}, {u'Well': u'What\\u2019s the Value of Exercise? $2,500'}, {u'Fashion & Style': u'At Yosemite, a Mystery Bride and Groom Are Identified'}, {u'U.S.': u'Mike Pence, Breaking With Donald Trump, Says Obama Was Born in America'}, {u'Sports': u'U.S. Open Today: Andy Murray Falls; Serena Williams Survives'}, {u'Travel': u'36 Hours in Cambridge, Mass.'}, {u'Fashion & Style': u'Glam vs. Sham: Tom Ford and Kanye West Face Off on First Day of Fashion Week'}, {u'Magazine': u'Fortress of Tedium: What I Learned as a Substitute Teacher.'}, {u'The Upshot': u'Red States, Blue States: 2016 Is Looking a Lot Like 2012'}, {u'World': u'Camerawoman Who Kicked Refugees in Hungary Is Charged With \\u2018Breach of Peace\\u2019'}, {u'U.S.': u'Campuses Cautiously Train Freshmen Against Subtle Insults'}, {u'Sports': u'Serena Williams Loses Bid for 23rd Major and Her No. 1 Ranking'}, {u'Opinion': u'Glenn Beck: Empathy for Black Lives Matter'}, {u'U.S.': u'Murder Rates Rose in a Quarter of the Nation\\u2019s 100 Largest Cities'}, {u'Arts': u'The Lady Chablis, Sassy Eccentric in \\u2018Midnight in the Garden of Good and Evil,\\u2019 Dies at 59'}, {u'Business Day': u'Geraldo Rivera Apologizes for Supporting Roger Ailes. A Guide to Those Who Defended Him.'}, {u'Opinion': u'Donald Trump\\u2019s \\u2018Big Liar\\u2019 Technique'}, {u'U.S.': u'North Carolina Men Arrested in Hacking Into C.I.A. Director\\u2019s Email'}, {u'Opinion': u'Trump and Clinton Take Up Arms'}, {u'World': u'Taliban Close to Overtaking Afghan Provincial Capital, Officials Say'}, {u'Well': u'Why a Chemical Banned From Soap Is Still in Your Toothpaste'}, {u'Theater': u'Black Lives Matter Benefit Is Canceled Over Stand on Israel'}, {u'World': u'How One of the Deadliest Hajj Accidents Unfolded'}, {u'World': u'Mexico\\u2019s Finance Minister Resigns Amid Fallout From Trump Visit'}, {u'Arts': u'After Her Son\\u2019s Death, Sally Mann Stages a Haunting Show'}, {u'The Upshot': u'Hillary Clinton\\u2019s Lead Has Shrunk: How to Assess the Polls'}, {u'Sports': u'10-Month Ban for Ryan Lochte After Rio Scandal Is Largely Symbolic'}, {u'World': u'American Is Hospitalized in Thailand After Sexual Assault'}, {u'Fashion & Style': u'The Scene at Kanye\\u2019s Show: Long Waits, Sweaty Guests and a Hobbling Model'}, {u'Science': u'Catfished by a Catfish: 1 in 5 Seafood Samples Is Fake, Report Finds'}, {u'Well': u'The Hunger in Our Heads'}, {u'Opinion': u'Who Stole My \\u2018Star Trek\\u2019?'}, {u'Technology': u'Apple Moves Toward a Wireless Future, One Tweak at a Time'}, {u'Briefing': u'Hillary Clinton, Donald Trump, Paralympics: Your Thursday Briefing'}, {u'U.S.': u'Life Got Better Under Obama, According to Gallup'}, {u'Magazine': u'An Effective but Exhausting Alternative to High-School Suspensions'}, {u'World': u'Mont Blanc Cable Car Passengers Are Stranded Aloft Overnight in French Alps'}, {u'Opinion': u'How to Tell a Mother Her Child Is Dead'}, {u'Well': u'Jay Leno\\u2019s Advice for My Dyslexic Son'}, {u'Briefing': u'Gary Johnson, Donald Trump, Wells Fargo: Your Thursday Evening Briefing'}, {u'Technology': u'Apple\\u2019s iPhone 7 and Watch Updates: What You Really Need to Know'}, {u'Science': u'Flooding of Coast, Caused by Global Warming, Has Already Begun'}, {u'Business Day': u'Lloyd Carney: Think You\\u2019re Irreplaceable? Take the Bucket Test'}, {u'U.S.': u'California Today: No, Cal State Isn\\u2019t Creating Segregated Housing'}, {u'Sports': u'Tim Tebow Signs Minor League Deal With Mets'}, {u'Arts': u'Johan Botha, Operatic Tenor in Difficult Roles, Dies at 51'}, {u'World': u'Bad Luck and Worse Manners Tarnish Obama\\u2019s Asia Trip'}, {u'U.S.': u'Fact-Checking Donald Trump\\u2019s National Security Speech'}, {u'Opinion': u'Home Is Where the Parking Lot Is'}, {u'Opinion': u'Voter Suppression in North Carolina'}, {u'Sports': u'In Glasgow, a Most Bitter Rivalry Takes Root Again'}, {u'U.S.': u'Creepy Clown Sightings in South Carolina Cause a Frenzy'}, {u'U.S.': u'Missouri Woman Is Miss America Pageant\\u2019s First Openly Lesbian Contestant'}, {u'U.S.': u'\\u2018I Want to Win Someday\\u2019: Tribes Make Stand Against Pipeline'}, {u'Crosswords & Games': u'KENKEN\\xae Puzzles'}, {u'Fashion & Style': u'The 36 Questions That Lead to Love'}, {u'U.S.': u'Evangelicals Ignore G.O.P. by Embracing Syrian Refugees'}, {u'Sports': u'Fantasy Football: Players to Start in Week 1'}, {u'U.S.': u'Jill Stein, Green Party Candidate, Is Charged Over Role in Pipeline Protest'}, {u'The Upshot': u'Is Sushi \\u2018Healthy\\u2019? What About Granola? Where Americans and Nutritionists Disagree'}, {u'World': u'Regards \\u2018chang\\xe9s\\u2019 et \\u2018langues d\\xe9li\\xe9es\\u2019 : Des musulmanes \\xe9voquent l\\u2019Europe d\\u2019aujourd\\u2019hui'}, {u'World': u'Britain and France to Begin Work on Wall Near Calais to Keep Migrants From Channel Tunnel'}, {u'Magazine': u'Fractured Lands: How the Arab World Came Apart'}, {u'Fashion & Style': u'Odell Beckham Jr. Responds to the Lena Dunham Dust-Up: \\u2018I Have to Learn More About the Situation\\u2019'}, {u'Sports': u'Mets and Yankees Are Suddenly a Hot Story'}, {u'Well': u'Writing a \\u2018Last Letter\\u2019 When You\\u2019re Healthy'}, {u'Well': u'What Kids Wish Their Teachers Knew'}, {u'Education': u'Four Steps to Choosing a College Major'}, {u'Health': u'F.D.A. Bans Sale of Many Antibacterial Soaps, Saying Risks Outweigh Benefits'}, {u'World': u'Days After Slur, Obama and Rodrigo Duterte of Philippines Meet Briefly'}, {u'Sports': u'Houston Goes All Out to Gain Entry to Big 12'}, {u'N.Y. / Region': u'Long-Lost 9/11 Flag, an Enduring Mystery, Will Go on View at Museum'}, {u'U.S.': u'Donald Trump\\u2019s Donation Is His Latest Brush With Campaign Fund Rules'}, {u'U.S.': u'Hillary Clinton Says Donald Trump Doesn\\u2019t Measure Up on Foreign Policy'}, {u'World': u'\\u2018Don\\u2019t Erase Us\\u2019: French Catalans Fear Losing More Than a Region\\u2019s Name'}, {u'Sports': u'Serena Williams\\u2019s Backhand'}, {u'World': u'After Mass Knife Attack in Japan, Disabled Victims Are Still in the Shadows'}, {u'Arts': u'A Boogie Wit Da Hoodie Modernizes New York Hip-Hop'}, {u'Fashion & Style': u'How to Buy a Vintage Watch (and Not Get Fleeced)'}, {u'U.S.': u'California Today: Vaccinate Schoolchildren or Keep Them Home'}, {u'World': u\"7 Detained Over Gas Canisters Found Near Paris' Notre Dame\"}, {u'Opinion': u'The Paranoid Style in American Politics Is Back'}, {u'Sports': u'Kei Nishikori Upsets Andy Murray to Reach U.S. Open Semifinals'}, {u'Fashion & Style': u'Rita Ora, Julianne Moore and Tom Hanks at the Tom Ford Show'}, {u'Movies': u'Review: Sully Landed the Plane. Then He Had to Endure the Spotlight.'}, {u'Arts': u'\\u2018Mr. Robot\\u2019 Season 2, Episode 10: Anatomy of a Murder'}, {u'U.S.': u'North Dakota Oil Pipeline Battle: Who\\u2019s Fighting and Why'}, {u'Opinion': u'You\\u2019re How Old? We\\u2019ll Be in Touch'}, {u'World': u'A Critic\\u2019s Lonely Quest: Revealing the Whole Truth About Mother Teresa'}, {u'World': u'In Siberia, a \\u2018Blood River\\u2019 in a Dead Zone Twice the Size of Rhode Island'}, {u'U.S.': u'Trump\\u2019s Love for Putin: a Presidential Role Model'}, {u'Opinion': u'Why You Will Marry the Wrong Person'}, {u'Science': u'Obama Unlikely to Vow No First Use of Nuclear Weapons'}, {u'U.S.': u'Obama Nominates First Muslim to Be a Federal Judge'}, {u'U.S.': u'Highlights of Hillary Clinton\\u2019s News Conference'}, {u'Business Day': u'Which Fox Personalities Rushed to Defend Roger Ailes? A Guide'}, {u'Business Day': u'A Push to Lower Drug Prices That Hit Insurers and Employers the Hardest'}, {u'The Upshot': u'The Geography of U.S. Inequality'}, {u'Magazine': u'What Google Learned From Its Quest to Build the Perfect Team'}, {u'Technology': u'Dell Gets Bigger and Hewlett Packard Gets Smaller in Separate Deals'}, {u'Business Day': u'Downfall of ITT Technical Institutes Was a Long Time in the Making'}, {u'World': u'After Edward Snowden Fled U.S., Asylum Seekers in Hong Kong Took Him In'}, {u'Technology': u'Organizing Your Thoughts With Note-Taking Apps'}, {u'World': u'Obama Plays Down Confrontation With China Over His Plane\\u2019s Stairs'}, {u'Technology': u'Amazon Has a Potent Weapon in the Tablet Wars: Low Prices'}, {u'U.S.': u'On Israeli TV, Hillary Clinton Says Terrorists Are Praying for a Trump Victory'}, {u'Movies': u'In \\u2018Sully,\\u2019 New York Is Clint Eastwood\\u2019s Latest Star'}, {u'Opinion': u'We Are All Noah Now'}, {u'World': u'What Muslims Do on Hajj, and Why'}, {u'Opinion': u'The Gift of Clinton'}, {u'U.S.': u'Donald Trump Is Endorsed by Nearly 90 Military Figures'}, {u'World': u'\\u2018I\\u2019ve Become a Racist\\u2019: Migrant Wave Unleashes Danish Tensions Over Identity'}, {u'The Upshot': u'A Study on Fats That Doesn\\u2019t Fit the Story Line'}, {u'Opinion': u'The Dumbed Down Democracy'}, {u'Sports': u'Colin Kaepernick\\u2019s Anthem Protest Leaves the N.F.L. Necessarily Uneasy'}, {u'World': u'North Korea\\u2019s Nuclear Blasts Keep Getting Stronger'}, {u'Business Day': u'Fox Settles With Gretchen Carlson Over Roger Ailes Sex Harassment Claims'}, {u'World': u'The Latest: Obama Condemns North Korean Nuclear Test'}, {u'N.Y. / Region': u'1 World Trade Center Gains Popularity in the Pantheon of New York Kitsch'}, {u'Arts': u'Arts Center at Ground Zero Has a New Design, and Barbra Streisand in Charge'}, {u'Well': u'The Woolly Wisdom in the \\u2018Llama Llama\\u2019 Books'}, {u'Opinion': u'What Religion Would Jesus Belong To?'}, {u'Sports': u'U.S. Open Match Draws Scrutiny by Betting Investigators'}, {u'U.S.': u'Bill Clinton, After a Year of Restraint, Unleashes an Impassioned Self-Defense'}, {u'N.Y. / Region': u'Crux of Connecticut Judge\\u2019s Grim Ruling: Schools Are Broken'}, {u'U.S.': u'Souring on Donald Trump, Republicans Pour Money Into Senate Races'}, {u'Opinion': u'Pondering Miracles, Medical and Religious'}, {u'Sports': u'Roger Goodell\\u2019s Power Play'}, {u'The Upshot': u'This small Indiana county sends more people to prison than San Francisco and Durham, N.C., combined. Why?'}, {u'World': u'Mystery Surrounds Car With Gas Containers Found in Paris Near Notre Dame'}, {u'U.S.': u'Senate Votes to Require Women to Register for the Draft'}, {u'Health': u'Posture Affects Standing, and Not Just the Physical Kind'}, {u'The Upshot': u'Full \\u2018Medical Records\\u2019 for Trump and Clinton? That\\u2019s Fiction'}, {u'Sunday Review': u'How Y&rsquo;all, Youse and You Guys Talk'}, {u'Arts': u'Another Side of Bob Dylan: Iron Sculptor'}, {u'World': u'After Obama Cancels Talk, Rodrigo Duterte of Philippines Says He Regrets Slur'}, {u'Arts': u'A George Carlin Special Too Raw After Sept. 11 Resurfaces Now'}, {u'Arts': u'The Best TV Shows and Movies New to Netflix, Hulu and More In September'}, {u'U.S.': u'Donald Trump Releases Education Proposal, Promoting School Choice'}, {u'U.S.': u'What Would It Take for Donald Trump to Deport 11 Million and Build a Wall?'}, {u'U.S.': u'Drug Linked to Ohio Overdoses Can Kill in Doses Smaller than a Snowflake'}, {u'World': u'Ethiopian Runner Won\\u2019t Return Home, but Doesn\\u2019t Know Where to Go'}, {u'Books': u'In Ann Patchett\\u2019s \\u2018Commonwealth,\\u2019 Knotting and Unknotting the Ties That Bind'}, {u'U.S.': u'Geologist Sees Clues, and Further Dangers, in Puzzle of Oklahoma\\u2019s Earthquakes'}, {u'Real Estate': u'Westfield, N.J., Where Small Town Meets Urban'}, {u'Travel': u'New to Airbnb? How to Make It Work for You'}, {u'T Magazine': u'All You Need to Know About Fashion Week'}, {u'Opinion': u'What Trump Doesn\\u2019t Understand About the Military'}, {u'U.S.': u'Oregon Police Look for People Who Wrecked Popular \\u2018Duckbill\\u2019 Formation'}, {u'Technology': u'Keeping Your Old Phone Alive and Working'}, {u'U.S.': u'45,000 Pounds of Would-Be Pennies Coat Highway After Delaware Crash'}, {u'U.S.': u'Win or Lose, Donald Trump Is Coming to Pennsylvania Avenue (With His New Hotel)'}, {u'Travel': u'Do You Really Need Rental Car Insurance? 8 Things to Know'}, {u'Opinion': u'Pay to Play, Mr. Trump?'}, {u'N.Y. / Region': u'The Title: Parent Coordinator. The Job: Whatever Needs to Be Done.'}, {u'Briefing': u'North Korea, Wells Fargo, Serena Williams: Your Friday Briefing'}, {u'World': u'Obama, Acknowledging U.S. Misdeeds Abroad, Quietly Reframes American Power'}, {u'World': u'Obama Puts South China Sea Back on Agenda at Summit'}, {u'U.S.': u'Occupying the Prairie: Tensions Rise as Tribes Move to Block a Pipeline'}, {u'Podcasts': u'There\\u2019s a Lot We Need to Talk About'}, {u'World': u'Defense Secretary Warns Russia to Stay Out of U.S. Elections'}, {u'Health': u'Short Answers to Hard Questions About Zika Virus'}, {u'Sports': u'Yankees\\u2019 Bryan Mitchell Is Stellar in Long-Awaited Debut'}, {u'U.S.': u'Senate Democrats Block Zika Bill Over Planned Parenthood Provisions'}, {u'Opinion': u'Time for a Realignment'}, {u'U.S.': u'Donald Trump vs. Hillary Clinton: Where They Stand on Education'}, {u'N.Y. / Region': u'New York City\\u2019s Firefighting Arsenal Will Soon Include Drones'}, {u'Movies': u'Ren\\xe9e Zellweger Is Back and Standing Up for Herself'}, {u'Opinion': u'Where Are Veterans at Our Elite Colleges?'}, {u'World': u'China\\u2019s Tech-Savvy, Burned-Out and Spiritually Adrift, Turn to Buddhism'}, {u'U.S.': u'Measure 97, Seeking to Raise Corporate Taxes, Splits Oregon Voters'}, {u'Sports': u'Simona Halep Puts Up a Fight, but Serena Williams Rolls On to a Semifinal'}, {u'Opinion': u'Save the Republican Party: Vote for Clinton'}, {u'U.S.': u'What We Know About Hillary Clinton\\u2019s Private Email Server'}, {u'Theater': u'Sorry About That: Wells Fargo to End Ads Suggesting Science Over Arts'}, {u'U.S.': u'Who Is Running for President?'}, {u'Opinion': u'Veterans as Props on NBC\\u2019s Commander-in-Chief Forum'}, {u'Business Day': u'Intel Sells Majority Stake in McAfee Security Unit to TPG'}, {u'Opinion': u'How Do You Get to Be a Governor in Vladimir Putin\\u2019s Russia?'}, {u'U.S.': u'Phyllis Schlafly, \\u2018First Lady\\u2019 of a Political March to the Right, Dies at 92'}, {u'N.Y. / Region': u'L.I.U.-Brooklyn Locks Out Professors Amid Contract Dispute'}, {u'Travel': u'How to Have a Happy Vacation With Friends'}, {u'Sports': u'Novak Djokovic\\u2019s Roller Coaster Season Turns Into Smooth Sailing at U.S. Open'}, {u'Fashion & Style': u'My Son Seems Happy at College. But Is He?'}, {u'U.S.': u'Veterans Back on Patrol, This Time to Protect Marijuana'}, {u'U.S.': u'Donald Trump\\u2019s Draft Deferments: Four for College, One for Bad Feet'}, {u'The Upshot': u'Relatively Few People Are Partisan News Consumers, but They\\u2019re Influential'}, {u'Sports': u'Relying on Smarts and Serve, Stan Wawrinka Halts Juan Mart\\xedn del Potro'}, {u'Technology': u'When I\\u2019m Mistakenly Put on an Email Chain, Should I Hit \\u2018Reply All\\u2019 Asking to Be Removed?'}, {u'Magazine': u'The Limits of Lauer'}, {u'Sports': u'A Paralympian Races to Remove Obstacles for the Next Generation'}, {u'World': u'Hajj Prep: Search Soul, Buy Sturdy Shoes, Pay the Dentist'}, {u'Books': u'On Being a Black Female Math Whiz During the Space Race'}, {u'Books': u'Alan Moore: By the Book'}, {u'U.S.': u'Modest to Majestic: A Look at Hillary and Bill Clinton\\u2019s Homes Over the Years'}, {u'Business Day': u'\\u2018Rolling Coal\\u2019 in Diesel Trucks, to Rebel and Provoke'}, {u'World': u'\\u2018Facekini\\u2019-Wearing Chinese Stand Up for the Right to Bare Nothing'}, {u'Sports': u'Kei Nishikori Takes a New Approach and Solves Andy Murray'}, {u'Sports': u'Farewell to Armstrong'}, {u'N.Y. / Region': u'New York Today: Rulers and Runways'}, {u'U.S.': u'Libertarian Gary Johnson Polls at 10 Percent. Who Are His Supporters?'}, {u'Opinion': u'Crying Wolf, Then Confronting Trump'}, {u'N.Y. / Region': u'Toronto\\u2019s Transit Advice for New York: Give Streetcars Their Own Lanes'}, {u'World': u'Doctors in Aleppo Tend to Scores of Victims in Gas Attack'}, {u'Opinion': u'The Class Politics of Decluttering'}, {u'World': u'Pressing Asia Agenda, Obama Treads Lightly on Human Rights'}, {u'Science': u'NASA Launches the Osiris-Rex Spacecraft to Asteroid Bennu'}, {u'Business Day': u'Presidential Debate Moderators Are Set, With Lester Holt for the First'}, {u'U.S.': u'Have You Done Something to Support or Oppose Trump\\u2019s Brands?'}, {u'Well': u'Vitamin D May Reduce Asthma Attacks'}, {u'U.S.': u'Donald Trump Vows to Bolster Nation\\u2019s Military Capacities'}, {u'U.S.': u'New National Poll Shows Donald Trump and Hillary Clinton Essentially Tied'}, {u'U.S.': u'What to Know About Election 2016 Today'}, {u'Books': u'\\u2018Here I Am,\\u2019 Jonathan Safran Foer\\u2019s Tale of a Fracturing Family'}, {u'World': u\"Putin's Popularity: The Envy of Other Politicians\"}, {u'Opinion': u'Obama Leaves Unfinished Business in Asia'}, {u'U.S.': u'Hundreds of Pounds Lighter, and Now Shedding Another Burden of the Past'}, {u'Opinion': u'Making Modern Toughness'}, {u'World': u'Leaving Asia, Obama Predicts U.S. Tilt Toward Region Will Be Lasting'}, {u'Business Day': u'Why Airgas Was Finally Sold, for $10 Billion Instead of $5 Billion'}, {u'Science': u'A 3.2-Million-Year-Old Mystery: Did Lucy Fall From a Tree?'}, {u'Travel': u'Five Places to Go in D.C.\\u2019s North Shaw Neighborhood'}, {u'World': u'Some See Anti-Women Backlash in Ouster of Brazil\\u2019s President'}, {u'Business Day': u'China\\u2019s Big Debt Worries George Soros. Should It Worry You?'}, {u'World': u'The Dog That\\u2019s Stealing Asians\\u2019 Hearts'}, {u'T Magazine': u'An Iconic Graphic Designer on His Process'}, {u'World': u'Mysterious Blast in Philippines Fuels Rodrigo Duterte\\u2019s \\u2018Hatred\\u2019 of U.S.'}, {u'Fashion & Style': u'New York Fashion Week, Day 1: Kanye West and Tom Ford Lead the Charge'}, {u'Fashion & Style': u'What 4 Fabulous New Yorkers Bought for Fall'}, {u'Technology': u'No \\u2018For Sale\\u2019 Sign? Silicon Valley Buyers Aren\\u2019t Deterred'}, {u'The Upshot': u'2016 Senate Election Forecast'}, {u'U.S.': u'Tensions Deepen Between Donald Trump and R.N.C.'}, {u'Multimedia': u'Capturing Complexity and Color in Mexico'}, {u'World': u'How Some Chinese Men Meet Summer\\u2019s Swelter: With Midriff Bare and Bulging'}, {u'Technology': u'How Spy Tech Firms Let Governments See Everything on a Smartphone'}, {u'Travel': u'52 Places to Go in 2016'}, {u'World': u'Suspicions Confirmed: Couple Faked Photographs in Everest Climb'}, {u'Food': u'The 2016 Fall Restaurant Preview'}, {u'Opinion': u'Angela Merkel\\u2019s Loyalty Test for German Turks'}, {u'Movies': u'Mike Birbiglia\\u2019s 6 Tips for Making It Small in Hollywood. Or Anywhere.'}, {u'N.Y. / Region': u'Want to Work in 18 Miles of Books? First, the Quiz'}, {u'Sports': u'Novak Djokovic to Face Ga\\xebl Monfils in U.S. Open Semifinal'}, {u'Books': u'She Was No Bird: \\u2018Jane Eyre\\u2019 Manuscript on First Trip to America'}, {u'Briefing': u'Donald Trump, Hillary Clinton, iPhone: Your Wednesday Evening Briefing'}, {u'World': u\"Nigeria Facing 'a Famine Unlike Any We Have Ever Seen'\"}, {u'U.S.': u'Hillary Clinton Unveils New Plane, and Lets Journalists On Board'}, {u'Business Day': u'Ford Expands Costly Door Latch Recall'}, {u'Sports': u'New Wave of American Soccer Players in Europe Bucks a Trend'}, {u'U.S.': u'Young Blacks Voice Skepticism on Hillary Clinton, Worrying Democrats'}, {u'Magazine': u'Inside Facebook\\u2019s (Totally Insane, Unintentionally Gigantic, Hyperpartisan) Political-Media Machine'}, {u'U.S.': u'With Koch Brothers Academy, Conservatives Settle In for Long War'}, {u'Health': u'The Scientific 7-Minute Workout'}, {u'Movies': u'Toronto Film Festival: Just Don\\u2019t Call Them \\u2018Black Films\\u2019'}, {u'Health': u'When a Child Thinks Life Is Unfair, Use Game Theory'}, {u'Business Day': u'Hedge Fund and Cybersecurity Firm Team Up to Short-Sell Device Maker'}, {u'Theater': u'Review: In \\u2018Spamilton,\\u2019 Broadway\\u2019s Savior Meets His Match. It\\u2019s Not Burr.'}, {u'Books': u'9 Great Books to Start Off September'}, {u'Science': u'Scientists See Push From Climate Change in Louisiana Flooding'}, {u'Opinion': u' America\\u2019s Shocking Maternal Deaths'}, {u'T Magazine': u'New Models to Watch This Season'}, {u'Opinion': u'A Hero\\u2019s Burial for a Long-Dead Dictator'}, {u'Opinion': u'Taking a Stand at Standing Rock'}, {u'T Magazine': u'The Emails of Natalie Portman and Jonathan Safran Foer'}, {u'U.S.': u'At Least 110 Republican Leaders Won\\u2019t Vote for Donald Trump. Here\\u2019s When They Reached Their Breaking Point.'}, {u'The Upshot': u'Is It Better to Rent or Buy?'}, {u'Magazine': u'Letter of Recommendation: Glass Bricks'}, {u'Fashion & Style': u'Everything You Need to Know About This Crazy, Mixed-Up, (Maybe) Very Good Season'}, {u'Movies': u'7 Indie Films You Need to Know About '}, {u'Public Editor': u'\\u2018Leave the Editorializing to Our Colleagues on the Opinion Side\\u2019'}, {u'Sports': u'Broncos Rally Past Panthers in Season-Opening Rematch of Super Bowl 50'}, {u'Business Day': u'Driscoll\\u2019s Aims to Hook the Berry-Buying Shopper'}, {u'Business Day': u'In Sweden, an Experiment Turns Shorter Workdays Into Bigger Gains'}, {u'Fashion & Style': u'The First Shows'}, {u'Theater': u'Playing a \\u2018Game\\u2019 to Reveal Uncomfortable Truths About Race'}, {u'Business Day': u'ITT Educational Services Closes Campuses'}, {u'N.Y. / Region': u'New York Can\\u2019t Block Late-Term Abortion in Certain Cases, Schneiderman Says'}, {u'Sports': u'Usain Bolt and the Fastest Men in the World Since 1896 \\u2013 on the Same Track'}, {u'Books': u'New Self-Help Books for Pet Parents'}, {u'Opinion': u'Do Your Friends Actually Like You?'}, {u'Sports': u'Liberty Media Buys Formula One for $4.4 Billion'}, {u'Business Day': u'A Temp Agency That Gives Ex-Inmates a Job, and a Ride to Work'}, {u'Arts': u'Is the National Anthem Racist? Beyond the Debate Over Colin Kaepernick'}, {u'Technology': u\"NFL Games Are All Going Online, but Watching Won't Be Easy\"}, {u'World': u'Erdogan Says Turkey Would Join U.S. to Fight ISIS in Raqqa, an ISIS Bastion in Syria'}, {u'Fashion & Style': u'New York Fashion Week, Day 2: What You Need to Know'}, {u'T Magazine': u'A Bohemian Surf Town in Bali, Where Serenity Rules'}, {u'Arts': u'Review: In FX\\u2019s \\u2018Atlanta,\\u2019 a Princeton Dropout Works the Angles Back Home'}, {u'Sports': u\"No More Tears: Stan Wawrinka Ends Del Potro's US Open Run\"}, {u'World': u'Passengers Trapped Overnight in Mont Blanc Cable Cars Are Rescued'}, {u'Sports': u'Angelique Kerber Reaches the U.S. Open Final'}, {u'World': u'Decoding North Korea\\u2019s Claim of a Successful Nuclear Test'}, {u'U.S.': u'\\u2018Super PAC\\u2019 Backing Hillary Clinton Pulls In Largest Fund-Raising Haul Yet'}, {u'U.S.': u'Court Filing Accuses Texas of Misleading Voters Without IDs'}, {u'World': u'Groups Urge UN Human Rights Council Over Ethiopia Protests'}, {u'U.S.': u'Donald Trump Says Hillary Clinton Doesn\\u2019t Have \\u2018a Presidential Look\\u2019'}, {u'Opinion': u'The Incredible Shrinking Obamacare'}, {u'Arts': u'Bruce Nauman, Art Provocateur, Returns. Are You Ready?'}, {u'Business Day': u'How Uber Drivers Decide How Long to Work'}, {u'Magazine': u'Once a Bucknell Professor, Now the Commander of an Ethiopian Rebel Army'}, {u'Opinion': u'The Conscience of the Contrarian Voter'}, {u'U.S.': u'Clinton and Trump Each Lay Claim to Military Brass'}, {u'Business Day': u'Raghuram Rajan, India\\u2019s Departing Central Banker, Has a New Warning'}, {u'Business Day': u'A Cleaning Start-Up Wielding Mops, Buckets and 700 Data Points'}, {u'U.S.': u'Zika Bill Is Blocked by Senate Democrats Upset Over Provisions'}, {u'Magazine': u'For Gay and Transgender Teens, Will It Get Better?'}, {u'Sports': u'Serena Williams\\u2019s Young Rivals Are Posing Questions She Can\\u2019t Answer'}, {u'Opinion': u'My Moviegoing Is Over'}, {u'World': u'Unusual N. Korea Seismic Activity Likely Means 5th Nuke Test'}, {u'World': u'An Afghan Father-Son Tale Takes a Fatal Turn, but Does Not End'}, {u'U.S.': u'Hillary Clinton Emphasizes Importance of Faith to Black Audience'}, {u'Sports': u'Why Colin Kaepernick Didn\\u2019t Stand for the National Anthem'}, {u'The Upshot': u'Money, Race and Success: How Your School District Compares'}, {u'U.S.': u'Wells Fargo Fined $185 Million for Improper Account Openings'}, {u'Travel': u'To Tip or Not to Tip Your Uber Driver'}, {u'Books': u'Hillary\\u2019s First 100 Days'}, {u'Magazine': u'When a Food Craving Won\\u2019t Let Go'}, {u'Science': u'NASA Launches Osiris-Rex Spacecraft to Retrieve Asteroid Pieces'}, {u'Opinion': u'Late to the Fight Against Predator Schools'}, {u'T Magazine': u'The Glass Apartment Hidden in Plain Sight'}, {u'U.S.': u'Where Has Hillary Clinton Been? Ask the Ultrarich'}, {u'T Magazine': u'Projects Not to Miss at the London Design Biennale'}, {u'World': u'Egypt\\u2019s Christians Say They Are at a \\u2018Breaking Point\\u2019'}, {u'Technology': u'Goodbye, Ivory Tower. Hello, Silicon Valley Candy Store.'}, {u'Food': u'At Thomas Keller\\u2019s Per Se, Slips and Stumbles'}, {u'Food': u'New Food Halls and Markets in New York'}, {u'Business Day': u'Workers Paid by Card Will Gain Protections in New York State'}, {u'Opinion': u'Thinking About Brexit, Fast and Slow'}, {u'World': u'\\u2018The Way People Look at Us Has Changed\\u2019: Muslim Women on Life in Europe'}, {u'N.Y. / Region': u'G.E. Spent Years Cleaning Up the Hudson. Was It Enough?'}, {u'Opinion': u'Second Thoughts of an Animal Researcher'}, {u'Fashion & Style': u'The Internet Thinks I\\u2019m Still Pregnant'}, {u'U.S.': u'With Degree Debunked, Melania Trump Website Is Taken Down'}, {u'World': u'45 People Stuck Overnight in Cable Cars at Mont Blanc'}, {u'Fashion & Style': u'When Love Isn\\u2019t as Simple as Standing by Your Man'}, {u'Opinion': u'For a Long Life, Retire to Manhattan'}, {u'Travel': u'On the Via Francigena in Tuscany, Monasteries and Fellowship'}, {u'Opinion': u'Keep Bikes Off Our Wilderness Trails'}, {u'U.S.': u'Yosemite Park Announces Largest Expansion in 67 Years'}, {u'Opinion': u'Babies Watching People Eat'}, {u'Food': u'As Not Seen on TV'}, {u'Well': u'Tips to Help Your Child Have a Successful School Year'}, {u'World': u'UK Lawmakers Told to Vacate Crumbling Parliament for Repairs'}, {u'Food': u'A Wave of Japanese Restaurants With a Twist'}, {u'Arts': u'Vertamae Smart-Grosvenor Dies at 79; Celebrated Gullah Food and Culture on NPR'}, {u'Movies': u'Gene Wilder Dies at 83; Star of \\u2018Willy Wonka\\u2019 and \\u2018Young Frankenstein\\u2019'}, {u'Travel': u'Riding the Rails to the Summer of Love'}, {u'Business Day': u'Inside Amazon: Wrestling Big Ideas in a Bruising Workplace'}, {u'Your Money': u'Love and Burnout: Caregivers, Too, Need Care'}, {u'World': u'Israel to Build Underground Barrier Against Hamas'}, {u'Business Day': u'No Clear Logic in Verizon\\u2019s Digital Media Venture'}, {u'Science': u'Female Scientists Turn to Data to Fight Lack of Representation on Panels'}, {u'Arts': u'Stevie Nicks on Her Fleetwood Mac \\u2018Team,\\u2019 Solo Joys and the 2016 Election'}, {u'Business Day': u'No, the Internet Has Not Killed the Printed Book. Most People Still Prefer Them.'}, {u'Health': u'How to Ride Downhill on a Bicycle'}, {u'Opinion': u'England\\u2019s Reflexive Pronoun Epidemic'}, {u'Movies': u'Nitehawk to Open a Second Cinema in Brooklyn'}, {u'Magazine': u'Making House: Notes on Domesticity'}, {u'Business Day': u'BuzzFeed Regroups as Media Turns Video-Centric'}, {u'Books': u'The Return of Omniscience'}, {u'Fashion & Style': u'This Show Was Garbage. No, We\\u2019re Not Mean. It Literally Was.'}, {u'U.S.': u'Virginia Officials Request U.S. Inquiry After Inmate Deaths in Jail'}, {u'Opinion': u'Anne Frank Today Is a Syrian Girl'}, {u'Health': u'Read Books, Live Longer?'}, {u'Arts': u'Freddie Mercury Now Races Around the Sun'}, {u'World': u'Valls critique un article du New York Times donnant la parole aux musulmanes'}, {u'Technology': u'Extending the Power of OS X Photos'}, {u'Health': u'Using Meditation to Help Close the Achievement Gap'}, {u'Automobiles': u'Your Car\\u2019s New Software Is Ready. Update Now?'}, {u'U.S.': u'John R. Coleman, Haverford President Who Explored Blue-Collar Life, Dies at 95'}, {u'Business Day': u'F.A.A. \\u2018Strongly Advises\\u2019 Against Using Samsung Galaxy Note 7 Onboard Planes'}, {u'Sports': u'Around the Grand Slam Circuit, an Exclusive Club, With Elusive Perks'}, {u'Arts': u'Review: M.I.A.\\u2019s Album \\u2018AIM\\u2019 Juggles Social Consciousness and Self-Assurance'}, {u'Food': u'Our Restaurant Critic Goes National. First Stop: California.'}, {u'Real Estate': u'House Hunting in ... Chile'}, {u'Arts': u'\\u2018Narcos\\u2019 Season 2 Episode 4: No One Escapes'}, {u'World': u'A Saudi Morals Enforcer Called for a More Liberal Islam. Then the Death Threats Began.'}, {u'Sports': u'Youth Is Rising to the Top of the Sailing World'}, {u'World': u'Obama Acknowledges Scars of America\\u2019s Shadow War in Laos'}, {u'Magazine': u'Edward Snowden\\u2019s Long, Strange Journey to Hollywood'}, {u'Business Day': u'The Crumbling Case for a Mexican Border Wall'}, {u'U.S.': u'Joe Biden to Lead New Push for Senate Vote on Merrick Garland'}, {u'Opinion': u'Donald Trump Does Detroit'}, {u'U.S.': u'Photo of F.S.U. Football Star Sitting With Boy Eating Alone at School Charms Internet'}, {u'U.S.': u'Hillary Clinton Piles Up Research in Bid to Needle Donald Trump at First Debate'}, {u'Books': u'Overselling A.D.H.D.: A New Book Exposes Big Pharma\\u2019s Role'}, {u'N.Y. / Region': u'What\\u2019s Next for the New York Subway? Toronto Already Knows'}, {u'Business Day': u'Oil Prices: What\\u2019s Behind the Drop? Simple Economics'}, {u'World': u'Clubbers Lament Demise of Fabric, a \\u2018Totem\\u2019 of London\\u2019s Dance Scene'}, {u'World': u'New Push for Taiwan\\u2019s Representation at the United Nations'}, {u'Sports': u'Tyler Austin\\u2019s Homer in Bottom of Ninth Lifts Yanks to a Win'}, {u'World': u'Obama Takes a Detour to Reconnect With Southeast Asia'}, {u'Travel': u'How to Go to Cuba Now'}, {u'U.S.': u'Air Force, Running Low on Drone Pilots, Turns to Contractors in Terror Fight'}, {u'World': u'Venezuelan President Is Chased by Angry Protesters'}, {u'Opinion': u'The Hidden Scars All Refugees Carry'}, {u'Opinion': u'Is Donald Trump a Racist?'}, {u'Travel': u'36 Hours in the Cinque Terre, Italy'}, {u'Business Day': u'Yes, the News Can Survive the Newspaper'}, {u'Travel': u'Amsterdam, Revisited'}, {u'Magazine': u'My Wife Wants to Adopt. When Do I Tell Her I Won\\u2019t?'}, {u'N.Y. / Region': u'Here\\u2019s Lucy! \\u2018Scary\\u2019 Statue Is Replaced With One That Looks Like Her'}, {u'U.S.': u'U.S. Reaches Goal of Admitting 10,000 Syrian Refugees. Here\\u2019s Where They Went.'}, {u'Fashion & Style': u'13 Questions to Ask Before Getting Married'}, {u'U.S.': u'F.B.I. Papers Offer Closer Look at Hillary Clinton Email Inquiry'}, {u'Real Estate': u'A Bed-Stuy Two-Family, With Bird Song'}, {u'World': u'Top Palestinian Court Postpones Oct. 8 Municipal Elections'}, {u'Technology': u'Keeping Your Files Safe in the Sky'}, {u'Business Day': u'Joanna Coles, Cosmopolitan Editor, Named to New Job at Hearst'}, {u'Opinion': u'Australia Needs the United States to Keep China in Check'}, {u'Food': u'The Same, Only Different: Designing a New Union Square Cafe'}, {u'N.Y. / Region': u'How to Put a Museum Exhibition Together (Hint: Start With Cash)'}, {u'Health': u'For Freshmen, Campus Life Poses New Risks'}, {u'T Magazine': u'Five New Designers Debuting This Season'}, {u'N.Y. / Region': u'A False Conviction Is Overturned, but the System That Allowed It Remains'}, {u'N.Y. / Region': u'Prosecutors Describe Bungled Robbery in Killing of Hasidic Landlord'}, {u'The Upshot': u'The Formula for a Richer World? Equality, Liberty, Justice'}, {u'U.S.': u'Georgetown University Plans Steps to Atone for Slave Past'}, {u'Opinion': u'Fifty States of Anxiety'}, {u'U.S.': u'Will Gary Johnson Make the Presidential Debates?'}, {u'Your Money': u'How to Assess Private Flood Insurance'}, {u'Business Day': u'Lawsuits Over ITT Shutdown Are Just Starting'}, {u'World': u'Zimbabwe Follows Robert Mugabe\\u2019s Health by Following His Plane'}, {u'Opinion': u'A Life of Meaning (Reason Not Required)'}, {u'T Magazine': u'A Grandmother\\u2019s Necklace, Lovingly Taken Apart After Her Death'}, {u'Health': u'Can You Safely Lose Weight While Breast-Feeding?'}, {u'World': u'Syrian Government Forces Capture More Areas in Aleppo'}, {u'N.Y. / Region': u'New York Today: A Fall Arts Preview'}, {u'Sports': u'With Paralympics, Rio Defies the Odds for a Second Time'}, {u'U.S.': u'Hillary Clinton Treats Theories About Coughing Attack With Dose of Humor'}, {u'Your Money': u'Hesitant to Make That Big Life Change? Permission Granted'}, {u'Times Insider': u'How Does a Hurricane Get a Name Like Hermine?'}, {u'U.S.': u'On Labor Day, Donald Trump and Hillary Clinton Begin a Final Sprint'}, {u'Opinion': u'Winning My Mom\\u2019s Vote'}, {u'Business Day': u'Former Real Estate Investing Executive Is Charged With Fraud'}, {u'Fashion & Style': u'Unforgettable Moments'}, {u'Business Day': u'Caliber Home Loans Embraces Borrowers With Spotty Credit'}, {u'U.S.': u'Utah Republican Becomes Hillary Clinton\\u2019s Latest Congressional Adversary'}, {u'Opinion': u'Why Facts Don\\u2019t Unify Us'}, {u'Technology': u'A Silicon Valley Dream Collapses in Allegations of Fraud'}, {u'World': u'Syria\\u2019s Paradox: Why the War Only Ever Seems to Get Worse'}, {u'U.S.': u'Trump\\u2019s Empire: A Maze of Debts and Opaque Ties'}, {u'U.S.': u'Despite Bernie Sanders\\u2019s Urging, Die-Hards Still Resist Hillary Clinton'}, {u'Opinion': u'The Water Next Time'}, {u'Style': u'To Fall in Love With Anyone, Do This (Updated With Podcast)'}, {u'U.S.': u'Chicago\\u2019s Plan to Toughen Oversight of Police Is Under Fire'}, {u'Crosswords & Games': u'Where Waves Come in'}, {u'Technology': u'No Sailors Needed: Robot Sailboats Scour the Oceans for Data'}, {u'World': u'Norway Will Build a Fence at Its Arctic Border With Russia'}, {u'Fashion & Style': u'Division of Labor and Costs in a Relationship'}, {u'Sports': u'Lost Brother in Yosemite'}, {u'World': u'Passenger Train Derails in Spain, Killing at Least 4'}, {u'Magazine': u'Lisa Lucas Wants to Make Reading Fun Again'}, {u'U.S.': u'House Republicans Who Favor Immigration Overhaul Face Potential Losses'}, {u'N.Y. / Region': u'All Eyes Are on Chris Christie as Trial in Bridge Scandal Starts'}, {u'Sports': u'U.S. Open Today: Another Short Match for Novak Djokovic'}, {u'Movies': u'Review: A Baby in a Boat Changes Everything in \\u2018The Light Between Oceans\\u2019'}, {u'Sports': u'Ga\\xebl Monfils Finds Inspiration in LeBron James\\u2019s Title Effort'}, {u'Fashion & Style': u'How J.J. Watt Became a Tom Ford Aficionado'}, {u'Business Day': u'Clinton-Trump Presidential Forum Draws 15 Million Viewers, and Many Critics'}, {u'World': u'French Prime Minister Faults Times Article Giving Voice to Muslim Women'}, {u'Sports': u'Obama Says Colin Kaepernick Is \\u2018Exercising His Constitutional Right\\u2019'}, {u'Sports': u'Fantasy Football 2016 | Week 1 Rankings'}, {u'Arts': u'<div>Art Reoriented, a Curator Duo, is in High Demand</div>'}, {u'World': u'Iran and Saudi Arabia Squabble as Millions of Muslims Begin Pilgrimage'}, {u'Travel': u'In New York, Fashion Week Goes Beyond the Runways'}, {u'U.S.': u'Their Soil Toxic, 1,100 Indiana Residents Scramble to Find New Homes'}, {u'Sports': u'Colin Kaepernick\\u2019s Anthem Protest Underlines Union of Sports and Patriotism'}, {u'U.S.': u'Once Skeptical of Executive Power, Obama Has Come to Embrace It'}, {u'World': u'Russia, a Broker With Its Own Agenda, Enters the Israeli-Palestinian Fray'}, {u'Opinion': u'The U.N.\\u2019s Responsibility in Haiti\\u2019s Cholera Crisis'}, {u'Business Day': u'Roger Ailes Stands Defiant as Fox Settles Lawsuits'}, {u'U.S.': u'Anthony Weiner and Huma Abedin to Separate After His Latest Sexting Scandal'}, {u'Sports': u'Understanding the Controversy Over Caster Semenya'}, {u'Health': u'Rethinking the Use of Hormones to Ease Menopause Symptoms'}, {u'Magazine': u'What Should I Do With My Dead Husband\\u2019s Journals?'}, {u'Technology': u'Ruling Tips Uber Drivers Away From Class-Action Suits'}, {u'N.Y. / Region': u'Lawmakers Skeptical of State\\u2019s Explanation for Hoosick Falls Water Crisis'}, {u'Business Day': u'Philip Kingsley, Who Dispensed Hair-Care Products and Expertise, Dies at 86'}, {u'Health': u'After \\u2018The Biggest Loser,\\u2019 Their Bodies Fought to Regain Weight'}, {u'Arts': u'Lucerne Festival, Under Pressure, Reinvents Itself'}, {u'Food': u'Snacks of Nepal Are a High Point at Woodside Cafe in Queens'}, {u'Opinion': u'How the Other Fifth Lives'}, {u'Education': u'500 Prompts for Narrative and Personal Writing'}, {u'U.S.': u'Chicago\\u2019s Murder Problem'}, {u'U.S.': u'FAA Warns Airline Passengers Not to Use Samsung Smartphone'}, {u'Arts': u'Review: Have You Heard the One About the Grieving Daughter?'}, {u'World': u'In Philippine Drug War, Little Help for Those Who Surrender'}, {u'Technology': u'How Tech Giants Are Devising Real Ethics for Artificial Intelligence'}, {u'Technology': u'Are the Free Wi-Fi Kiosks on New York Streets Safe?'}, {u'World': u'How Omran Daqneesh, 5, Became a Symbol of Aleppo\\u2019s Suffering'}, {u'Magazine': u'The Robots Are Coming for Wall Street'}, {u'World': u'AP PHOTOS: Muslim Pilgrims Arrive at Holy Site Ahead of Hajj'}, {u'Books': u'I\\u2019ll Have What She Had: A Friend\\u2019s Competitive Memoir About Nora Ephron'}, {u'U.S.': u'Donald Trump and Allies Raised $90 Million in August, Trailing Hillary Clinton'}, {u'Arts': u'New Versions of Lost \\u2018Doctor Who\\u2019 Episodes Coming This Fall'}, {u'Arts': u'Doug Aitken Plans Underwater Art Installation'}, {u'U.S.': u'Donald Trump\\u2019s Feud With John Kasich May Haunt Him in Ohio'}, {u'Food': u'Nostalgia Tops the Menu of Fall\\u2019s Big Restaurant Openings'}, {u'Opinion': u'Surfing in Nixonland'}, {u'World': u'Confrontations Flare as Obama\\u2019s Traveling Party Reaches China'}, {u'Business Day': u'A Chinese Mystery: Who Owns a Firm on a Global Shopping Spree?'}, {u'Books': u'Roads Not Taken: Mark Lilla on Political Reaction'}, {u'Your Money': u'7 Essential Money Questions Sure to Start a Conversation'}, {u'Business Day': u'Andrea Tantaros of Fox News Claims Retaliation for Sex Harassment Complaints'}, {u'Health': u'Talking to Children When a Parent Is Dying'}, {u'Automobiles': u'Video Review: The F-Pace Crossover Keeps Its Jaguar DNA'}, {u'N.Y. / Region': u'Overlooked Influences on Donald Trump: A Famous Minister and His Church'}, {u'Business Day': u'SpaceX\\u2019s Explosion Reverberates Across Space, Satellite and Telecom Industries'}, {u'U.S.': u'\\u2018Taco Trucks on Every Corner\\u2019: Trump Supporter\\u2019s Anti-Immigration Warning'}, {u'The Upshot': u'A Question About Friends Reveals a Lot About Class Divides'}, {u'World': u'SEAL Team 6 and a Man Left for Dead: A Grainy Picture of Valor'}, {u'Technology': u'G.E., the 124-Year-Old Software Start-Up'}, {u'Travel': u'As Airbnb Grows, So Do Claims of Discrimination'}, {u'Science': u'Is That Dress White and Gold or Blue and Black?'}, {u'Arts': u'Hugh O\\u2019Brian Dies; Dashing TV Star of \\u2018Wyatt Earp\\u2019 Was 91'}, {u'U.S.': u'How Melania Trump\\u2019s Speech Veered Off Course and Caused an Uproar'}, {u'World': u'Denmark Will Buy Leaked Panamanian Documents in Fight Against Tax Evasion'}, {u'Fashion & Style': u'Dark Days'}, {u'Books': u'Shakespeare Didn\\u2019t Actually Write That'}, {u'Business Day': u'Subprime Lender, Busy at State Level, Avoids Federal Scrutiny'}, {u'Opinion': u'Donald Trump\\u2019s Alt-Right Brain'}, {u'Times Insider': u'A Short History of The Times\\u2019s Shortest Story'}, {u'Opinion': u'Pariahs for Donald Trump'}, {u'World': u'A Powerful Russian Weapon: The Spread of False Stories'}, {u'U.S.': u'\\u2018No Vacancies\\u2019 for Blacks: How Donald Trump Got His Start, and Was First Accused of Bias'}, {u'Opinion': u'The Sociopath\\u2019s Diary'}, {u'Books': u'How the American Revolution Worked Against Blacks, Indians and Women'}, {u'Fashion & Style': u'Fashion Turns Out, in T-Shirts, for Clinton'}, {u'N.Y. / Region': u'Withholding Evidence From a Defendant, on \\u2018The Night Of\\u2019 and in Real Life'}, {u'World': u'How Russia Often Benefits When Julian Assange Reveals the West\\u2019s Secrets'}, {u'U.S.': u'50 G.O.P. Officials Warn Donald Trump Would Put Nation\\u2019s Security \\u2018at Risk\\u2019'}, {u'Health': u'Feeling Guilty About Not Flossing? Maybe There\\u2019s No Need'}, {u'Sports': u'Can You Beat Usain Bolt Out of the Blocks?'}, {u'Opinion': u'We Need \\u2018Somebody Spectacular\\u2019: Views From Trump Country'}, {u'Science': u'The Giant Panda Is No Longer Endangered. It\\u2019s \\u2018Vulnerable.\\u2019'}, {u'U.S.': u'Victim in New Hampshire Prep School \\u2018Senior Salute\\u2019 Case Speaks Out'}, {u'N.Y. / Region': u'Muslim Holy Day on Sept. 11? Coincidence Stirs Fears'}, {u'Opinion': u'Why Black Men Quit Teaching'}, {u'Magazine': u'David\\u2019s Ankles: How Imperfections Could Bring Down the World\\u2019s Most Perfect Statue'}, {u'Education': u'200 Prompts for Argumentative Writing'}, {u'U.S.': u'U.S. Ends Corruption Case Against Former Virginia Governor'}, {u'Sports': u'Broncos Go From Peyton Manning to Trevor Siemian, a 7th-Round Pick Loaded With Poise'}, {u'Opinion': u'Punishing Dissent in Bahrain'}, {u'World': u'Powerful Earthquake in Italy Kills at Least 241 and Shatters Towns'}, {u'Business Day': u'Comedy Central Cancels Larry Wilmore\\u2019s Late-Night Show'}, {u'Travel': u'How to Go to Cuba Right Now'}, {u'Multimedia': u'Reconsidering the Black Panthers Through Photos'}, {u'World': u\"Heavenly Boom: Cyprus Abuzz Over 'Exploding Meteor'\"}, {u'Arts': u'Review: 3 Kids. No Husband. In \\u2018Better Things,\\u2019 a Single Mother\\u2019s Plight.'}, {u'Health': u'W.H.O. Clarifies Advice on Sex and Pregnancy in Zika Regions'}, {u'Food': u'Manhattan\\u2019s Hottest New Dining Spot: The 20s'}, {u'World': u'Rare Harmony as China and U.S. Commit to Climate Deal'}, {u'Sports': u'This Time, Colin Kaepernick Takes a Stand by Kneeling'}, {u'U.S.': u'Judge\\u2019s Sentencing in Massachusetts Sexual Assault Case Reignites Debate on Privilege'}, {u'U.S.': u'Donald Trump Calls on Russia to Find Hillary Clinton\\u2019s Missing Emails'}, {u'The Upshot': u'The 258 People, Places and Things Donald Trump Has Insulted on Twitter: A Complete List'}, {u'World': u'73 Syrian Aid Groups Suspend Cooperation with U.N.'}, {u'Business Day': u'Private Equity Tries to Chip Away at Dodd-Frank With House Bill'}, {u'Fashion & Style': u'The Front Row'}, {u'N.Y. / Region': u'Stolen, Sold and Savored: Ice Cream Is a Hot Commodity in Manhattan'}, {u'Opinion': u'When Police Unions Impede Justice'}, {u'Opinion': u'Does Airbnb Enable Racism?'}, {u'Fashion & Style': u'Humans of New York Founder Takes On Donald Trump'}, {u'Fashion & Style': u'I Was a Hotline Psychic for Miss Cleo'}, {u'Technology': u'To Compete With Mobile, Sony Tailors PlayStation to Next-Generation TVs'}, {u'Well': u'When the Barriers Aren\\u2019t Just Physical'}, {u'Technology': u'Apple Owes $14.5 Billion in Back Taxes to Ireland, E.U. Says'}, {u'Your Money': u'The Cost of Holding On'}, {u'Health': u'Pretty Girls Are Supposed to Smile'}, {u'U.S.': u'2016 Delegate Count and Primary Results'}, {u'U.S.': u'Open Letter From Retired Military Figures Supporting Trump'}, {u'U.S.': u'California Today: Is This the End for Movies?'}, {u'Food': u'Rouge Tomate: Smaller Restaurant, Bigger Wine List'}, {u'Your Money': u'\\u2018What if You Weren\\u2019t Afraid?\\u2019 and 4 More Money Questions From Readers'}, {u'Real Estate': u'Merchants Wait for the Promise of Vanderbilt Avenue. And Wait.'}, {u'Opinion': u'I Ran the C.I.A. Now I\\u2019m Endorsing Hillary Clinton.'}, {u'The Upshot': u'Surprising New Evidence Shows Bias in Police Use of Force but Not in Shootings'}, {u'Business Day': u'Explaining Volkswagen\\u2019s Emissions Scandal'}, {u'Real Estate': u'$1,075,000 Homes in Wisconsin, Pennsylvania and Texas'}, {u'U.S.': u'With No Edge on the Economy, Clinton and Trump Focus Elsewhere'}, {u'World': u'Conflict and Poverty Have Uprooted Nearly 50 Million Children, U.N. Says'}, {u'Times Insider': u'A 4.87-Ounce iPhone? In 1991, My Mobile Phone Weighed 130 Pounds.'}, {u'N.Y. / Region': u'2 Killed at J\\u2019ouvert Celebration in Brooklyn Despite Security Steps'}, {u'N.Y. / Region': u'Oysters Are Nearly Extinct in New York Waters. This Team Is Trying to Coax Them Back.'}, {u'U.S.': u'Leaked Script Shows What Advisers Want Donald Trump to Say at Black Church'}, {u'World': u'Lightning Strike Kills More Than 300 Reindeer in Norway'}, {u'Science': u'With Dogs, It\\u2019s What You Say \\u2014 and How You Say It'}, {u'The Upshot': u'Compare These Gun Death Rates: The U.S. Is in a Different World'}, {u'Education': u'301 Prompts for Argumentative Writing'}, {u'N.Y. / Region': u'Ruling in Connecticut School Lawsuit'}, {u'Opinion': u'The Partisan Winds Aimed at Kansas\\u2019 Court'}, {u'Business Day': u'2 Pipeline Companies, Enbridge and Spectra Energy, to Merge'}, {u'Business Day': u'With Occupancy High, Hotels Seek to Avoid Online Booking Services'}, {u'U.S.': u'A Lobbyist Wrote the Bill. Will the Tobacco Industry Win Its E-Cigarette Fight?'}, {u'Business Day': u'Endorsed on Instagram by a Kardashian, but Is It Love or Just an Ad?'}, {u'U.S.': u'University of Chicago Strikes Back Against Campus Political Correctness'}, {u'World': u'What Is the #PalletsOfCash Debate?'}, {u'Opinion': u'It\\u2019s O.K., Liberal Parents, You Can Freak Out About Porn'}, {u'Food': u'At Momofuku Nishi, David Chang\\u2019s Magic Shows a Little Wear'}, {u'Business Day': u'Explaining Greece\\u2019s Debt Crisis'}, {u'World': u'Russia: Israel, Palestinian Leaders Agree to Meet for Talks'}, {u'Arts': u'Charlotte Moorman, Tradition Disrupter, Is the Focus of Two Shows'}, {u'World': u'New Karachi Mayor Gets Daytrip From Prison to Be Sworn In'}, {u'N.Y. / Region': u'J\\u2019ouvert Will Continue, de Blasio Says, but Its Hours May Change'}, {u'Arts': u'Too Much \\u2018Lemonade\\u2019? Beyonc\\xe9 Postpones Concert to Rest Voice'}, {u'Business Day': u'Hollywood\\u2019s Summer of Extremes: Megahits, Superflops and Little Else'}, {u'Business Day': u'Surf\\u2019s Up, and the Ocean Is Nowhere in Sight'}, {u'U.S.': u'Trailing Hillary Clinton, Donald Trump Turns to Political Gymnastics'}, {u'The Upshot': u'Surprisingly Little Evidence for the Accepted Wisdom About Teeth'}, {u'U.S.': u'Georgia Man Gets 40 Years in Prison for Hot-Water Attack on Gay Men'}, {u'Technology': u'IPhone Users Urged to Update Software After Security Flaws Are Found'}, {u'Opinion': u'Putting the Power of Self-Knowledge to Work'}, {u'Business Day': u'McDonald\\u2019s Tweaks Its Recipes: Now, Real Butter in the McMuffin'}, {u'N.Y. / Region': u'L Train Will Shut Down From Manhattan to Brooklyn in \\u201919 for 18 Months'}, {u'N.Y. / Region': u'Chris Christie Lost Out on the Job He Wanted. And His Bad Year Got Worse.'}, {u'Opinion': u'When Retiring Early Is Not a Choice'}, {u'Theater': u'That Voice Inside Your Head? It May Be His'}, {u'Business Day': u'As Issues Swirl in Europe, E.C.B. Holds Interest Rate at Zero'}, {u'Sports': u'Tiger Woods Seeks to Compete in Three Events This Fall'}, {u'World': u'Anjem Choudary Is Sentenced to Prison for Promoting ISIS'}, {u'Business Day': u'Elon Musk\\u2019s Solar Vision, Up for a Dicey Vote'}, {u'Opinion': u'The Duplicity of Donald Trump'}, {u'Science': u'One Star Over, a Planet That Might Be Another Earth'}, {u'Blogs': u'What We&#8217;re Reading'}, {u'Science': u'A Sharp Increase In \\u2018Sunny Day\\u2019 Flooding'}, {u'World': u'How Many People Have Been Killed in ISIS Attacks Around the World'}, {u'Books': u'Masha Gessen on a Planned Jewish Homeland in Soviet Russia'}, {u'Books': u'Mark Thompson\\u2019s New Book on the Use and Misuse of Rhetoric'}, {u'Arts': u'A Carmen Herrera Solo Exhibition at the Whitney'}, {u'Movies': u'Review: In \\u2018Demon,\\u2019 Wedding Jitters From the Uninvited Dead'}, {u'Movies': u'Review: \\u2018Author: The JT Leroy Story\\u2019 Renders a Literary Charlatan'}, {u'Opinion': u'No Courage, No Peace in Brooklyn'}, {u'U.S.': u'Message to Tech Firms From Palo Alto Mayor: Go Away. Please.'}, {u'World': u'Saudis and Extremism: \\u2018Both the Arsonists and the Firefighters\\u2019'}, {u'U.S.': u'As Students Return to School, Debate About the Amount of Homework Rages'}, {u'Movies': u'\\u2018Sausage Party\\u2019 Is an Animated Sex Comedy About Food ... and God'}, {u'Theater': u'Between \\u2018Transparent\\u2019 Seasons, Judith Light Isn\\u2019t Playing Nice'}, {u'Magazine': u'How Much Do We Really Know About Global Trade\\u2019s Impacts?'}, {u'Arts': u'Nicholas Serota to Leave Tate Museums'}, {u'Briefing': u'2016 Election, Fox News, Zika Virus: Your Wednesday Briefing'}, {u'World': u'Russian Polling Center Is Declared a \\u2018Foreign Agent\\u2019 Before Elections'}, {u'Opinion': u'What Colin Kaepernick\\u2019s Protest Looks Like to a Black 49ers Fan'}, {u'Movies': u'Review: A Waltz Across Texas in \\u2018Hell or High Water\\u2019'}, {u'U.S.': u'Harriet Tubman Ousts Andrew Jackson in Change for a $20'}, {u'Magazine': u'The Plot to Take Down a Fox News Analyst'}, {u'Fashion & Style': u'Wedding Gift Cash Grab. What\\u2019s Too Little? What\\u2019s Too Much?'}, {u'Health': u'The Other Mother'}, {u'U.S.': u'Before and After Photos of the Damage From Historic Flooding in Louisiana'}, {u'World': u'British Parliament Set to Relocate to Save a Crumbling Palace'}, {u'Fashion & Style': u'A Tour of the Architect Reinaldo Leandro\\u2019s Manhattan Living Room'}, {u'Fashion & Style': u'The Glamour Girls'}, {u'World': u'Shariah With Chinese Characteristics: A Scholar Looks at the Muslim Hui'}, {u'Opinion': u'Nicolas Sarkozy Is Back, but France Has Changed'}, {u'Movies': u'Barry Jenkins on \\u2018Moonlight,\\u2019 a Tale of Black America and Personal Adversity'}, {u'Food': u'New York Gets a New Helping of Barbecue'}, {u'Science': u'NASA Aims at an Asteroid Holding Clues to the Solar System\\u2019s Roots'}, {u'Sports': u'Vin Scully\\u2019s Farewell Should Be Heard Far and Wide'}, {u'Science': u'Roger Y. Tsien, Nobel Winner for Use of Glowing Proteins, Dies at 64'}, {u'N.Y. / Region': u'In Brooklyn, Stifling Higher Learning Among Hasidic Women'}, {u'Arts': u'\\u2018Narcos\\u2019 Season 2, Episode 5: No Turning Back'}, {u'U.S.': u'Liberal, Moderate or Conservative? See How Facebook Labels You'}, {u'Fashion & Style': u'Michelle Obama\\u2019s Dress May Have Looked Simple, but It Spoke Volumes'}, {u'N.Y. / Region': u'How Donald Trump Bankrupted His Atlantic City Casinos, but Still Earned Millions'}, {u'U.S.': u'272 Slaves Were Sold to Save Georgetown. What Does It Owe Their Descendants?'}, {u'Health': u'Think Like a Doctor: A Cough That Won&#8217;t Stop'}, {u'Business Day': u'Wall St. Sags Under Falling Tech and Consumer Stocks'}, {u'Opinion': u'Letter From a Bahraini Jail'}, {u'Sports': u'New Balls, Please'}, {u'Arts': u'The Bride and Groom Are Kittens. At Death They Did Not Part.'}, {u'Food': u'Is This the Top-Secret KFC Recipe?'}, {u'Opinion': u'Handwriting Just Doesn\\u2019t Matter'}, {u'Opinion': u'Olympians in Hijab and Bikini'}, {u'U.S.': u'Obama After Dark: The Precious Hours Alone'}, {u'Magazine': u'They Also Have Lessons to Teach'}, {u'Fashion & Style': u'You Are Going to Want to Bake Those Pork Chops, My Friend'}, {u'Food': u'12 Recipes for Midweek'}, {u'Arts': u'Former Chief at El Museo del Barrio to Lead Museum of Arts and Design'}, {u'World': u'North Korea Test-Fires 3 Missiles Toward Japan, Seoul Says'}, {u'U.S.': u'Sonia Sotomayor and Elena Kagan Muse Over a Cookie-Cutter Supreme Court'}, {u'Real Estate': u'A Land Eager to Look Rich: Luxury Brands Edge Into Myanmar'}, {u'The Upshot': u'Politics Are Tricky but Science Is Clear: Needle Exchanges Work'}, {u'Travel': u'Love Undone'}, {u'Arts': u'\\u2018Narcos\\u2019 Season 2, Episode 6: A New World Order'}, {u'U.S.': u'Highlights of Donald Trump\\u2019s Immigration Speech and Mexico Trip'}, {u'Opinion': u'Can We Save Venice Before It\\u2019s Too Late?'}, {u'World': u'From Bikinis to Burkinis, Regulating What Women Wear'}, {u'Opinion': u'At the Beach in My Burkini'}, {u'Sports': u'U.S. Soccer Suspends Hope Solo and Terminates Her Contract'}, {u'Health': u'Brain Scans of Brazilian Babies Show Array of Zika Effects'}, {u'Health': u'An Unconventional Cardiologist Promotes a High-Fat Diet'}, {u'Sports': u'The Fine Line: What Makes Simone Biles the World\\u2019s Best Gymnast'}, {u'U.S.': u'Now Adults, Children of 9/11 Draw Inspiration From Tragedy'}, {u'Business Day': u'Sam Iacobellis, Whose B-1 Bomber Recast the Cold War, Dies at 87'}, {u'Books': u'You Remember John Aubrey. Chased by Debt Collectors, Chaser of Whores.'}, {u'Arts': u'Review: In This One-Man Opera, It\\u2019s All in His Head'}, {u'N.Y. / Region': u'A Shopping Mall at Ground Zero, Uninformed by Its Sacred Land'}, {u'World': u'U.S. Presses for Truce in Syria, With Its Larger Policy on Pause'}, {u'U.S.': u'Lucrative Book Deals Might Finance the Obamas\\u2019 Post-White House Life'}, {u'Business Day': u'Venture Communism: How China Is Building a Start-Up Boom'}, {u'Opinion': u'Why We Never Die'}, {u'Opinion': u'Do You Believe in God, or Is That a Software Glitch?'}, {u'Education': u'Advice for New Students From Those Who Know (Older Students)'}, {u'Health': u'Need a Babysitter? Don&#8217;t Count On Grandma'}, {u'U.S.': u'Results of Obama Voter Focus Groups on Hillary Clinton'}, {u'The Upshot': u'How to Become a C.E.O.? The Quickest Path Is a Winding One'}, {u'Arts': u'So You Have $500 Million? Here\\u2019s a Shopping List for the Philharmonic\\u2019s Hall.'}, {u'Arts': u'What\\u2019s on TV Thursday: \\u2018Better Things\\u2019 and \\u2018Finding Prince Charming\\u2019'}, {u'World': u'Keith Vaz, British Lawmaker, Quits Senior Post Amid Sex and Drug Scandal'}, {u'World': u'Mauricio Funes, Ex-Leader of El Salvador Under Inquiry, Gains Asylum'}, {u'Fashion & Style': u'The Modern Love Podcast: Cherry Jones Reads \\u2018Kept Together by the Bars Between Us\\u2019'}, {u'Arts': u'Review: \\u2018Queen Sugar,\\u2019 on OWN, Yields Family Drama'}, {u'N.Y. / Region': u'Clash of Titans? Opponents of Pier 55 Have Secret Backer, Media Mogul Says'}, {u'Fashion & Style': u'For the Rock Star, Love Has Finally Landed'}, {u'Opinion': u'Why I Go to Aleppo'}, {u'Magazine': u'Where the Death Penalty Still Lives'}, {u'World': u'Shh. It\\u2019s Naptime at Ikea in China.'}, {u'U.S.': u'Affluent and Black, and Still Trapped by Segregation'}, {u'Opinion': u'Nate Parker and the Limits of Empathy'}, {u'U.S.': u'Hillary Clinton Selects Tim Kaine, a Popular Senator From a Swing State, as Running Mate'}, {u'Fashion & Style': u'How Long Should a Man Go Between Haircuts?'}, {u'Your Money': u'Why Your Portfolio Needs Plenty of Stocks, Whatever Your Age'}, {u'U.S.': u'Where 50,000 Guns Recovered in Chicago Came From'}, {u'U.S.': u'US General: Urban Fight to Retake Mosul Will Be Difficult'}, {u'Movies': u'\\u2018Queen of Katwe\\u2019 Makes Moves on a Ugandan Chessboard'}, {u'Business Day': u'Regulators Seek Tighter Curbs on Investments by Big Banks'}, {u'Arts': u'How the Fight for a National African-American Museum Was Won'}, {u'Fashion & Style': u'Renovation Restores the Luster to Cartier Flagship'}, {u'U.S.': u'Donald Trump Gambles on Immigration but Sends Conflicting Signals'}, {u'Food': u'The Veggie Burger\\u2019s Ascent'}, {u'Fashion & Style': u'A Rejected \\u2018Bachelorette\\u2019 Contestant Finds Love'}, {u'U.S.': u'Electoral Map Gives Donald Trump Few Places to Go'}, {u'The Upshot': u'The Incalculable Value of Finding a Job You Love'}, {u'Health': u'Was Mary Todd Lincoln Driven \\u2018Mad\\u2019 by a Vitamin Deficiency?'}, {u'Arts': u'Nora York, Singer Who Fused Forms, Dies at 60'}, {u'U.S.': u'With Nod to Flint Crisis, Senate Weighs a $9 Billion Water Infrastructure Bill'}, {u'World': u'In the Land of the Robot, Androids Are on the March'}, {u'Technology': u'Living in Two Time Zones With Google Calendar'}, {u'T Magazine': u'Naomi Campbell on Diversity in the Fashion Industry, Beauty and More'}, {u'Food': u'New York\\u2019s Latest Craving, Poke, by the Pound at Sweetcatch'}, {u'U.S.': u'Oklahoma Orders Shutdown of Wells After Record-Tying Earthquake'}, {u'Opinion': u'Political Correctness and Its Real Enemies'}, {u'Business Day': u'Ben Chestnut of MailChimp: Learn to Love the Job You\\u2019ve Got'}, {u'World': u'One Photo of a Syrian Child Caught the World\\u2019s Attention. These 7 Went Unnoticed.'}, {u'Movies': u'Review: \\u2018Ben-Hur\\u2019 Is a Savage Update for a New Generation'}, {u'Real Estate': u'An Island in Maine, Four Sisters, Four Houses'}, {u'Books': u'In Colson Whitehead\\u2019s Latest, the Underground Railroad Is More Than a Metaphor'}, {u'Health': u'Harnessing the Immune System to Fight Cancer'}, {u'U.S.': u'Would Donald Trump Quit if He Wins the Election? He Doesn\\u2019t Rule It Out'}, {u'Opinion': u'Why Do We Teach Girls That It\\u2019s Cute to Be Scared?'}, {u'World': u'SEAL Team 6: A Secret History of Quiet Killings and Blurred Lines'}, {u'Style': u'15 Ways to Be a Better Person'}, {u'U.S.': u'How They Got Their Guns'}, {u'U.S.': u'Judge Grants Partial Stop on North Dakota Pipeline Work'}, {u'Arts': u'Phoebe Waller-Bridge\\u2019s Rage and Sex, in \\u2018Fleabag\\u2019'}, {u'World': u'Something Old, Something New, Something Borrowed, Something Hindu'}, {u'World': u'My Hajj Reading List: Preparing for Mecca'}, {u'Sports': u'Landon Donovan Will End Retirement and Return to M.L.S.'}, {u'T Magazine': u'A Poet and a Photographer Imagine the Afterlife'}, {u'Sports': u'A Funny Thing Happened on the Way to the Yankees\\u2019 Rebuild'}, {u'Food': u'All of Africa, Served at Serengeti Kitchen'}, {u'Movies': u'Cinema Is Dead? Telluride Says Not Yet'}, {u'Books': u'\\u2018The Nix\\u2019 Is the Love Child of Thomas Pynchon and David Foster Wallace'}, {u'Opinion': u'Becoming Disabled'}, {u'Style': u'Elizabeth Gilbert Announces a Split From a Central Character'}, {u'Education': u'How to Live Wisely'}, {u'U.S.': u'#HereIsMyAmerica'}, {u'World': u'Asian Stocks Fall After European Central Bank Stays Pat'}, {u'Theater': u'\\u2018Jersey Boys\\u2019 Will Close in January'}, {u'Sports': u'Angelique Kerber and Caroline Wozniacki Advance to the Semifinals'}, {u'U.S.': u'He Denied Blacks Citizenship. Now a City Is Deciding His Statue\\u2019s Fate.'}, {u'Sports': u'Venus Williams Seeks Perfection, in Lieu of the Spotlight'}, {u'U.S.': u'Seeking Support and Invoking Faith, Donald Trump Visits a Black Church for the First Time'}, {u'U.S.': u'A Ranger, a Field of Wildflowers and the Retelling of Flight 93'}, {u'Science': u'World\\u2019s Oldest Fossils Found in Greenland'}, {u'Opinion': u'Why This Economy Needs Donald Trump'}, {u'Well': u'Why Your Granola Is Really a Dessert'}, {u'Science': u'Japan\\u2019s $320 Million Gamble at Fukushima: An Underground Ice Wall'}, {u'N.Y. / Region': u'As La Guardia Is Overhauled, the Check-In Line Starts at the Highway'}, {u'N.Y. / Region': u'How Caroline Wozniacki, Danish Tennis Player, Spends Her Sundays'}, {u'Sports': u'Giants Break Silence on Josh Brown\\u2019s Suspension Over Arrest'}, {u'World': u'Maybe North Korea\\u2019s Nuclear Goals Are More Serious Than Once Thought'}, {u'Health': u'U.S. Suicide Rate Surges to a 30-Year High'}, {u'World': u'Train Crash in Northern Spain Leaves at Least Four Dead'}, {u'Magazine': u'The New High-School Outsiders'}, {u'U.S.': u'A Look at Trump\\u2019s Immigration Plan, Then and Now'}, {u'Books': u'5 New Novels Make Fiction Out of Eco-Disaster'}, {u'Movies': u'Review: In \\u2018Ithaca,\\u2019 Meg Ryan and Tom Hanks Reunite for a War Story'}, {u'Arts': u'Metal Gates Unfurl as Colorful Canvases on the Lower East Side'}, {u'World': u'China Censors Critic\\u2019s Discussion of Family Planning Policies'}, {u'World': u'An Ugly Presidential Race Shows the World What It\\u2019s Missing'}, {u'Opinion': u'Back to School, in a New Country'}, {u'Business Day': u'Mylan Tries Again to Quell Pricing Outrage by Offering Generic EpiPen'}, {u'The Upshot': u'Why \\u2018Useless\\u2019 Surgery Is Still Popular'}, {u'Magazine': u'Marie Kondo and the Ruthless War on Stuff'}, {u'Technology': u'Airbnb Vows to Fight Racism, but Its Users Can\\u2019t Sue to Prompt Fairness'}, {u'Arts': u'Is Britney Spears Ready to Stand on Her Own?'}, {u'Opinion': u'All Politicians Lie. Some Lie More Than Others.'}, {u'Multimedia': u'Capturing a City&#8217;s Emotion in the Days After 9/11'}, {u'U.S.': u'How Cuts to Public Universities Have Driven Students Out of State'}, {u'Sunday Review': u'Think It\\u2019s Hot Now? Just Wait'}, {u'U.S.': u'Only 9% of America Chose Trump and Clinton as the Nominees'}, {u'World': u'Dispute Intensifies Over Gabon Presidential Election'}, {u'Sports': u'The Latest: Wawrinka Tops Del Potro, Into US Open Semifinals'}, {u'World': u'Turkish Official Says U.S. Was Not Complicit in Coup Plot'}, {u'U.S.': u'Police Officer Is Fired a Year After Fatal Shooting of South Carolina Teenager'}, {u'Sports': u'Tennis Players Go Back and Forth on No-Ad Scoring'}, {u'Opinion': u'Release the Records on Dag Hammarskjold\\u2019s Death'}, {u'Food': u'At Tsion Cafe in Harlem, Food From Ethiopia via Israel'}, {u'Food': u'Opening Their Own Restaurants, for the First Time'}, {u'Technology': u'Will the New Apple iPhone Have a Headphone Jack? Rumormongers Say It Won\\u2019t'}, {u'Health': u'Doctors on Lookout for Crimean-Congo Hemorrhagic Fever in Spain'}, {u'U.S.': u'Unsolved Homicides in Anchorage Alarm Residents and Baffle Police'}, {u'World': u'Indonesia Is Pushed to Ban Alcohol for Health of Bodies, if Not Souls'}, {u'N.Y. / Region': u'\\u2018This Is Not My Child\\u2019: JetBlue Flew 2 Boys to Wrong Cities, Mother Says'}, {u'Business Day': u'Gatorade Shakes Up the Sport Drink by Going Organic'}, {u'U.S.': u'Aimed at Zika Mosquitoes, Spray Kills Millions of Honeybees'}, {u'World': u'Dilma Rousseff Is Ousted as Brazil\\u2019s President in Impeachment Vote'}, {u'Arts': u'A Celebrity Z-List? Yes, It Exists'}, {u'U.S.': u'Hillary Clinton Told F.B.I. Colin Powell Advised Her to Use Private Email'}, {u'Science': u'Scientific Evidence of Flood May Give Credence to Legend of China\\u2019s First Dynasty'}, {u'Food': u'Fashioning Cast-Iron Pans for Today\\u2019s Cooks'}, {u'Business Day': u'The Timeshare Hard Sell Comes Roaring Back'}, {u'World': u'ISIS Enshrines a Theology of Rape'}, {u'Health': u'The Underused HPV Vaccine'}, {u'Travel': u'Where Is Safe? Travelers Seek Havens in Wake of Europe Attacks'}, {u'Science': u'Smoking and Drinking Rates Among U.S. Teenagers Fall to New Lows'}, {u'Opinion': u'A Setback for Ms. Merkel'}, {u'Movies': u'Clint Eastwood Narrates a Scene From \\u2018Sully\\u2019'}, {u'U.S.': u'California Today: Your Voices'}, {u'World': u'Mother Teresa Is Made a Saint by Pope Francis'}, {u'Opinion': u'The Injustice of Making Kids Pay'}, {u'Opinion': u'Prisons Aren\\u2019t the Answer on Immigration'}, {u'Arts': u'Pamela Adlon Is Starring in Her Very Own Zen Riddle'}, {u'U.S.': u'In Honduras, a Spiritual and Political Awakening for Tim Kaine'}, {u'Business Day': u'Samsung to Recall 2.5 Million Galaxy Note 7s Over Battery Fires'}, {u'U.S.': u'The Complicated Appeal of the Harambe Meme'}, {u'Health': u'4 Zika Cases in Florida Were Likely Spread by Local Mosquitoes, C.D.C. Says'}, {u'U.S.': u'Five Dallas Officers Were Killed as Payback, Police Chief Says'}, {u'The Upshot': u'Sorry, There\\u2019s Nothing Magical About Breakfast'}, {u'Magazine': u'How Hillary Clinton Became a Hawk'}, {u'U.S.': u'Hillary Clinton, \\u2018Smart Power\\u2019 and a Dictator\\u2019s Fall'}, {u'Health': u'Should You Salt a Child&#8217;s Food?'}, {u'Health': u'Too Sick for School, or Just Doesn&#8217;t Want to Go?'}, {u'Business Day': u'Should You Trust Mint.com?'}, {u'U.S.': u'Who\\u2019s Winning the Presidential Campaign?'}, {u'U.S.': u'Which Presidential Candidates Are Winning the Money Race'}, {u'Science': u'Short Answers to Hard Questions About Climate Change'}, {u'Magazine': u'Forty Portraits in Forty Years'}, {u'World': u'As Hajj Nears, Questions About Deadly 2015 Stampede Remain'}, {u'World': u'Whether Shaved by Hand or Machine, This Roman Treat Is Just as Frosty'}, {u'Opinion': u'The Disputed Vote in Gabon'}, {u'Technology': u'Daily Report: Highlight of the Apple Hype: Wireless Earbuds'}, {u'T Magazine': u'A Giant Art Installation With 250 Plants \\u2014 and Live Jazz'}, {u'Sports': u'Bryans Might Want to Switch Sides on Service Returns'}, {u'Sports': u'Mets Hammer Three More Home Runs in Fifth Consecutive Win'}, {u'Opinion': u'Looking Down on Black America'}, {u'Fashion & Style': u'The Man and Spirit Behind GucciGhost, Gucci\\u2019s Renegade Line'}, {u'Sports': u'Pop Warner Is Facing a Class-Action Lawsuit Over Concussions'}, {u'Science': u'SpaceX Rocket Explodes at Launchpad in Cape Canaveral'}, {u'Well': u'Depression Is Poorly Diagnosed and Often Goes Untreated'}, {u'Sports': u'Ryan Lochte Dropped by Speedo USA and Other Retailers'}, {u'Sports': u'For the Spotlight? Ryan Lochte Was Ready to Do Anything'}, {u'Opinion': u'Is God Transgender?'}, {u'Magazine': u'The Brain That Couldn\\u2019t Remember'}, {u'Movies': u'Review: All Aboard \\u2018Train to Busan\\u2019 for Zombie and Class Warfare'}, {u'World': u'Clash of Values Emerges After Afghan Child Bride Burns to Death'}, {u'Opinion': u'Both Sides Now?'}, {u'U.S.': u'F.B.I. Director James Comey Recommends No Charges for Hillary Clinton on Email'}, {u'U.S.': u'Donald Trump\\u2019s Self-Funding Includes Payments to Family and His Companies'}, {u'World': u'Brexit, Explained: 7 Questions About What It Means and Why It Matters'}, {u'U.S.': u'Teenager Sues Over Being Pulled From Bike, Tasered and Arrested Outside Tacoma Mall'}, {u'Magazine': u'Sally Mann\\u2019s Exposure'}, {u'Sports': u'Roger Federer as Religious Experience'}, {u'Health': u'The Anger of Cancer'}, {u'Fashion & Style': u'For Men, September Is Back-to-Fashion Month'}, {u'U.S.': u'What Are Sanctuary Cities?'}, {u'World': u\"Belarus Says Election Will Be 'Active, Democratic'\"}, {u'Business Day': u'Research Suggests Women Are Asking for Raises, but Men Get Them More'}, {u'Business Day': u'Whistle-Blowing Insiders: \\u2018Game Changer\\u2019 for the S.E.C.'}, {u'Business Day': u'Carl Icahn to Take Federal-Mogul Private'}, {u'Podcasts': u'The Best (and Worst) Campaign Ads So Far'}, {u'U.S.': u'Chicago Has Its Deadliest Month in About Two Decades'}, {u'U.S.': u'White Lives Matter Has Been Declared a Hate Group'}, {u'Technology': u'Warned of a Crash, Start-Ups in Silicon Valley Narrow Their Focus'}, {u'Opinion': u'Why Did We Stop Teaching Political History?'}, {u'Arts': u'\\u2018The Night Of\\u2019 Finale: In a Lonely Place'}, {u'The Upshot': u'Today\\u2019s Inequality Could Easily Become Tomorrow\\u2019s Catastrophe'}, {u'Opinion': u'The Good News About Educational Inequality'}, {u'Opinion': u'What Babies Know About Physics and Foreign Languages'}, {u'Books': u'Review: In \\u2018When Breath Becomes Air,\\u2019 Dr. Paul Kalanithi Confronts an Early Death'}, {u'Blogs': u'Blog Directory'}, {u'World': u'South Sudan Activists Say Intimidated for Meeting Diplomats'}, {u'N.Y. / Region': u'Man Arrested in Holland Tunnel Guns Case Is Freed on Bail'}, {u'Movies': u'Review: In \\u2018Cameraperson,\\u2019 a Found Poem Filtered Through an Intent Eye'}, {u'Sports': u'Jets Owner Says Player Protest Would Prompt \\u2018Conversation\\u2019'}, {u'Sports': u'Venus Williams Loses in Third-Set Tiebreaker and Serena Williams Moves On'}, {u'Books': u'Review: \\u2018Nutshell,\\u2019 a Tale Told by a Baby-to-Be (or Not-to-Be)'}, {u'World': u'Battling Drug-Resistant TB, and the Indian Government'}, {u'Arts': u'For Art Dealers, the Place to Be Is Still London'}, {u'U.S.': u'Anthony Weiner\\u2019s Latest Sexting Scandal: Here\\u2019s What We Know'}, {u'Business Day': u'Painted as EpiPen Villain, Mylan\\u2019s Chief Says She\\u2019s No Such Thing'}, {u'Science': u'America\\u2019s First Offshore Wind Farm May Power Up a New Industry'}, {u'Opinion': u'Conquering the Freshman Fear of Failure'}, {u'Technology': u'Is That Real Tuna in Your Sushi? Now, a Way to Track That Fish'}, {u'U.S.': u'Meg Whitman, Calling Donald Trump a \\u2018Demagogue,\\u2019 Will Support Hillary Clinton for President'}, {u'U.S.': u'Assange, Avowed Foe of Clinton, Timed Email Release for Democratic Convention'}, {u'U.S.': u'Ruth Bader Ginsburg, No Fan of Donald Trump, Critiques Latest Term'}, {u'Books': u'\\u2018The Arrangements\\u2019: A Work of Fiction'}, {u'Business Day': u'Billy Bush, Related to Both Presidents, Joins \\u2018Today\\u2019 Show'}, {u'Opinion': u'Why You Can\\u2019t Lose Weight on a Diet'}, {u'Education': u'Teaching Men to Be Emotionally Honest'}, {u'Health': u'A Wish for My Daughters'}, {u'Education': u'Summer 2016 News Quiz | June 7-Sept. 5, 2016'}, {u'U.S.': u'Mapping the Extent of Louisiana\\u2019s Floods'}, {u'U.S.': u'Obama\\u2019s Long-Form Birth Certificate'}, {u'World': u'What I Saw in Syria'}, {u'Sports': u'Upset! Serena Williams Loses US Open SF for 2nd Year in Row'}, {u'Business Day': u'As US Puts Breaks on Megadeals, Walgreens Prepares to Unload'}, {u'World': u'Southeast Asia Issues a Non-Rebuke to China'}, {u'N.Y. / Region': u'Developers of Pier 55 in Manhattan Win a Round in Court'}, {u'Movies': u'Review: In \\u2018Kicks,\\u2019 the Promise (and Perils) of Those Air Jordans'}, {u'Fashion & Style': u'Behind the Scenes at British Vogue'}, {u'Business Day': u'Richard Neville, 74, a Founder of \\u201960s Counterculture Magazine OZ, Dies'}, {u'Arts': u'Leslie H. Martinson, Director of Prime-Time TV for Four Decades, Dies at 101'}, {u'Opinion': u'The Cost of Keeping Companies in the United States'}, {u'Well': u'How Do You Throw a Birthday Party When a Child Is Homeless?'}, {u'World': u'Israel Quietly Legalizes Pirate Outposts in the West Bank'}, {u'World': u'Few Consular Visits for American Held in North Korea'}, {u'U.S.': u'Donald Trump to Visit Mexico After More Than a Year of Mocking It'}, {u'Magazine': u'The Electric, Infuriating Nick Kyrgios'}, {u'U.S.': u'Donald Trump\\u2019s Description of Black America Is Offending Those Living in It'}, {u'Business Day': u'Trump Is Testing the Norms of Objectivity in Journalism'}, {u'World': u'Donald Trump, Perhaps Unwittingly, Exposes Paradox of Nuclear Arms'}, {u'World': u'Donald Trump\\u2019s Appeal to Russia Shocks Foreign Policy Experts'}, {u'U.S.': u'Inside the Six Weeks Donald Trump Was a Nonstop \\u2018Birther\\u2019'}, {u'Books': u'\\u2018The Girls,\\u2019 by Emma Cline'}, {u'U.S.': u'Homicide Rates Jump in Many Major U.S. Cities, New Data Shows'}, {u'Magazine': u'The Minecraft Generation'}, {u'Sports': u'Golden State Warriors Set N.B.A. Record With 73 Wins'}, {u'World': u'Boaty McBoatface: What You Get When You Let the Internet Decide'}, {u'Fashion & Style': u'12 Tips for Living a Longer Life'}, {u'Health': u'Lawsuits Over Baby Powder Raise Questions About Cancer Risk'}, {u'Health': u'Advice College Admissions Officers Give Their Own Kids'}, {u'Education': u'How to Teach With Our Picture Prompts (and Other Times Images)'}, {u'Sports': u'How Usain Bolt Came From Behind Again to Win Gold'}, {u'U.S.': u'A Letter From G.O.P. National Security Officials Opposing Donald Trump'}, {u'World': u\"Armenia's Prime Minister Resigns After Political Crisis\"}, {u'Sports': u'The Latest: Kerber Beats Wozniacki to Reach US Open Final'}, {u'Travel': u'Early Discounts for Ski Season'}, {u'World': u'Does the Messaging Service Telegram Take Privacy Too Far?'}, {u'Sports': u'It\\u2019s the Chicago Cubs\\u2019 Year, in the Milwaukee Brewers\\u2019 Park'}, {u'Science': u'The Mystery of Sweating Buckets'}, {u'Science': u'No Longer Missing: Rosetta\\u2019s Philae Spacecraft Located on Comet'}, {u'Arts': u'The Playlist: Young Thug Turns the Summer\\u2019s Big Meme Into a Standout Track'}, {u'World': u'Turkish Dam Project Threatens to Submerge Thousands of Years of History'}, {u'Opinion': u'G.M.O. Labeling Law Could Stir a Revolution'}, {u'Opinion': u'The Art of Gracious Leadership'}, {u'Sports': u'Ryan Lochte Apologizes \\u2018for My Behavior\\u2019 After Rio Robbery Claim'}, {u'Sports': u'U.S. Swimmers\\u2019 Disputed Robbery Claim Fuels Tension in Brazil'}, {u'Movies': u'\\u2018The Birth of a Nation,\\u2019 Nate Parker\\u2019s Heralded Film, Is Now Cloaked in Controversy'}, {u'Sports': u'N.F.L. Introduces New Rules to Back Its Concussion Protocol'}, {u'Arts': u'In \\u2018The Night Of,\\u2019 John Turturro Picks Up Where James Gandolfini Left Off'}, {u'Sunday Review': u'The Families That Can\\u2019t Afford Summer'}, {u'Opinion': u'Are You in Despair? That\\u2019s Good'}, {u'Travel': u'To Find Cheap Flights, the Day (Kind of) Matters'}, {u'Health': u'For Teenage Girls, Swimsuit Season Never Ends'}, {u'Opinion': u'Read Me On Twitter!'}, {u'World': u'German Nationalists Revel in Success, but Future Unclear'}, {u'World': u\"Palestinian Court Postpones Next Month's Municipal Election\"}, {u'Travel': u'Madrid for Kids? Try D.I.Y. Spanish Immersion'}, {u'N.Y. / Region': u'Packed Restaurant. Screaming Kid. Oblivious Mommy. What Now?'}, {u'Business Day': u'Aron Ain of Kronos: The Incalculable Value of a Good Boss'}, {u'U.S.': u'Donald Trump to Address \\u2018Values Voters,\\u2019 a Potentially Elusive Crowd'}, {u'Arts': u'Zao Wou-Ki, an Abstract Fusion Master'}, {u'U.S.': u'Five Things to Know About Congress\\u2019s Fight Over Zika'}, {u'Sports': u'Key to Winning at the U.S. Open Is in the First Four Shots'}, {u'Business Day': u'Law Enforcement \\u2018Not Winning\\u2019 War on White-Collar Crime'}, {u'Arts': u'\\u2018Narcos\\u2019 Season 2, Episode 3: A Flawed Endgame'}, {u'Science': u'How Did Lightning Kill More Than 300 Reindeer?'}, {u'World': u'Court Overturns \\u2018Burkini\\u2019 Ban in French Town'}, {u'T Magazine': u'Kristen Stewart, the Good Bad Girl'}, {u'Movies': u'Review: \\u2018Florence Foster Jenkins,\\u2019 Singing So Wretched It\\u2019s Legendary'}, {u'Sports': u'Message Sent: 21 and Counting for Michael Phelps'}, {u'Technology': u'What\\u2019s the Right Age for a Child to Get a Smartphone?'}, {u'Fashion & Style': u'The Curious Case of the Fainting Models'}, {u'Movies': u'The Story After \\u2018Chariots of Fire\\u2019'}, {u'Magazine': u'The Humiliating Practice of Sex-Testing Female Athletes'}, {u'Opinion': u'Artificial Intelligence\\u2019s White Guy Problem'}, {u'World': u'The Colombian Hit Man Who Became a YouTube Star'}, {u'The Upshot': u'There Are More White Voters Than People Think. That\\u2019s Good News for Trump.'}, {u'U.S.': u'Light Sentence for Brock Turner in Stanford Rape Case Draws Outrage'}, {u'Technology': u'Zen and the Art of Managing Smartphone Photos'}, {u'Food': u'Why Christopher Kimball Is Moving On From America\\u2019s Test Kitchen'}, {u'Technology': u'The Race Is On to Control Artificial Intelligence, and Tech\\u2019s Future'}, {u'Business Day': u'Wells Fargo to Pay $1.2 Billion in Mortgage Settlement'}, {u'N.Y. / Region': u'The Lonely Death of George Bell'}, {u'Health': u'Helping Our School-Age Children Sleep Better'}, {u'U.S.': u'Fact Checks of the 2016 Election'}, {u'Business Day': u'The Trans-Pacific Partnership, Explained'}, {u'World': u'How Mexico\\u2019s Most-Wanted Drug Lord Escaped From Prison (Again)'}, {u'World': u'France: Unpopular Hollande Hints He Will Seek a Second Term'}, {u'N.Y. / Region': u'Once Upon a Tart, Reborn in SoHo'}, {u'Arts': u'Lucy Dacus, Hopscotching From Wounded to Wounding'}, {u'Fashion & Style': u'New York Fashion Week, Day 3: Upstarts, Icons and a Hadid'}, {u'Arts': u'Art and Words Are Inseparable in the Sackner Collection'}, {u'Sports': u'Saints\\u2019 Drew Brees Agrees to $44 Million New Contract'}, {u'T Magazine': u'One-Thing Shop: Tinned Fish, Lisbon'}, {u'Opinion': u'False Hope and a Needless Death Behind Bars'}, {u'Business Day': u'Look Up: In the Digital Age, Billboards Are Far From Dead'}, {u'Arts': u'\\u2018Narcos\\u2019 Season 2, Episode 7: Collateral Damage'}, {u'Opinion': u'Take Back the House, Democrats. Please.'}, {u'Books': u'Rachel Cusk Reviews Two Books About Assisted Reproduction'}, {u'Fashion & Style': u'This Fashion Week, Google Gets a New Look'}, {u'Business Day': u'Female Lawyer\\u2019s Gender-Bias Suit Challenges Law Firm Pay Practices'}, {u'Opinion': u'The Real Clinton Foundation Revelation'}, {u'Opinion': u'Pandemonium at J.F.K. Airport'}, {u'Opinion': u'Clinton\\u2019s Fibs vs. Trump\\u2019s Huge Lies'}, {u'N.Y. / Region': u'<div>Where a Queens Jogger Died, Residents Warn: Don\\u2019t Go There Alone</div>'}, {u'U.S.': u'Crossing the Line: How Donald Trump Behaved With Women in Private'}, {u'Technology': u'Discrimination by Airbnb Hosts Is Widespread, Report Says'}, {u'Health': u'How Does Race Walking Compare to Running?'}, {u'Health': u'EpiPen Price Rise Sparks Concern for Allergy Sufferers'}, {u'Health': u'1 Minute of All-Out Exercise May Have Benefits of 45 Minutes of Moderate Exertion'}, {u'Health': u'The Close Ties Between Exercise and Beer'}, {u'Education': u'Our Second Annual Student Editorial Cartoon Contest'}, {u'Education': u'What Do You Wish Your Teachers Knew About You?'}, {u'The Upshot': u'What 2,000 Calories Looks Like'}, {u'World': u'Iranian Faction Among Kurds Trained by US Against Militants'}, {u'Fashion & Style': u'How to Dress Like an Aristocrat (Without the Itch)'}, {u'Crosswords & Games': u'Searching for Oneself'}, {u'Business Day': u'Nintendo Is Ready to Level Up to Mobile Games'}, {u'Opinion': u'Short Story, Shorter Response'}, {u'Opinion': u'How Black Voters View Hillary Clinton and Donald Trump'}, {u'Food': u'The Tuck Room Will Serve a Little History With Your Highball'}, {u'World': u'A.N.C.\\u2019s Combative Response to Election Losses Startles South Africa'}, {u'U.S.': u'Hillary Clinton Accuses Russia of Interfering With U.S. Election'}, {u'Arts': u'Streisand\\u2019s \\u2018Encore\\u2019 Tops the Billboard Album Chart'}, {u'Movies': u'\\u2018She Made Me Bleed a Little\\u2019: Alicia Vikander and Michael Fassbender'}, {u'Fashion & Style': u'Coming Back Home to Oscar de la Renta'}, {u'Books': u'Essays by Han Han, the Chinese Blogger and Media Superstar'}, {u'Arts': u'Review: In \\u2018Narcos\\u2019 Season 2, Pablo Escobar\\u2019s Time Is Running Out'}, {u'World': u'All Impeachments Are Political. But Was Brazil\\u2019s Something More Sinister?'}, {u'Technology': u'Looking for a New Job? These Free Apps Can Help'}, {u'Fashion & Style': u'His Movie, Her Job and Their Relationship'}, {u'Well': u'Waiting for Cancer'}, {u'The Upshot': u'Democratic Dream of Two Blue Coasts? Clinton Is in Striking Distance'}, {u'Technology': u'How Uber Lost More Than $1 Billion in the First Half of 2016'}, {u'World': u'Greek Villagers Rescued Migrants. Now They Are the Ones Suffering.'}, {u'The Upshot': u'More Older People Are Finding Work, but What Kind?'}, {u'World': u'Who\\u2019s Got a Carrier to Rival the U.S. Navy\\u2019s? (Hint: Not Russia.)'}, {u'Technology': u'Chinese Tech Firms Forced to Choose Market: Home or Everywhere Else'}, {u'U.S.': u'Federal Judge Allows Suit Against Trump University to Proceed'}, {u'Health': u'Setting the Body\\u2019s \\u2018Serial Killers\\u2019 Loose on Cancer'}, {u'World': u'China Tiger Attack Kills Woman at Drive-Through Animal Park'}, {u'Business Day': u'Gretchen Carlson, Former Fox Anchor, Speaks Publicly About Sexual Harassment Lawsuit'}, {u'Science': u'Story of Philistines Could Be Reshaped by Ancient Cemetery'}, {u'Opinion': u'Solving All the Wrong Problems'}, {u'Travel': u'How to Survive Being an Airbnb Host'}, {u'Opinion': u'Aziz Ansari: Why Trump Makes Me Scared for My Family'}, {u'Food': u'Jack Daniel\\u2019s Embraces a Hidden Ingredient: Help From a Slave'}, {u'Business Day': u'Why You Probably Won\\u2019t Get to Use Your Ticketmaster Vouchers'}, {u'Opinion': u'Think Less, Think Better'}, {u'Magazine': u'Choosing a School for My Daughter in a Segregated City'}, {u'World': u'How Venezuela Fell Into Crisis, and What Could Happen Next'}, {u'Magazine': u'The Aspiring Novelist Who Became Obama\\u2019s Foreign-Policy Guru'}, {u'U.S.': u'San Francisco Police Chief Releases Officers\\u2019 Racist Texts'}, {u'Magazine': u'The Island Where People Forget to Die'}, {u'Education': u'18 New York Times Articles You Should Read Before You Turn 18'}, {u'Education': u'Great Free Resources for Teaching Election 2016'}, {u'Travel': u'36 Hours in Boulder, Colo.'}, {u'Theater': u'Why \\u2018Hamilton\\u2019 Has Heat'}, {u'World': u'Retired Pope Offers Final Reflections on Papacy, Francis'}, {u'World': u'Maldives Police Raid Newsroom After Documentary Broadcast'}, {u'Health': u'Handymen, Home Care Helps Seniors Trying to Age in Place'}, {u'U.S.': u\"Duterte's Drug War Puts Strain on US-Philippine Ties\"}, {u'World': u'Obama Cancels Meeting With New Philippine President'}, {u'Sports': u'More Pitchers and Fewer Innings as Teams Battle Injuries'}, {u'Arts': u'Classical Music Listings for Sept. 9-15'}, {u'World': u'How Laos Tries to Balance Its Powerful Neighbors'}, {u'Fashion & Style': u'Neon Makes a Point at the U.S. Open'}, {u'Business Day': u'William Ackman\\u2019s Pershing Square Takes a Stake in Chipotle'}, {u'Arts': u'\\u2018Narcos\\u2019 Season 2, Episode 8: A Grieving Kingpin'}, {u'Opinion': u'Chappatte on Mother Teresa\\u2019s Canonization'}, {u'T Magazine': u'When Dick Cavett Met Seth Meyers'}, {u'Crosswords & Games': u'Crossing the Pool'}, {u'Arts': u'What You Should Watch This Week: \\u2018Queen Sugar\\u2019 and \\u2018Atlanta\\u2019'}, {u'Travel': u'Do Those Travel Search Results Look Fishy? Here\\u2019s Why'}, {u'Business Day': u'Slower Growth in Jobs Report May Give Fed Pause on Interest Rates'}, {u'U.S.': u'\\u2018Private Hell\\u2019: Prep School Sex Abuse Inquiry Paints Grim Picture'}, {u'Public Editor': u'The News From Trump Changed. The Main Story Was Slow to Catch Up.'}, {u'World': u'France\\u2019s Burkini Debate Reverberates Around the World'}, {u'World': u'Mexicans Accuse President of \\u2018Historic Error\\u2019 in Welcoming Donald Trump'}, {u'Arts': u'Dr. Joy Browne, Long-Running Psychologist of the Airwaves, Dies at 71'}, {u'Arts': u'\\u2018Mr. Robot\\u2019 Season 2, Episode 9: A Bad Dream'}, {u'N.Y. / Region': u'\\u2018The Market Is Saturated\\u2019: Brooklyn\\u2019s Rental Boom May Turn Into a Glut'}, {u'Business Day': u'Crackdown on For-Profit Colleges May Free Students and Trap Taxpayers'}, {u'Books': u'Ursula Le Guin Has Earned a Rare Honor. Just Don\\u2019t Call Her a Sci-Fi Writer.'}, {u'Sports': u'Hope Solo\\u2019s Behavior, and Play, Spells End With U.S. Team'}, {u'Business Day': u'Jay Fishman, Who Led Travelers Safely Through the Financial Crisis, Dies at 63'}, {u'Sports': u'In the Olympic Pool, Contempt for Drug Cheats Rises to the Surface'}, {u'U.S.': u'Fact-Checking Hillary Clinton\\u2019s Acceptance Speech'}, {u'Technology': u'Reporting an \\u2018I.R.S.\\u2019 Telephone Scam'}, {u'The Upshot': u'The One Demographic That Is Hurting Hillary Clinton'}, {u'Magazine': u'How Donald Trump Picked His Running Mate'}, {u'Arts': u'Review: \\u2018The Night Of\\u2019 Takes a Cab Ride to Hell'}, {u'Style': u'Bill Cunningham, Legendary Times Fashion Photographer, Dies at 87'}, {u'U.S.': u'Supreme Court Tie Blocks Obama Immigration Plan'}, {u'N.Y. / Region': u'Drummer Defends Stanford Student Convicted in Rape Case. Her Band Pays a Price.'}, {u'Theater': u'J. K. Rowling Just Can\\u2019t Let Harry Potter Go'}, {u'Opinion': u'Unless You\\u2019re Oprah, \\u2018Be Yourself\\u2019 Is Terrible Advice.'}, {u'Science': u'Should You Hug Your Dog?'}, {u'The Upshot': u'As Women Take Over a Male-Dominated Field, the Pay Drops'}, {u'The Upshot': u'What \\u2018The Big Short\\u2019 Gets Right, and Wrong, About the Housing Bubble'}, {u'Sports': u'Fire Raged, They Played On, and the Photo Still Beguiles'}, {u'Technology': u'How to Restore Old Versions of Word Documents'}, {u'Health': u'Is Roasting a Healthy Way to Cook Vegetables?'}, {u'Health': u'What Are the Purple Dots on Michael Phelps? Cupping Has an Olympic Moment'}, {u'Health': u'12 Minutes of Yoga for Bone Health'}, {u'Business Day': u'U.S. Job Gains in Year Through March Revised Down 150,000'}, {u'The Upshot': u'Who Is Winning in Florida?'}, {u'Sports': u'The Evidence That Ryan Lochte Lied About an Armed Robbery in Rio'}, {u'Food': u'The New Mother Sauces'}, {u'Business Day': u'This Is Your Life, Brought to You by Private Equity'}, {u'Business Day': u'Inside the Self-Driving Tesla Fatal Accident'}, {u'World': u\"Syria's Al-Qaida Announces Commander Killed in Airstrike\"}, {u'World': u'3 Canadians Charged in Sydney in $23 Million Cocaine Case'}, {u'Technology': u'Daily Report: Tweaks on the Road to Wireless, but No Pyrotechnics From Apple'}, {u'Sports': u'Going Home to New Zealand, With the Intent of Dethroning the All Blacks'}, {u'Movies': u'Review: \\u2018For the Love of Spock,\\u2019 a Son\\u2019s Tribute to Leonard Nimoy'}, {u'Business Day': u'Morning Agenda: The Tech Reformation, Low Caliber Credit, China\\u2019s Debt Burden'}, {u'Arts': u'For Sale: A Rare Duchamp'}, {u'Arts': u'Frick Collection to Offer Free Admission on First Fridays'}, {u'Arts': u'Always Something Unnerving in Paul Outerbridge Photographs'}, {u'Theater': u'\\u2018Marvin\\u2019s Room,\\u2019 a Wise Comedy About Dying, Is Bound for Broadway'}, {u'Sports': u'Q. and A.: Andy Murray on Tennis With a Young Family'}, {u'Sports': u'Swin Cash Leaving Her Mark on Liberty in Her Last W.N.B.A. Season'}, {u'N.Y. / Region': u'Parents Sue After New York State Denies Money to \\u2018Failing\\u2019 Schools'}, {u'Times Insider': u'Now in Previews: Presidential Campaign Drama'}, {u'U.S.': u'The California Voter Ordeal: 17 Decisions on the Ballot'}, {u'Fashion & Style': u'A Popular Vacation Stop? This New Hampshire Liquor Store Beckons'}, {u'World': u'African Elephant Population Dropped 30 Percent in 7 Years'}, {u'Health': u'Tests Confirm Mosquitoes in Miami Beach Are Carrying Zika Virus'}, {u'Opinion': u'Identity Politics Run Amok'}, {u'Arts': u'In \\u2018Artek and the Aaltos,\\u2019 Caution \\u2014 Sleek, Modernist Curves Ahead'}, {u'U.S.': u'Court Costs Entrap Nonwhite, Poor Juvenile Offenders'}, {u'Opinion': u'Even Roger Federer Gets Old'}, {u'Fashion & Style': u'Black Health Matters'}, {u'Business Day': u'Only in Palm Beach: The $95 Million Tear-Down'}, {u'Opinion': u'When a Swimsuit Is a Security Threat'}, {u'Travel': u'From Montreal to Minnesota, by Inland Sea'}, {u'Sports': u'Simone Biles Calms Her Mother, Then Sends Crowd Into Frenzy'}, {u'N.Y. / Region': u'A Texting Truth Often Forgotten in Politics: Your Phone Remembers Everything'}, {u'U.S.': u'Spy Agency Consensus Grows That Russia Hacked D.N.C.'}, {u'Movies': u'Review: Viggo Mortensen Captivates in \\u2018Captain Fantastic\\u2019'}, {u'U.S.': u'House Benghazi Report Finds No New Evidence of Wrongdoing by Hillary Clinton'}, {u'U.S.': u'As Donald Trump Pushes Conspiracy Theories, Right-Wing Media Gets Its Wish'}, {u'Books': u'Review: Noah Hawley\\u2019s \\u2018Before the Fall\\u2019 Is One of the Year\\u2019s Best Suspense Novels'}, {u'Opinion': u'Stop Saying \\u2018I Feel Like\\u2019'}, {u'Arts': u'Warsan Shire, the Woman Who Gave Poetry to Beyonc\\xe9\\u2019s \\u2018Lemonade\\u2019'}, {u'Theater': u'Cate Blanchett to Make Broadway Debut in Play Directed by John Crowley'}, {u'U.S.': u'Unearthing Jamestown\\u2019s Leaders, and a Mystery'}, {u'Food': u'Steak That Sizzles on the Stovetop'}, {u'Science': u'Pressure and Pain'}, {u'Education': u'How Much Do You Trust the Celebrities and Social Media Stars You Follow?'}, {u'Travel': u'36 Hours in Portland, Me.'}, {u'U.S.': u'Police Body Cameras: What Do You See?'}, {u'U.S.': u'The Way North'}, {u'Real Estate': u'Where to Live? Ask an App'}, {u'Opinion': u'Why Donald Trump Is/Is Not Suited to Be President'}, {u'Movies': u'Review: \\u2018Brother Nature\\u2019: Fish Out of Water With the Future In-Laws'}, {u'Movies': u'Review: 5 Murdered Prostitutes and an Anxious City in \\u2018London Road\\u2019'}, {u'N.Y. / Region': u'New York Today: Anatomy of a Scandal'}, {u'Food': u'Coming From the Estela Chef: Flora, in the Met Breuer'}, {u'Food': u'Nearly a Century On, Chumley\\u2019s Has a New Idea: Serious Food'}, {u'Business Day': u'Volkswagen Takes Minority Stake in Truck Maker Navistar'}, {u'Business Day': u'Whom to Vote For? Employees Tend to Follow Their Leader'}, {u'World': u'New Chinese Vessels Seen Near Disputed Reef in South China Sea'}, {u'U.S.': u'Gun Control Groups Divide Their Loyalties in Senate Races'}, {u'Opinion': u'The Lesson of EpiPens: Why Drug Prices Spike, Again and Again'}, {u'N.Y. / Region': u'The Miniature Donkey Therapy Meet-up'}, {u'Arts': u'Sergei Polunin, Ballet\\u2019s Bad Boy, Has a Change of Heart'}, {u'Opinion': u'Black Lead Matters'}, {u'Arts': u'\\u2018Narcos\\u2019 Season 2, Episode 2: The Legend vs. the Monster'}, {u'World': u'A 600-Year-Old Money Pit in the Scottish Highlands'}, {u'Times Insider': u'Seeing Orange: What Caught Commenters\\u2019 Eyes About a Small Syrian Boy in a Big Chair'}, {u'Opinion': u'Spain: A Country With No Government'}, {u'Theater': u'I\\u2019m 46. Is That Too Old to Play the Ing\\xe9nue?'}, {u'Opinion': u'Out Late With Oliver Sacks'}, {u'Books': u'Memo to Parents: Back Off, and Children Learn More'}, {u'U.S.': u'Hillary Clinton Says \\u2018Radical Fringe\\u2019 Is Taking Over G.O.P. Under Donald Trump'}, {u'Movies': u'Hackers Publish Nude Pictures on Leslie Jones\\u2019s Website'}, {u'World': u'Nearly 1,800 Killed in Duterte\\u2019s Drug War, Philippine Police Official Tells Senators'}, {u'The Upshot': u'50 Years of Electoral College Maps: How the U.S. Turned Red and Blue'}, {u'Arts': u'Oh, Gilbert! \\u2018Anne of Green Gables\\u2019 Is Coming to Netflix'}, {u'U.S.': u'Secret Ledger in Ukraine Lists Cash for Donald Trump\\u2019s Campaign Chief'}, {u'Arts': u'De La Soul\\u2019s Legacy Is Trapped in Digital Limbo'}, {u'Theater': u'Barbra Streisand Sets the Record Straight'}, {u'Fashion & Style': u'Why Self-Help Guru James Altucher Only Owns 15 Things'}, {u'Books': u'Review: \\u2018Harry Potter and the Cursed Child\\u2019 Explores the Power of Time'}, {u'Technology': u'Apple\\u2019s iPhone Sales Drop Again, but Services Are a Bright Spot'}, {u'Business Day': u'$1 Billion for Dollar Shave Club: Why Every Company Should Worry'}, {u'U.S.': u'In 9/11 Document, View of a Saudi Effort to Thwart U.S. Action on Al Qaeda'}, {u'Movies': u'Review: \\u2018Caf\\xe9 Society\\u2019 Isn\\u2019t Woody Allen\\u2019s Worst Movie'}, {u'Opinion': u'The Shame Culture'}, {u'N.Y. / Region': u'Tensions Simmer as a Small Town Seeks Answers in a Boy\\u2019s Killing'}, {u'Real Estate': u'When a Dream House Becomes a Money Pit'}, {u'Magazine': u'The Lawyer Who Became DuPont\\u2019s Worst Nightmare'}, {u'Movies': u'The Best Movies of 2015'}, {u'Magazine': u'What Do We Really Know About Osama bin Laden\\u2019s Death?'}, {u'Books': u'\\u2018The Sympathizer,\\u2019 by Viet Thanh Nguyen'}, {u'Health': u'Is Teff the New Super Grain?'}, {u'Business Day': u\"SEC Eyes Contempt for Wyly Estate's Failure to Pay $101 Million\"}, {u'Sports': u'The Countries Where Women Won More Medals Than Men in Rio'}, {u'T Magazine': u'Anna Wintour\\u2019s Wild Garden'}, {u'N.Y. / Region': u'Test Your Book Smarts'}, {u'World': u'Pakistan Extends Stay for Afghan Refugees Until End of March'}, {u'World': u'Israel Strikes Syria After Projectile Lands in Golan Heights'}, {u'U.S.': u\"Lawmakers Tangle Anew Over Clinton's Private Email Server\"}, {u'Fashion & Style': u'At New York Fashion Week, Just Swipe Left'}, {u'Theater': u'Danny DeVito Will Make Broadway Debut in \\u2018The Price\\u2019'}, {u'Arts': u'What\\u2019s on TV Friday: \\u2018One Mississippi\\u2019 and \\u2018Quarry\\u2019'}, {u'Arts': u'New York City to Help Fund Internships at Cultural Organizations'}, {u'Arts': u'What to See in New York Art Galleries This Week'}, {u'Arts': u'Fitzwilliam Museum Celebrates the Birth and Glory of Color Manuscripts'}, {u'Arts': u'A Hermitage Amsterdam Show Looks Closer at Catherine the Great'}, {u'World': u'A Day of Bloodshed in Kabul: Attacks at Defense Ministry and Aid Compound'}, {u'Sports': u'Final-Out Catch by Brett Gardner Secures Yankees\\u2019 Win Over Blue Jays'}, {u'World': u'\\u2018Gaps of Trust\\u2019 With Russia Bar a Syrian Truce, Obama Says'}, {u'World': u'Shanghai Violin Competition Celebrates Isaac Stern\\u2019s Legacy in China'}, {u'Business Day': u'Roger Ailes Hints at Suit Against New York Magazine'}, {u'Business Day': u'Barclays Hires JPMorgan Executive to Head Investment Bank'}, {u'Travel': u'In Boulder, Where Inner Peace Meets Outer Beauty'}, {u'Books': u'The End of Intervention: Two Books Explore the American Catastrophe in the Middle East'}, {u'Arts': u'Prince\\u2019s Old Band Resurrects Him Through His Songs'}, {u'Opinion': u'Donald Trump, Deporter in Waiting'}, {u'Business Day': u'Have a Story to Tell? Your Personal Memoirist Is Here'}, {u'Arts': u'Gallery Hopes to Sell Kanye West\\u2019s \\u2018Famous\\u2019 Sculpture for $4 Million'}, {u'Opinion': u'Win, Lose, but No Compromise'}, {u'N.Y. / Region': u'Grandmaster Flash Beats Back Time'}, {u'Technology': u'Cloud Computing Brings Sprawling Centers, but Few Jobs, to Small Towns'}, {u'World': u'French \\u2018Burkini\\u2019 Bans Provoke Backlash as Armed Police Confront Beachgoers'}, {u'The Upshot': u'The EpiPen, a Case Study in Health System Dysfunction'}, {u'Opinion': u'The Age of Post-Truth Politics'}, {u'Science': u'English Village Becomes Climate Leader by Quietly Cleaning Up Its Own Patch'}, {u'U.S.': u'Foundation Ties Bedevil Hillary Clinton\\u2019s Presidential Campaign'}, {u'Opinion': u'An Open Letter From Mr. Trump'}, {u'Opinion': u'A Natural Cure for Lyme Disease'}, {u'U.S.': u'Trump Casinos\\u2019 Tax Debt Was $30 Million. Then Christie Took Office.'}, {u'Podcasts': u'Introducing The Run-Up, Our New Election Podcast'}, {u'World': u'How a Secretive Branch of ISIS Built a Global Network of Killers'}, {u'The Upshot': u'Can Gary Johnson, the Libertarian Nominee, Swing the Election?'}, {u'Business Day': u'Illegal in Massachusetts: Asking Your Salary in a Job Interview'}, {u'Arts': u'Confessor. Feminist. Adult. What the Hell Happened to Howard Stern?'}, {u'The Upshot': u'You Probably Don\\u2019t Need Dental X-Rays Every Year'}, {u'Magazine': u'My Father, the YouTube Star'}, {u'U.S.': u'Dismayed by Donald Trump, Michael Bloomberg Will Endorse Hillary Clinton'}, {u'Technology': u'Twitter Bars Milo Yiannopoulos in Wake of Leslie Jones\\u2019s Reports of Abuse'}, {u'Health': u'A Cavity-Fighting Liquid Lets Kids Avoid Dentists\\u2019 Drills'}, {u'Opinion': u'Death in Black and White'}, {u'Business Day': u'Gretchen Carlson of Fox News Files Harassment Suit Against Roger Ailes'}, {u'Business Day': u'Self-Driving Tesla Was Involved in Fatal Crash, U.S. Says'}, {u'Magazine': u'The Good Wife in Somaliland'}, {u'U.S.': u'Mary Matalin, Republican Strategist and Pundit, Changes Political Parties'}, {u'Fashion & Style': u'The Rolex Daytona is the Hottest Watch That Money Can\\u2019t Buy'}, {u'World': u'Flawed Justice After a Mob Killed an Afghan Woman'}, {u'Health': u'For a 7-Minute Workout, Try Our New App'}, {u'Business Day': u'U.S Wage Pressures Confined to Highly Skilled, Little Sign of Broadening: Fed'}, {u'Arts': u'Tom Ford Makes Comeback at Venice Festival With His Second Movie'}, {u'World': u'How the AK-47 and AR-15 Evolved Into Rifles of Choice for Mass Killers'}, {u'N.Y. / Region': u'The Bridge Scandal: You Ask, We Answer'}, {u'World': u'Mother Teresa: The Life of a Saint'}, {u'U.S.': u'Map of Tropical Storm Hermine\\u2019s Path'}, {u'Sports': u'Olympic Bodies: Can You Guess Their Sport?'}, {u'Magazine': u'The Olympics Issue'}, {u'Your Money': u'Memories and Hopes: The Top Essays'}, {u'U.S.': u'How the Epidemic of Drug Overdose Deaths Ripples Across America'}, {u'Food': u'The Master Ice Cream Recipe'}, {u'World': u\"Couple Held After Gas Canisters Found Near Paris' Notre Dame\"}, {u'Movies': u'Where Were Women in Movies? Anthology Film Archives Gives an Early History'}, {u'Well': u'What if the Tooth Fairy Kills Me in My Sleep?'}, {u'Movies': u'Review: In \\u2018The Wild Life,\\u2019 Island Critters School a Castaway'}, {u'Movies': u'Review: \\u2018Defying the Nazis\\u2019: An American Couple on a Rescue Mission'}, {u'Fashion & Style': u'A Budding Beauty Baron Gets an Assist From Nas'}, {u'Opinion': u'Ageism in the Workplace'}, {u'N.Y. / Region': u'Another Sunny Day on the Lower East Side'}, {u'Food': u'Chains Will Bring a Taste of the West Coast to New York'}, {u'Food': u'La Newyorkina to Open Its First Shop for Mexican Sweets'}, {u'Business Day': u'G.E. Offers $1.4 Billion for 3-D Printing Technology Companies'}, {u'Business Day': u'British Airways Computer Problems Cause Widespread Delays'}, {u'World': u'Syrian Forces Make Gains Near Aleppo With Russian Help'}, {u'U.S.': u'Namon Hoggle, 81, Accused in a Civil Rights Killing, Is Dead'}, {u'Opinion': u'A Non-Contest at the World Bank'}, {u'U.S.': u'Hermine Swirls Off East Coast, but Threat Eases'}, {u'Opinion': u'Hope for Americans With Mental Illness'}, {u'Books': u'\\u2018Razor Girl,\\u2019 a Tale of Kidnappers, Reality TV Stars and Dodgy Seafood'}, {u'Travel': u'Frankfurt\\u2019s Rough Red Light District Becomes Cool'}, {u'Real Estate': u'High-End Condos for the Merely Affluent'}, {u'Opinion': u'The Big Gay Sway'}, {u'Fashion & Style': u'I Do, Part Two: Why Couples Decide to Renew Their Vows'}, {u'Books': u'9 Books for Back-to-School That Times Editors Think You Should Read'}, {u'Arts': u'Cracking a Glass Ceiling With the Maestro\\u2019s Baton'}, {u'Opinion': u'Endorsements in New York Primary Races'}, {u'U.S.': u'Transcript of Donald Trump\\u2019s Immigration Speech'}, {u'N.Y. / Region': u'Committed to Rebuilding the World Trade Center, for 15 Years and Counting'}, {u'World': u'Scheduled Flights to Cuba From U.S. Begin Again, Now With Jet Engines'}, {u'Fashion & Style': u'How the Christodora House Became the Chelsea Hotel of the East Village'}, {u'Arts': u'Meet the 24-Year-Old Director Bringing Kanye West\\u2019s Visions to Life'}, {u'The Upshot': u'How Much Is Donald Trump Hurting the G.O.P.? Here\\u2019s a Way to See'}, {u'Sports': u'Dallas Cowboys Quarterback Tony Romo Has a Back Fracture'}, {u'Movies': u'Natasha Lyonne, So Much More Than \\u2018the Girl\\u2019'}, {u'Books': u'Nathan Hill Is Compared to John Irving. Irving Compares Him to Dickens.'}, {u'Movies': u'Review: \\u2018Don\\u2019t Breathe\\u2019: Whose Bright Idea Was It to Rob a Blind Man?'}, {u'World': u'Turkey\\u2019s Military Plunges Into Syria, Enabling Rebels to Capture ISIS Stronghold'}, {u'Arts': u'Gord Downie, Frontman for the Tragically Hip, in His Final Act'}, {u'U.S.': u'President Obama\\u2019s Emotional Spotify Playlist Is a Hit'}, {u'Sports': u'Ryan Lochte and Three Teammates Robbed at Gunpoint'}, {u'Arts': u'\\u2018The Night Of\\u2019 Season 1, Episode 6: The Cat or the Yarn?'}, {u'The Upshot': u'Obamacare Appears to Be Making People Healthier'}, {u'Magazine': u'Jonah Hill Is No Joke'}, {u'Education': u'Fighting for Free Speech on America\\u2019s Campuses'}, {u'Business Day': u'Immunotherapy Drug Opdivo Fails Clinical Trial to Expand Use'}, {u'U.S.': u'Voices From Donald Trump\\u2019s Rallies, Uncensored'}, {u'U.S.': u'U.S. Wrestles With How to Fight Back Against Cyberattacks'}, {u'Health': u'Zika Cases in Puerto Rico Are Skyrocketing'}, {u'The Upshot': u'How Scalpers Make Their Millions With \\u2018Hamilton\\u2019'}, {u'Business Day': u'Fed Suggests a Growing Chance That Rates Will Rise This Year'}, {u'Business Day': u'At World\\u2019s Largest Hedge Fund, Sex, Fear and Video Surveillance'}, {u'U.S.': u'Fact-Checking the Truth That Donald Trump Promised'}, {u'Science': u'Miles of Algae and a Multitude of Hazards'}, {u'U.S.': u'Why \\u2018All Lives Matter\\u2019 Is Such a Perilous Phrase'}, {u'Fashion & Style': u'Internet Porn Nearly Ruined His Life. Now He Wants to Help.'}, {u'World': u'Elie Wiesel, Auschwitz Survivor and Nobel Peace Prize Winner, Dies at 87'}, {u'World': u'Britain Votes to Leave E.U.; Cameron Plans to Step Down'}, {u'Books': u'12 New Books We\\u2019re Reading This Summer (and 6 Not So New)'}, {u'Opinion': u'Why Is Clinton Disliked?'}, {u'Movies': u'Review: In \\u2018Money Monster,\\u2019 a Broke Investor Holds a Grudge and a Gun'}, {u'Sports': u'That\\u2019s Right, $63 Million for a Football Stadium \\u2026 for High Schoolers'}, {u'U.S.': u'Malia Obama to Attend Harvard, but Not Until 2017'}, {u'Food': u'It\\u2019s Dinner in a Box. But Are Meal Delivery Kits Cooking?'}, {u'Magazine': u'What Happened When Venture Capitalists Took Over the Golden State Warriors'}, {u'Magazine': u'Failure to Lunch'}, {u'Opinion': u'Why I Am Leaving Goldman Sachs'}, {u'Health': u'More Head Injuries Reported for Babies in Stroller Accidents'}, {u'Opinion': u'The Macroeconomics of Brexit: Motivated Reasoning?'}, {u'Job Market': u'The New York Times is looking for an editor to cover gender issues'}, {u'Real Estate': u\"In Case You Missed It: August's Top Real Estate Stories\"}, {u'Travel': u'36 Hours in Amsterdam'}, {u'The Upshot': u'At Chipotle, How Many Calories Do People Really Eat?'}, {u'World': u'The Secret Casualties of Iraq\\u2019s Abandoned Chemical Weapons'}, {u'World': u\"Obama: Americans Will Reject Trump's 'Wacky' Ideas\"}, {u'Business Day': u\"Sandwich Chain Jimmy John's Sells Majority Stake to Roark\"}, {u'Movies': u'Review: \\u2018Starving the Beast\\u2019 Traces the Burdens of Higher Education Defunding'}, {u'Opinion': u'Ending Apple\\u2019s Offshore Tax Dodge'}, {u'U.S.': u'Student Crossword Archive'}, {u'U.S.': u'On the Menu When Congress Returns From Recess'}, {u'Sports': u'Bryan Brothers Close Louis Armstrong Stadium as Opponents Close Gap'}, {u'World': u'At World Scrabble Championship, \\u2018Braconid\\u2019 Carries the Day'}, {u'World': u'Gentler Chicken Slaughter? Chinese Province Thinks It\\u2019s Worth a Try'}, {u'Theater': u'Review: In \\u2018The Jamb,\\u2019 2 Gay Middle-Age Friends Face a Reckoning'}, {u'N.Y. / Region': u'Hopes Rise That Staten Island\\u2019s Young Eagle Is a Native New Yorker'}, {u'Business Day': u'Brazil\\u2019s \\u2018Better Than Goldman\\u2019 Bank Slowly Rebounds From Scandal'}, {u'Briefing': u'U.S. Presidential Race, Rodrigo Duterte, Roger Ailes: Your Tuesday Evening Briefing'}, {u'U.S.': u'Tim Kaine Compares Donald Trump\\u2019s Comments on Russian Hacking to Watergate Scandal'}, {u'Real Estate': u'The Moral: Get It in Writing'}, {u'Magazine': u'The Crispy Decadence of the Patty Melt'}, {u'Fashion & Style': u'David Wong, Dennis Yu'}, {u'Books': u'Daniel Silva: By the Book'}, {u'U.S.': u'6 Things We Learned in the F.B.I. Clinton Email Investigation'}, {u'U.S.': u'Obama Visits Midway, Highlighting Monument and Commitment to Environment'}, {u'U.S.': u'Emails Raise New Questions About Clinton Foundation Ties to State Dept.'}, {u'Opinion': u'The Immigrants Turned Away'}, {u'Movies': u'Review: \\u2018White Girl,\\u2019 a Tale of Cocaine, Sex and Privilege'}, {u'Health': u'U.S. Funding for Fighting Zika Virus Is Nearly Spent, C.D.C. Says'}, {u'Books': u'Tom Wolfe\\u2019s \\u2018The Kingdom of Speech\\u2019 Takes Aim at Darwin and Chomsky'}, {u'Well': u'How 12 EpiPens Saved My Life'}, {u'Opinion': u'Jailing Old Folks Makes No Sense'}, {u'Health': u'The Decline of Tube Feeding for Dementia Patients'}, {u'Arts': u'5 Standout Moments From the 2016 V.M.A.s'}, {u'Technology': u'Uber Aims for an Edge in the Race for a Self-Driving Future'}, {u'Science': u'From Fins Into Hands: Scientists Discover a Deep Evolutionary Link'}, {u'Science': u'Giant Coral Reef in Protected Area Shows New Signs of Life'}, {u'Opinion': u'The Secret of Jamaica\\u2019s Runners'}, {u'Podcasts': u'\\u2018I Don\\u2019t Know.\\u2019 But Does He? The Hidden Meaning of Trump\\u2019s Words'}, {u'U.S.': u'Donald Trump Suggests \\u2018Second Amendment People\\u2019 Could Act Against Hillary Clinton'}, {u'Sports': u'Katinka Hosszu and Her Husband Raise Eyebrows at the Pool'}, {u'U.S.': u'Obama Says Republicans Should Withdraw Support for Trump'}, {u'U.S.': u'Donald Trump Jousts With a Crying Baby at His Rally'}, {u'Fashion & Style': u'The Modern Love Podcast: Gillian Jacobs Reads \\u2018To Fall in Love With Anyone, Do This\\u2019'}, {u'World': u'Where CPR on a Boy Is Time Wasted: U.S. Doctors Recall Aleppo\\u2019s Horrors'}, {u'U.S.': u'Donald Trump\\u2019s Confrontation With Muslim Soldier\\u2019s Parents Emerges as Unexpected Flash Point'}, {u'Magazine': u'The Oppressive Gospel of \\u2018Minimalism\\u2019'}, {u'N.Y. / Region': u'The Museum of Ice Cream Is Sold Out. Here\\u2019s What You\\u2019re Missing.'}, {u'U.S.': u'In Tribute to Son, Khizr Khan Offered Citizenship Lesson at Convention'}, {u'U.S.': u'As Democrats Gather, a Russian Subplot Raises Intrigue'}, {u'Fashion & Style': u'Jon Favreau on Speechwriting, Life After D.C. ... and Melania Trump'}, {u'Books': u'Review: In Liane Moriarty\\u2019s \\u2018Truly Madly Guilty,\\u2019 a Very Unfortunate Barbecue Indeed'}, {u'The Upshot': u'Introducing The Upshot\\u2019s Presidential Prediction Model'}, {u'Theater': u'Review: A Restaged \\u2018Small Mouth Sounds\\u2019 Still Sparkles'}, {u'Fashion & Style': u'Grace Gummer on \\u2018Mr. Robot\\u2019 and Being Meryl Streep\\u2019s Daughter'}, {u'Travel': u'Traveling to Turkey? What Tourists Should Know'}, {u'U.S.': u'Supreme Court Upholds Affirmative Action Program at University of Texas'}, {u'N.Y. / Region': u'Brooklyn\\u2019s Private Jewish Patrols Wield Power. Some Call Them Bullies.'}, {u'U.S.': u'Orlando Gunman Was \\u2018Cool and Calm\\u2019 After Massacre, Police Say'}, {u'Real Estate': u'Tiny Home Test Drive'}, {u'Movies': u'Review: \\u2018Genius\\u2019 Puts Max Perkins and Thomas Wolfe in a Literary Bromance'}, {u'Movies': u'Asian-American Actors Are Fighting for Visibility. They Will Not Be Ignored.'}, {u'U.S.': u'Obamas\\u2019 Next Home: 9 Bedrooms in a Wealthy Washington Neighborhood'}, {u'Business Day': u'White House Increases Overtime Eligibility by Millions'}, {u'Movies': u'Summer Movie Release Schedule 2016'}, {u'Sports': u'Pay Disparity in U.S. Soccer? It\\u2019s Complicated'}, {u'Sports': u'Curt Schilling, ESPN Analyst, Is Fired Over Offensive Social Media Post'}, {u'Opinion': u'The Danger of a Single Story'}, {u'Opinion': u'A New Map for America'}, {u'Opinion': u'My Father\\u2019s Killer\\u2019s Funeral'}, {u'Your Money': u'A Smaller Down Payment, and No Mortgage Insurance Required'}, {u'Sports': u'Broncos Lose Big in Free-Agent Scramble'}, {u'Magazine': u'Rethinking the Work-Life Equation'}, {u'Real Estate': u'Tim Daly at Home on the Upper West Side'}, {u'Food': u'At Se\\xf1or Frog\\u2019s in Times Square, It\\u2019s Spring Break Forever'}, {u'T Magazine': u'That Perfume You Smell Everywhere Is Santal 33'}, {u'Fashion & Style': u'Kept Together by the Bars Between Us (Updated With Podcast)'}, {u'Health': u'Exercise Boosts Brain Health, but Is There a Downside?'}, {u'Multimedia': u'Getty Images Announces Grant Winners for 2016'}, {u'Opinion': u'#1000BlackGirlBooks Campaign Expands'}, {u'Technology': u'Should You Charge Your Phone Overnight?'}, {u'World': u'More of Kremlin\\u2019s Opponents Are Ending Up Dead'}, {u'Business Day': u'Private Equity Pursues Profits in Keeping the Elderly at Home'}, {u'The Upshot': u'Obamacare Options? In Many Parts of Country, Only One Insurer Will Remain'}, {u'Arts': u'Is Bandcamp the Holy Grail of Online Record Stores?'}, {u'Opinion': u'How Community Networks Stem Childhood Traumas'}, {u'U.S.': u'Inside the Failing Mission to Tame Donald Trump\\u2019s Tongue'}, {u'Fashion & Style': u'Bride Is Walked Down Aisle by the Man Who Got Her Father\\u2019s Donated Heart'}, {u'World': u'Military Success in Syria Gives Putin Upper Hand in U.S. Proxy War'}, {u'U.S.': u'As Donald Trump Incites Feuds, Other G.O.P. Candidates Flee His Shadow'}, {u'Arts': u'\\u2018The Night Of\\u2019 Season 1, Episode 5: Seeing Naz in a New Light'}, {u'Arts': u'How Do You Add to Versailles? Bravely'}, {u'World': u'Fatah Makes Incendiary Facebook Claim of Killing 11,000 Israelis'}, {u'Business Day': u'A Tantalizing Offering From a Meal Kit Service: The Box'}, {u'Technology': u'China, Not Silicon Valley, Is Cutting Edge in Mobile Tech'}, {u'U.S.': u'Christine Quinn and Corey Lewandowski Bicker Over Trump\\u2019s Khan Remarks'}, {u'World': u'EgyptAir Flight 804 Broke Up in Midair After a Fire, Evidence Suggests'}, {u'World': u'Visiting Madagascar? Leave Red Swimsuits (and Lemur Recipes) at Home'}, {u'Health': u'No Hearing Aid? Some Gizmos Offer Alternative to \\u2018Speak Up!\\u2019'}, {u'The Upshot': u'So Many Research Scientists, So Few Openings as Professors'}, {u'Opinion': u'Get the Epidural'}, {u'Business Day': u'Elizabeth Holmes of Theranos Is Barred From Running Lab for 2 Years'}, {u'U.S.': u'Hillary Clinton\\u2019s Email Was Probably Hacked, Experts Say'}, {u'World': u'Refugees Encounter a Foreign Word: Welcome'}, {u'Health': u'Estimate of U.S. Transgender Population Doubles to 1.4 Million Adults'}, {u'Health': u'United States of Paranoia: They See Gangs of Stalkers'}, {u'Opinion': u'What Does a Lifetime of Leers Do to Us?'}, {u'Opinion': u'Educate Your Immune System'}, {u'N.Y. / Region': u'How Daveed Diggs of \\u2018Hamilton\\u2019 Spends His Sundays'}, {u'Fashion & Style': u'Paula Broadwell, David Petraeus and the Afterlife of a Scandal'}, {u'Theater': u'Review: \\u2018Paramour\\u2019 Brings Cirque du Soleil to Broadway'}, {u'Health': u'Cancer Survivor Receives First Penis Transplant in the United States'}, {u'Opinion': u'Why Are the Highly Educated So Liberal?'}, {u'U.S.': u'Donald Trump\\u2019s Aging Air Fleet Gives His Bid, and His Brand, a Lift'}, {u'Science': u'Scientists Unveil New \\u2018Tree of Life\\u2019'}, {u'Fashion & Style': u'What Happens When Millennials Run the Workplace?'}, {u'U.S.': u'High Hopes for Hillary Clinton, Then Disappointment in Haiti'}, {u'U.S.': u'Wildly Popular App Kik Offers Teenagers, and Predators, Anonymity'}, {u'The Upshot': u'DraftKings and FanDuel Are Not Your Friends '}, {u'Opinion': u'How to Survive the College Admissions Madness'}, {u'Health': u'In &#8216;Screenagers,&#8217; What to Do About Too Much Screen Time'}, {u'Health': u'Ask Well: Muscle &#8216;Knots&#8217;'}, {u'Education': u'Article of the Day | &#8216;Flooding of Coast, Caused by Global Warming, Has Already Begun&#8217;'}]\n"
     ]
    }
   ],
   "source": [
    "print section_title"
   ]
  },
  {
   "cell_type": "code",
   "execution_count": 384,
   "metadata": {
    "collapsed": false
   },
   "outputs": [
    {
     "ename": "IndexError",
     "evalue": "string index out of range",
     "output_type": "error",
     "traceback": [
      "\u001b[0;31m---------------------------------------------------------------------------\u001b[0m",
      "\u001b[0;31mIndexError\u001b[0m                                Traceback (most recent call last)",
      "\u001b[0;32m<ipython-input-384-d852cc3cfe40>\u001b[0m in \u001b[0;36m<module>\u001b[0;34m()\u001b[0m\n\u001b[0;32m----> 1\u001b[0;31m \u001b[0mdata\u001b[0m\u001b[0;34m[\u001b[0m\u001b[0;36m38\u001b[0m\u001b[0;34m]\u001b[0m\u001b[0;34m[\u001b[0m\u001b[0;34m\"media\"\u001b[0m\u001b[0;34m]\u001b[0m\u001b[0;34m[\u001b[0m\u001b[0;36m0\u001b[0m\u001b[0;34m]\u001b[0m\u001b[0;34m[\u001b[0m\u001b[0;34m\"media-metadata\"\u001b[0m\u001b[0;34m]\u001b[0m\u001b[0;34m\u001b[0m\u001b[0m\n\u001b[0m",
      "\u001b[0;31mIndexError\u001b[0m: string index out of range"
     ]
    }
   ],
   "source": [
    "data[38][\"media\"][0][\"media-metadata\"]"
   ]
  },
  {
   "cell_type": "code",
   "execution_count": 385,
   "metadata": {
    "collapsed": false
   },
   "outputs": [
    {
     "data": {
      "text/plain": [
       "{u'abstract': u'In a decision that could fundamentally reshape public education in the state, a judge on Wednesday ordered changes in everything from how schools are financed to how teachers are paid and evaluated.',\n",
       " u'adx_keywords': u'Connecticut;Decisions and Verdicts;Education (K-12);Moukawsher, Thomas G (1962- );Teachers and School Employees;Suits and Litigation (Civil);Budgets and Budgeting',\n",
       " u'asset_id': 100000004632450,\n",
       " u'byline': u'By ELIZABETH A. HARRIS',\n",
       " u'column': u'',\n",
       " u'des_facet': [u'DECISIONS AND VERDICTS',\n",
       "  u'EDUCATION (K-12)',\n",
       "  u'BUDGETS AND BUDGETING'],\n",
       " u'geo_facet': [u'CONNECTICUT'],\n",
       " u'id': 100000004632450,\n",
       " u'media': u'',\n",
       " u'org_facet': u'',\n",
       " u'per_facet': [u'MOUKAWSHER, THOMAS G (1962- )'],\n",
       " u'published_date': u'2016-09-08',\n",
       " u'section': u'N.Y. / Region',\n",
       " u'source': u'The New York Times',\n",
       " u'title': u'Judge, Citing Inequality, Orders Connecticut to Overhaul Its School System',\n",
       " u'type': u'Article',\n",
       " u'url': u'http://www.nytimes.com/2016/09/08/nyregion/connecticut-public-schools-inequality-judge-orders.html',\n",
       " u'views': 19}"
      ]
     },
     "execution_count": 385,
     "metadata": {},
     "output_type": "execute_result"
    }
   ],
   "source": [
    "data[38]"
   ]
  },
  {
   "cell_type": "code",
   "execution_count": 388,
   "metadata": {
    "collapsed": false
   },
   "outputs": [
    {
     "data": {
      "text/plain": [
       "0.0"
      ]
     },
     "execution_count": 388,
     "metadata": {},
     "output_type": "execute_result"
    }
   ],
   "source": [
    "round(0.2, 0)"
   ]
  },
  {
   "cell_type": "code",
   "execution_count": null,
   "metadata": {
    "collapsed": true
   },
   "outputs": [],
   "source": []
  }
 ],
 "metadata": {
  "kernelspec": {
   "display_name": "Python 2",
   "language": "python",
   "name": "python2"
  },
  "language_info": {
   "codemirror_mode": {
    "name": "ipython",
    "version": 2
   },
   "file_extension": ".py",
   "mimetype": "text/x-python",
   "name": "python",
   "nbconvert_exporter": "python",
   "pygments_lexer": "ipython2",
   "version": "2.7.12"
  }
 },
 "nbformat": 4,
 "nbformat_minor": 1
}
