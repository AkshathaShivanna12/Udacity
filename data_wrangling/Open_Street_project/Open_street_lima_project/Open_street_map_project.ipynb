{
 "cells": [
  {
   "cell_type": "markdown",
   "metadata": {},
   "source": [
    "# Data Wrangling - Open Street Map Lima"
   ]
  },
  {
   "cell_type": "markdown",
   "metadata": {},
   "source": [
    "In this report we document the process of wrangling open street map data for the city of Lima, Peru. \n",
    "\n",
    "## Data origin and general characteristics\n",
    "\n",
    "The data was obtained [here](https://mapzen.com/data/metro-extracts/metro/lima_peru/). We selected the OSM XML file. The uncompressed file has 140.4 Mb. \n",
    "\n",
    "## Problems encountered\n",
    "\n",
    "Here, we lay out some problems encountered when reviewing the data:\n",
    "\n",
    "- **Problems with accents (\"´\")**: As the data is in Spanish, there is some disagreement between some entries. In some, accents are respected, while in others, no accents are displayed. This generates problems when using aggregations methods. In this cases, while both entries point out to the same observation, because of lack of uniformity, it is taken as two different instances.\n",
    "\n",
    "- **Problems with streets**: We found some lack of uniformity when describing streets. For example, it is possible to find \"Ave\", \"Ave.\" and \"Avenida\". While they clearly refer to the same thing, lack of uniformity may lead to confusion.\n",
    "\n",
    "Closer data analysis for banks and fast food: We wanted to perform an analysis of banks and fast foods in Lima. For this purpose we found all the corresponding tags and names of fast food and banks. A further analysis of them revealed the following problems:\n",
    "\n",
    "- **Inconsistent names**: Banks revealed multiple names. The same bank or fast food may have sometimes more than one name pointing to it.\n",
    "\n",
    "- **Inconsisten tagging**: some banks or fast food are not appropriately tagged as a fast food or a bank. For example, for the case of fast food, some times they appear in the restaurant category. This may lead to problematic analysis because categories are not clearly lay out or overlapping.\n"
   ]
  },
  {
   "cell_type": "markdown",
   "metadata": {},
   "source": [
    "## Solutions implemented\n",
    "\n",
    "Before loading the data into a SQL data base, we wanted to ensure that the data was of a quality that rendered our analysis useful. For each of the problems identified above, we implemented the following solutions:\n",
    "\n",
    "- **Solving for accents**: We decided that the best way to standardized our data was to remove every accent from it. For this purpose, first, we encoded our data as unicode and then remove all the accents from it.\n",
    "\n",
    "- **Solving for street names**: We performed a review of the data to check how street names are being stored. From these analysis we identified some inconsistences. We solve the inconsistencies choosing a uniform pattern, where appropriate.\n",
    "\n",
    "- **Inconsistent names**: as part of our bank/fast food analysis, we created a list with the names of banks and tried to solved the multiple instances for the same name problem.\n",
    "\n",
    "- **Inconsistencies with tagging**: we solved the problem for tagging for banks and fast food giving the appropriate tagging when one is not given. In the case of fast food tagged as restaurants, we applied the rule that if a given restaurant is in our common list of fast food, then their label should be corrected as fast food.\n",
    "\n",
    "It is important to notice that all of the cleaning and processing stages of the data are available in the [following notebook](https://github.com/jlcoto/Udacity/blob/master/data_wrangling/Open_Street_project/Open_street_lima_project/Project_Lima.ipynb). The notebook identifies steps taken in the cleaning and parsing process.  "
   ]
  },
  {
   "cell_type": "markdown",
   "metadata": {},
   "source": [
    "## Connecting to database and querying\n",
    "\n",
    "After connecting to the database and creating the corresponding tables, here we start with our queries. We will use python to perform the queries. First, we check the corresponding size of our data base.  Afterwards, we print the tables available with their corresponding schemas. "
   ]
  },
  {
   "cell_type": "code",
   "execution_count": 2,
   "metadata": {
    "collapsed": false
   },
   "outputs": [
    {
     "name": "stdout",
     "output_type": "stream",
     "text": [
      "Database size:\n",
      "87912448\n",
      "Original File Size:\n",
      "140429413\n"
     ]
    }
   ],
   "source": [
    "import os\n",
    "import sqlite3\n",
    "import pprint\n",
    "import pandas as pd\n",
    "import matplotlib.pyplot as plt\n",
    "import seaborn as sns\n",
    "print \"Database size:\"\n",
    "print os.path.getsize('lima_project')\n",
    "print \"Original File Size:\"\n",
    "print os.path.getsize('lima_peru.osm')"
   ]
  },
  {
   "cell_type": "markdown",
   "metadata": {},
   "source": [
    "As we can see, our final data set is over 50 Mb. Note that the decompressed and unparsed XML file was over 140 Mb. That is, the parsing and passing to a SQL database has reduced the file size almost to half of its size."
   ]
  },
  {
   "cell_type": "code",
   "execution_count": 3,
   "metadata": {
    "collapsed": false
   },
   "outputs": [
    {
     "name": "stdout",
     "output_type": "stream",
     "text": [
      "(u'CREATE TABLE Nodes (id INTEGER PRIMARY KEY, lat REAL, lon REAL, user TEXT, uid INTEGER, version INTEGER, changeset INTEGER, timestamp DATETIME)',)\n",
      "\n",
      "\n",
      "(u'CREATE TABLE Node_tags (id INTEGER, key TEXT, value TEXT, type TEXT, FOREIGN KEY(id) REFERENCES Nodes(id))',)\n",
      "\n",
      "\n",
      "(u'CREATE TABLE Ways (id PRIMARY KEY, user TEXT, uid INTEGER, version INTEGER, changeset INTEGER, timestamp DATETIME)',)\n",
      "\n",
      "\n",
      "(u'CREATE TABLE Ways_tags (id INTEGER, key TEXT, value TEXT, type TEXT, FOREIGN KEY (id) REFERENCES Ways(id))',)\n",
      "\n",
      "\n",
      "(u'CREATE TABLE Ways_nodes (id INTEGER, node_id INTEGER, position INTEGER, FOREIGN KEY (id) REFERENCES Ways(id))',)\n",
      "\n",
      "\n"
     ]
    }
   ],
   "source": [
    "db = sqlite3.connect(\"lima_project\")\n",
    "c = db.cursor()\n",
    "c.execute(\"SELECT sql FROM sqlite_master WHERE type = 'table';\")\n",
    "schemas = c.fetchall()\n",
    "for i in schemas:\n",
    "    print i\n",
    "    print \"\\n\""
   ]
  },
  {
   "cell_type": "markdown",
   "metadata": {},
   "source": [
    "As it is possible to observe in the output, we have created 5 tables:\n",
    "1. Nodes\n",
    "2. Node_tags\n",
    "3. Ways\n",
    "4. Ways_nodes\n",
    "5. Ways_tags"
   ]
  },
  {
   "cell_type": "markdown",
   "metadata": {},
   "source": [
    "## Data overview\n",
    "\n",
    "Here we will present basic information about the data collected. In particular, we will query to know:\n",
    "1. Number of unique users.\n",
    "2. Number of nodes and ways in data set.\n",
    "3. Number of amenities."
   ]
  },
  {
   "cell_type": "code",
   "execution_count": 4,
   "metadata": {
    "collapsed": false
   },
   "outputs": [
    {
     "name": "stdout",
     "output_type": "stream",
     "text": [
      "912\n"
     ]
    }
   ],
   "source": [
    "c.execute(\"\"\"SELECT count(*) \n",
    "          FROM (SELECT DISTINCT uid \n",
    "          FROM Nodes UNION SELECT DISTINCT uid FROM Ways);\"\"\")\n",
    "rows = c.fetchall()\n",
    "print rows[0][0]"
   ]
  },
  {
   "cell_type": "markdown",
   "metadata": {},
   "source": [
    "As it is possible to observe from the query below, the nodes and ways are created by 912 users. We will check later if collaborations are equally distributed across users or if there are only some who have a great number of entries. Next, we check the number of nodes and ways in our data set. "
   ]
  },
  {
   "cell_type": "code",
   "execution_count": 5,
   "metadata": {
    "collapsed": false
   },
   "outputs": [
    {
     "name": "stdout",
     "output_type": "stream",
     "text": [
      "Number of Nodes\n",
      "567412\n",
      "\n",
      "Number of Ways\n",
      "118755\n"
     ]
    }
   ],
   "source": [
    "print \"Number of Nodes\"\n",
    "c.execute(\"\"\"SELECT count(*) FROM Nodes;\"\"\")\n",
    "rows = c.fetchall()\n",
    "print rows[0][0]\n",
    "print \"\\nNumber of Ways\"\n",
    "c.execute(\"\"\"SELECT count(*) FROM Ways;\"\"\")\n",
    "rows = c.fetchall()\n",
    "print rows[0][0]\n"
   ]
  },
  {
   "cell_type": "markdown",
   "metadata": {},
   "source": [
    "As it is possible to see, our data set is composed by more nodes than ways. In total, we have 567412 nodes and 118755 number of ways."
   ]
  },
  {
   "cell_type": "markdown",
   "metadata": {},
   "source": [
    "Another thing that might be important to check is who are the main contributors of Open Street maps for Lima. This might be important in terms or future development. If responsibility only relies on a few users, then the viability of the map might be at risk."
   ]
  },
  {
   "cell_type": "code",
   "execution_count": 6,
   "metadata": {
    "collapsed": false
   },
   "outputs": [
    {
     "name": "stdout",
     "output_type": "stream",
     "text": [
      "Total Number of Nodes\n",
      "567412\n",
      "\n",
      "Contributions per User \n",
      "Diego Sanguinetti 111712\n",
      "ovruni 107103\n",
      "BikeRoad 28354\n",
      "Te-Ika 21213\n",
      "JAAS 18988\n",
      "Baconcrisp 18063\n",
      "Ranger444 15291\n",
      "bpowell1 14991\n",
      "dbusse 13530\n",
      "Rub21 12524\n",
      "Corban8 11078\n",
      "Porphyrion 10946\n",
      "Balaïtous 10628\n",
      "MintCondition 10384\n",
      "johnarupire 9379\n",
      "ILikeTurtles512 8835\n",
      "BlueSombra 8772\n",
      "Tyanna Eaton 8465\n",
      "pieleric 7505\n",
      "FoxyMarcie 6623\n"
     ]
    }
   ],
   "source": [
    "print \"Total Number of Nodes\"\n",
    "c.execute(\"\"\"SELECT count(*) FROM Nodes;\"\"\")\n",
    "rows = c.fetchall()\n",
    "print rows[0][0] \n",
    "print\"\\nContributions per User \"\n",
    "c.execute(\"\"\"SELECT user, count(*) \n",
    "             FROM Nodes \n",
    "             GROUP BY uid \n",
    "             ORDER BY count(*) DESC LIMIT 20;\"\"\")\n",
    "rows = c.fetchall()\n",
    "for row in rows:\n",
    "    print row[0],  row[1]"
   ]
  },
  {
   "cell_type": "markdown",
   "metadata": {},
   "source": [
    "It is interesting to observe that the total number of nodes in the data set is 567412. If we only take into account the top two contributors, this means that 38.56% of the entries for nodes belong only to these two top contributors. This is quite striking, if we take into account that there are more than 900 contributors. \n",
    "\n",
    "In order to have a picture of how the distribution of collaborations looks like, we can plot it using pandas and seaborn."
   ]
  },
  {
   "cell_type": "code",
   "execution_count": 7,
   "metadata": {
    "collapsed": false
   },
   "outputs": [],
   "source": [
    "df_nodes_contrib = pd.read_sql(\"\"\"SELECT user, count(*) as num_cont \n",
    "                                  FROM Nodes \n",
    "                                  GROUP BY uid \n",
    "                                  ORDER BY num_cont \"\"\", con=db) "
   ]
  },
  {
   "cell_type": "code",
   "execution_count": 8,
   "metadata": {
    "collapsed": false
   },
   "outputs": [
    {
     "data": {
      "text/plain": [
       "<matplotlib.text.Text at 0x11059ddd0>"
      ]
     },
     "execution_count": 8,
     "metadata": {},
     "output_type": "execute_result"
    },
    {
     "data": {
      "image/png": "[encoded data removed]",
      "text/plain": [
       "<matplotlib.figure.Figure at 0x10dd8d610>"
      ]
     },
     "metadata": {},
     "output_type": "display_data"
    }
   ],
   "source": [
    "%matplotlib inline\n",
    "fig, ax = plt.subplots()\n",
    "sns.distplot(df_nodes_contrib[\"num_cont\"], bins=15, kde=False, ax=ax)\n",
    "ax.set_title(\"Distribution of Node Contributions\")\n",
    "ax.set_xlabel(\"Number of Contributions\")\n",
    "ax.set_ylabel(\"Frequency\")"
   ]
  },
  {
   "cell_type": "markdown",
   "metadata": {},
   "source": [
    "Even though our query results were already telling, the distribution gives us a clear idea how skewed these values are. Basically all contributors are in the lower end of the distribution. It is also possible to observe a small bar to the right of 100000. This is the one corresponding to our top two contributors. This values are quite far away from the rest of the distribution.\n",
    "\n",
    "Below, we perform the same analysis for the ways."
   ]
  },
  {
   "cell_type": "code",
   "execution_count": 9,
   "metadata": {
    "collapsed": false
   },
   "outputs": [
    {
     "name": "stdout",
     "output_type": "stream",
     "text": [
      "Total Number of Ways\n",
      "118755\n",
      "\n",
      "Contributions per User \n",
      "Diego Sanguinetti 20560\n",
      "ovruni 8848\n",
      "BlueSombra 6908\n",
      "Baconcrisp 6127\n",
      "BikeRoad 6052\n",
      "Canyonsrcool 5495\n",
      "Rub21 5250\n",
      "Ranger444 4697\n",
      "Te-Ika 4515\n",
      "bpowell1 4377\n",
      "Tyanna Eaton 3890\n",
      "JAAS 3521\n",
      "Corban8 3367\n",
      "GRPIAA2 3326\n",
      "ILikeTurtles512 3211\n",
      "dbusse 2233\n",
      "MintCondition 1943\n",
      "FoxyMarcie 1681\n",
      "johnarupire 1466\n",
      "Porphyrion 1252\n"
     ]
    }
   ],
   "source": [
    "print \"Total Number of Ways\"\n",
    "c.execute(\"\"\"SELECT count(*) FROM Ways;\"\"\")\n",
    "rows = c.fetchall()\n",
    "print rows[0][0] \n",
    "print\"\\nContributions per User \"\n",
    "c.execute(\"\"\"SELECT user, count(*) \n",
    "             FROM Ways \n",
    "             GROUP BY uid \n",
    "             ORDER BY count(*) DESC LIMIT 20;\"\"\")\n",
    "rows = c.fetchall()\n",
    "for row in rows:\n",
    "    print row[0],  row[1]"
   ]
  },
  {
   "cell_type": "markdown",
   "metadata": {},
   "source": [
    "The story, here, is quite similar as the one with nodes. The same two positions are occupied by the same users. Again, here, there is an important difference between the first place and the rest. However, in this case, the top two positions accumulate roughly more than 24% of the total entries. This means, at least in comparison with nodes, that here contributions are more spread out between users. We plot the distribution below."
   ]
  },
  {
   "cell_type": "code",
   "execution_count": 10,
   "metadata": {
    "collapsed": true
   },
   "outputs": [],
   "source": [
    "df_ways_contrib = pd.read_sql(\"\"\"SELECT user, count(*) as num_cont \n",
    "                                  FROM Ways \n",
    "                                  GROUP BY uid \n",
    "                                  ORDER BY num_cont \"\"\", con=db) "
   ]
  },
  {
   "cell_type": "code",
   "execution_count": 11,
   "metadata": {
    "collapsed": false
   },
   "outputs": [
    {
     "data": {
      "text/plain": [
       "<matplotlib.text.Text at 0x1107c90d0>"
      ]
     },
     "execution_count": 11,
     "metadata": {},
     "output_type": "execute_result"
    },
    {
     "data": {
      "image/png": "[encoded data removed]",
      "text/plain": [
       "<matplotlib.figure.Figure at 0x10dd8d290>"
      ]
     },
     "metadata": {},
     "output_type": "display_data"
    }
   ],
   "source": [
    "fig, ax = plt.subplots()\n",
    "sns.distplot(df_ways_contrib[\"num_cont\"], bins=15, kde=False, ax=ax)\n",
    "ax.set_title(\"Distribution of Ways Contributions\")\n",
    "ax.set_xlabel(\"Number of Contributions\")\n",
    "ax.set_ylabel(\"Frequency\")"
   ]
  },
  {
   "cell_type": "markdown",
   "metadata": {},
   "source": [
    "While, as nodes, ways also is quite skewed to the left, it is also possible to observed that the difference between low and high values is not as extreme as before. Also, there are a number of intermediate values that in the other distribution was not possible to observe."
   ]
  },
  {
   "cell_type": "markdown",
   "metadata": {},
   "source": [
    "In order to have a more clear idea of how contributions behave, we can also check the number of unique contributors per dataset. This will be a good indicator of fidelity. "
   ]
  },
  {
   "cell_type": "code",
   "execution_count": 12,
   "metadata": {
    "collapsed": false
   },
   "outputs": [
    {
     "name": "stdout",
     "output_type": "stream",
     "text": [
      "Unique contributors Nodes:\n",
      "257\n",
      "\n",
      "Unique contributors Ways:\n",
      "133\n"
     ]
    }
   ],
   "source": [
    "print \"Unique contributors Nodes:\"\n",
    "c.execute(\"\"\"SELECT sum(counter) \n",
    "             FROM (SELECT count(*) as counter \n",
    "             FROM Nodes GROUP BY uid \n",
    "             HAVING counter=1);\"\"\")\n",
    "rows = c.fetchall()\n",
    "print rows[0][0]\n",
    "\n",
    "print \"\\nUnique contributors Ways:\"\n",
    "c.execute(\"\"\"SELECT sum(counter) \n",
    "             FROM (SELECT count(*) as counter \n",
    "             FROM Ways GROUP BY uid \n",
    "             HAVING counter=1);\"\"\")\n",
    "rows = c.fetchall()\n",
    "print rows[0][0]"
   ]
  },
  {
   "cell_type": "markdown",
   "metadata": {},
   "source": [
    "Note that for the nodes dataset we can see that approximately 30% of contributors only does it once. In the case of the Ways this amount is even higher. 56.73% only contributes once. This speaks to the necessity of reinforcing the community or establish some kind of incentive in order to assure more active contributors."
   ]
  },
  {
   "cell_type": "code",
   "execution_count": 13,
   "metadata": {
    "collapsed": false
   },
   "outputs": [
    {
     "name": "stdout",
     "output_type": "stream",
     "text": [
      "restaurant | 1934\n",
      "pharmacy | 1408\n",
      "dentist | 536\n",
      "bank | 523\n",
      "school | 474\n",
      "fast_food | 258\n",
      "cafe | 251\n",
      "place_of_worship | 207\n",
      "kindergarten | 188\n",
      "parking | 165\n",
      "veterinary | 161\n",
      "fountain | 152\n",
      "bench | 138\n",
      "fuel | 134\n",
      "clinic | 130\n"
     ]
    }
   ],
   "source": [
    "#Top amenities in data set\n",
    "c.execute(\"\"\"SELECT value, count(*) as counter \n",
    "             FROM Node_tags WHERE key=\"amenity\" \n",
    "             GROUP BY value \n",
    "             ORDER BY counter DESC \n",
    "             LIMIT 15;\"\"\")\n",
    "rows = c.fetchall()\n",
    "for row in rows:\n",
    "    print \"{} | {}\".format(row[0],  row[1])"
   ]
  },
  {
   "cell_type": "markdown",
   "metadata": {},
   "source": [
    "It is interesting to see that the top amenity in the dataset are restaurants. A fact that I found surprising is that there are only 474 tags corresponding to school. This quantity seems a bit small considering that Lima has around 10 million inhabitants. There might be a reason here to suspect incorrect or lack of tagging or lack of data. "
   ]
  },
  {
   "cell_type": "markdown",
   "metadata": {},
   "source": [
    "## Analyzing banks\n",
    "\n",
    "During our data cleaning process, we put extra emphasis in cleaning the data relative to banks. In particular, we strived to give some uniformity to our bank data. Here, we want to proceed with our analysis. In particular, we are interested to determine which bank has a bigger presences in Lima."
   ]
  },
  {
   "cell_type": "code",
   "execution_count": 14,
   "metadata": {
    "collapsed": false
   },
   "outputs": [
    {
     "name": "stdout",
     "output_type": "stream",
     "text": [
      "Bank| Count\n",
      "BCP | 101\n",
      "BBVA | 82\n",
      "Interbank | 80\n",
      "Banco de la Nacion | 68\n",
      "Scotiabank | 42\n",
      "Western Union | 20\n",
      "Financiero | 19\n",
      "Azteca | 15\n",
      "BIF | 15\n",
      "Mi Banco | 15\n"
     ]
    }
   ],
   "source": [
    "c.execute(\"\"\"SELECT bank_vals.value, count(*) \n",
    "             FROM Node_tags JOIN (SELECT id, value FROM Node_tags WHERE key=\"name\") as bank_vals \n",
    "             ON bank_vals.id=Node_tags.id WHERE Node_tags.value=\"bank\" \n",
    "             GROUP BY bank_vals.value \n",
    "             ORDER BY count(*) DESC \n",
    "             LIMIT 10;\"\"\")\n",
    "rows = c.fetchall()\n",
    "print \"Bank| Count\"\n",
    "for row in rows:\n",
    "    print \"{} | {}\".format(row[0],  row[1])"
   ]
  },
  {
   "cell_type": "markdown",
   "metadata": {},
   "source": [
    "Aligned with what was expected, the BCP has more banks in the city. It has almost 20 more banks than its closest rival: BBVA. It is also interesting that the State Owned Bank, Banco de la Nacion, is in 4th position with a relevant number of banks in the city. \n",
    "\n",
    "Note, also, that our recoding of names appear to have been successful for the banks. At least within the tops we do not have two names that point to the same bank. However, there are some corner cases that have escaped our coding solution. This cases have to do with poor data entry by the user.\n",
    "\n",
    "In order to better see the distribution of banks in the city, we plotted the locations of the maps in Lima's map."
   ]
  },
  {
   "cell_type": "code",
   "execution_count": 15,
   "metadata": {
    "collapsed": false
   },
   "outputs": [],
   "source": [
    "#Importing necessary libraries for plotting\n",
    "import numpy as np\n",
    "from mpl_toolkits.basemap import Basemap\n",
    "from matplotlib.collections import PatchCollection\n",
    "import geopandas as gp\n",
    "from shapely.geometry import Point, Polygon, MultiPoint, MultiPolygon\n",
    "from shapely.prepared import prep\n",
    "from descartes import PolygonPatch\n",
    "from itertools import cycle"
   ]
  },
  {
   "cell_type": "markdown",
   "metadata": {},
   "source": [
    "To correctly plot the locations of maps, we needed to work with the city's shapefile. We found the shapefile in this [governmental web page](http://www.geogpsperu.com/2014/03/base-de-datos-peru-shapefile-shp-minam.html). Also, our plotting solution is based on this [blog post](http://sensitivecities.com/so-youd-like-to-make-a-map-using-python-EN.html#.V-jkeJN95AY)."
   ]
  },
  {
   "cell_type": "code",
   "execution_count": 16,
   "metadata": {
    "collapsed": true
   },
   "outputs": [],
   "source": [
    "#Creating maps from existing shapefile\n",
    "shp = gp.GeoDataFrame.from_file('BAS_LIM_DISTRITOS.shp')"
   ]
  },
  {
   "cell_type": "code",
   "execution_count": 17,
   "metadata": {
    "collapsed": false
   },
   "outputs": [],
   "source": [
    "shp_lima = shp.query(\"'LIMA' in NOMBDEP and 'LIMA' in NOMBPROV\")\n",
    "shp_lima_callao = shp_lima.append(shp.query(\"'CALLAO' in NOMBDEP\"))\n",
    "shp_lima_callao = shp_lima_callao.to_crs({'init': 'epsg:4326'})\n",
    "shp_lima_callao.to_file('Lima_4326.shp', driver='ESRI Shapefile')\n",
    "coords = shp_lima_callao.bounds[[\"minx\", \"miny\"]].min().append(shp_lima_callao.bounds[[\"maxx\", \"maxy\"]].max())\n",
    "w, h = coords[2] - coords[0], coords[3] - coords[1]\n",
    "extra = 0.01\n",
    "m = Basemap(\n",
    "    projection='tmerc', ellps='WGS84',\n",
    "    lon_0=-77.028333,\n",
    "    lat_0=-12.043333,\n",
    "    llcrnrlon=coords[0] - extra * w,\n",
    "    llcrnrlat=coords[1] - (extra * h), \n",
    "    urcrnrlon=coords[2] + extra * w,\n",
    "    urcrnrlat=coords[3] + (extra * h),\n",
    "    resolution='i',  suppress_ticks=True)\n",
    "m.readshapefile('Lima_4326', name='Lima', drawbounds=False, color='none', zorder=2)\n",
    "\n",
    "#Creating map coordinates and plotting values\n",
    "df_map = pd.DataFrame({\n",
    "    'poly': [Polygon(xy) for xy in m.Lima],\n",
    "    'distrito': [distrito['NOMBDIST'] for distrito in m.Lima_info]})\n",
    "df_map['area_m'] = df_map['poly'].map(lambda x: x.area)\n",
    "df_map['area_km'] = df_map['area_m'] / 100000"
   ]
  },
  {
   "cell_type": "markdown",
   "metadata": {},
   "source": [
    "We are interested in plotting two things: first, we want to obtain a general overview of where banks are located. Second, we want to see where the top 5 banks are located. We generate the corresponding plotting function and the data sets that we will use for plotting purposes."
   ]
  },
  {
   "cell_type": "code",
   "execution_count": 18,
   "metadata": {
    "collapsed": false
   },
   "outputs": [],
   "source": [
    "def point_plotter(lon, lat, df_map=df_map):\n",
    "    \"\"\"Given lat and lon coordinates translates point into mapping area\n",
    "    for plotting purposes.\n",
    "    \"\"\"\n",
    "    map_points = pd.Series([Point(m(mapped_x, mapped_y)) for mapped_x, mapped_y in zip(lon, lat)])\n",
    "    plaque_points = MultiPoint(list(map_points.values))\n",
    "    district_polygon = prep(MultiPolygon(list(df_map['poly'].values)))\n",
    "    lima_points = filter(district_polygon.contains, plaque_points)\n",
    "    lima_pol = pd.Series([Polygon(xy) for xy in m.Lima])\n",
    "    x_points = pd.Series([geom.x for geom in lima_points])\n",
    "    y_points = pd.Series([geom.y for geom in lima_points])\n",
    "    return x_points, y_points\n",
    "\n",
    "def map_drawer(ax, lon, lat, title=\"\", df_map=df_map):\n",
    "    \"General plotting function for all points in data set.\"\n",
    "    df_map['patches'] = df_map['poly'].map(lambda x: PolygonPatch(\n",
    "    x,\n",
    "    fc='#C1BFBB',\n",
    "    ec='#FFFFFF', lw=.25, alpha=.9,\n",
    "    zorder=4))\n",
    "    plt.clf()\n",
    "    ax = plt.gca()\n",
    "    ax.set_axis_bgcolor('white')\n",
    "    x_point_series, y_point_series =  point_plotter(lon, lat, df_map=df_map)\n",
    "    dev = m.scatter(\n",
    "    x_point_series,\n",
    "    y_point_series,\n",
    "    5, marker='o', lw=.25,\n",
    "    facecolor='#60A0EA', edgecolor='#1061C1',\n",
    "    alpha=0.9, antialiased=True,\n",
    "    zorder=3)\n",
    "    ax.add_collection(PatchCollection(df_map['patches'].values, match_original=True))\n",
    "    ax.set_title(title, fontsize=15)\n",
    "\n",
    "def map_drawer_categories(ax, df_to_plot, cat_to_plot,\n",
    "                          categories, list_of_colors, title=\"\", df_map=df_map):\n",
    "    \"\"\"Scatter plot with different color of points by category given.\"\"\"\n",
    "    df_map['patches'] = df_map['poly'].map(lambda x: PolygonPatch(\n",
    "    x,\n",
    "    fc='#C1BFBB',\n",
    "    ec='#FFFFFF', lw=.25, alpha=.9,\n",
    "    zorder=4))\n",
    "\n",
    "    #plt.clf()\n",
    "    ax = plt.gca()\n",
    "    ax.set_axis_bgcolor('white')\n",
    "    ax = fig.add_subplot(122, axisbg='w', frame_on=False)\n",
    "    \n",
    "    cat_colors = cycle(list_of_colors)\n",
    "    for category in categories:\n",
    "        plot_cat = df_to_plot[df_to_plot[cat_to_plot] == category]\n",
    "        x_point_series, y_point_series = point_plotter(plot_cat['lon'], plot_cat['lat'])\n",
    "        dev = m.scatter(\n",
    "            x_point_series,\n",
    "            y_point_series,\n",
    "            7,\n",
    "            color = next(cat_colors),\n",
    "            zorder=3,\n",
    "            alpha=0.8, \n",
    "            label= category\n",
    "        )\n",
    "        \n",
    "    ax.add_collection(PatchCollection(df_map['patches'].values, match_original=True))\n",
    "    ax.set_title(title, fontsize=15)\n",
    "    ax.legend(loc='upper center', bbox_to_anchor=(0.6, 0), fancybox=True, shadow=True, ncol=2)"
   ]
  },
  {
   "cell_type": "markdown",
   "metadata": {},
   "source": [
    "Having implemented our plotting functions, we now need to prepare the data that we want to plot. Note that, for this, we need to do a further data query. We pass our data query to a pandas data fram structure, so we can easily and seamlessly use Basemap matplotlib plotting utilities.\n"
   ]
  },
  {
   "cell_type": "code",
   "execution_count": 19,
   "metadata": {
    "collapsed": true
   },
   "outputs": [],
   "source": [
    "df_banks = pd.read_sql(\"\"\"SELECT *\n",
    "             FROM Node_tags JOIN (SELECT id, value FROM Node_tags WHERE key=\"name\") as bank_vals \n",
    "             ON bank_vals.id=Node_tags.id, Nodes WHERE Node_tags.value=\"bank\" and Nodes.id=Node_tags.id \n",
    "            \"\"\", con=db) "
   ]
  },
  {
   "cell_type": "markdown",
   "metadata": {},
   "source": [
    "As we also want to have a plot for the top banks, we generate a smaller data set where only the bigger banks will be selected. Note that here we understand as top bank those banks that have more than 40 branches in the city. We also define a list of colors, so each of our banks can receive a different color when plotting."
   ]
  },
  {
   "cell_type": "code",
   "execution_count": 20,
   "metadata": {
    "collapsed": true
   },
   "outputs": [],
   "source": [
    "df_banks[\"bank_names\"] = df_banks[\"value\"].iloc[:, 1]\n",
    "df_banks = df_banks.drop(df_banks[\"value\"], axis=1)"
   ]
  },
  {
   "cell_type": "code",
   "execution_count": 21,
   "metadata": {
    "collapsed": false
   },
   "outputs": [],
   "source": [
    "plot_top_banks = df_banks.groupby(df_banks[\"bank_names\"]).filter(lambda x: len(x) >= 40)\n",
    "list_top_banks = pd.unique(plot_top_banks[\"bank_names\"])\n",
    "#reverse list of colors corresponding to each of the banks\n",
    "bank_colors = [\"#FB6502\", \"#468ACE\", \"#79229B\", \"#359D3D\", \"#EDF277\"][::-1]"
   ]
  },
  {
   "cell_type": "code",
   "execution_count": 22,
   "metadata": {
    "collapsed": false
   },
   "outputs": [
    {
     "data": {
      "image/png": "[encoded data removed]",
      "text/plain": [
       "<matplotlib.figure.Figure at 0x115a1f810>"
      ]
     },
     "metadata": {},
     "output_type": "display_data"
    }
   ],
   "source": [
    "fig, ax = plt.subplots(2, figsize=(18,5))\n",
    "map_drawer(ax[0], df_banks['lon'], df_banks['lat'], title=\"Location of Banks in Lima\")\n",
    "map_drawer_categories(ax[1], plot_top_banks, \"bank_names\", list_top_banks[::-1], \n",
    "                      bank_colors, title=\"Top 5 Banks in Lima\")"
   ]
  },
  {
   "cell_type": "markdown",
   "metadata": {},
   "source": [
    "In the figures we can see how highly concentrated banks are in the core center of Lima. On the periphery, we can hardly observed any bank. It would be interesting to check if this is correlated with the population density or income of the population in each area.\n"
   ]
  },
  {
   "cell_type": "markdown",
   "metadata": {},
   "source": [
    "## Analyzing Fast Food"
   ]
  },
  {
   "cell_type": "markdown",
   "metadata": {},
   "source": [
    "We continue our analysis, but now, we do it for the fast food restaurants. In particular, we want to know what is the most popular fast food in Lima."
   ]
  },
  {
   "cell_type": "code",
   "execution_count": 23,
   "metadata": {
    "collapsed": false
   },
   "outputs": [
    {
     "name": "stdout",
     "output_type": "stream",
     "text": [
      "Fast Food| Count\n",
      "Norky's | 32\n",
      "Rocky's | 26\n",
      "KFC | 25\n",
      "Pizza Hut | 21\n",
      "Bembos | 20\n",
      "McDonald's | 11\n",
      "Popeye's | 7\n",
      "Subway | 7\n",
      "China Wok | 6\n",
      "Papa John's | 6\n"
     ]
    }
   ],
   "source": [
    "c.execute(\"\"\"SELECT fast_food_vals.value, count(*) \n",
    "             FROM Node_tags JOIN (SELECT id, value FROM Node_tags WHERE key=\"name\") as fast_food_vals \n",
    "             ON fast_food_vals.id=Node_tags.id WHERE Node_tags.value=\"fast_food\" \n",
    "             GROUP BY fast_food_vals.value \n",
    "             ORDER BY count(*) DESC \n",
    "             LIMIT 10;\"\"\")\n",
    "rows = c.fetchall()\n",
    "print \"Fast Food| Count\"\n",
    "for row in rows:\n",
    "    print \"{} | {}\".format(row[0],  row[1])"
   ]
  },
  {
   "cell_type": "markdown",
   "metadata": {},
   "source": [
    "Contrary to what we expected, the most common fast food is a Grilled Chicken franchise called Norky's. Rocky's closely follows with 26 stores. Note that KFC, a big international brand comes in third place. Apparently, the preferences of \"Limeños\" tend to favor local brands over international ones. However, we are not able to say if this is just a matter of quality of data (because there were more entries for Norky's) or if this actually follows from reality. \n",
    "\n",
    "While our coding solution did a good job giving uniformity to the data, we could still found some entries that were not correctly categorized. Correcting these entries would demand defining more comprehensive correction rules. Note, however, that even taking these errors into account, our results in terms of the ranking will not vary.\n",
    "\n",
    "As we did with the banks, we also want to have here a map plot to observe if there are some clustering patterns with respect to fast foods. We make use of our plotting functions previously defined."
   ]
  },
  {
   "cell_type": "code",
   "execution_count": 24,
   "metadata": {
    "collapsed": true
   },
   "outputs": [],
   "source": [
    "df_fast_food = pd.read_sql(\"\"\"SELECT *\n",
    "             FROM Node_tags JOIN (SELECT id, value FROM Node_tags WHERE key=\"name\") as fast_food_vals \n",
    "             ON fast_food_vals.id=Node_tags.id, Nodes WHERE Node_tags.value=\"fast_food\" and Nodes.id=Node_tags.id \n",
    "            \"\"\", con=db) "
   ]
  },
  {
   "cell_type": "code",
   "execution_count": 25,
   "metadata": {
    "collapsed": false
   },
   "outputs": [],
   "source": [
    "df_fast_food[\"food_names\"] = df_fast_food[\"value\"].iloc[:, 1]\n",
    "df_fast_food = df_fast_food.drop(df_fast_food[\"value\"], axis=1)"
   ]
  },
  {
   "cell_type": "markdown",
   "metadata": {},
   "source": [
    "Again, we also want to plot those fast food restaurants that have more facilities in the city. We operationalize top fast food restaurants as the ones that have 10 or more restaurants in the city."
   ]
  },
  {
   "cell_type": "code",
   "execution_count": 26,
   "metadata": {
    "collapsed": false
   },
   "outputs": [
    {
     "data": {
      "text/plain": [
       "array([u'Bembos', u\"Norky's\", u\"McDonald's\", u\"Rocky's\", u'KFC',\n",
       "       u'Pizza Hut'], dtype=object)"
      ]
     },
     "execution_count": 26,
     "metadata": {},
     "output_type": "execute_result"
    }
   ],
   "source": [
    "plot_top_fast_food = df_fast_food.groupby(df_fast_food[\"food_names\"]).filter(lambda x: len(x) >= 10)\n",
    "list_top_fast_food = pd.unique(plot_top_fast_food[\"food_names\"])\n",
    "list_top_fast_food"
   ]
  },
  {
   "cell_type": "code",
   "execution_count": null,
   "metadata": {
    "collapsed": false
   },
   "outputs": [],
   "source": [
    "#Plotting all fast food and only ones that have more than 10 shops.\n",
    "rest_color_pal = sns.color_palette(\"Set1\")"
   ]
  },
  {
   "cell_type": "code",
   "execution_count": null,
   "metadata": {
    "collapsed": false
   },
   "outputs": [],
   "source": [
    "fig, ax = plt.subplots(2, figsize=(18,5))\n",
    "map_drawer(ax[0], df_fast_food['lon'], df_fast_food['lat'], title=\"Location of Fast Food restaurants in Lima\")\n",
    "map_drawer_categories(ax[1], plot_top_fast_food, \"food_names\", list_top_fast_food[::-1], \n",
    "                      rest_color_pal, title=\"Top Fast Food Restaurants in Lima\")"
   ]
  },
  {
   "cell_type": "markdown",
   "metadata": {},
   "source": [
    "Once again, the same pattern of most fast food locating in the middle of the city is observed. As we mentioned before, this might be correlated with income or population density. However, we would need to more data to explore these hypotheses."
   ]
  },
  {
   "cell_type": "markdown",
   "metadata": {},
   "source": [
    "## Limitations and conclusions\n",
    "\n",
    "In this report we have looked at the Open Street data for the city of Lima, Peru. We obtained the data as a XML file and correspondingly scraped it into a CSV format. During the process of extraction we took into consideration problems with accents and streets. This was relevant for assuring standarization of the data.\n",
    "\n",
    "Furthermore, given that we wanted to perform a more precise analysis of banks and fast foods, we put special emphasis on normalizing these data. This followed two steps: making sure that main banks or fast foods' names followed certain uniformity and that the value tags correspondingly include their category. We took special care in documenting and testing each step of the process. More information can be accessed [here](https://github.com/jlcoto/Udacity/blob/master/data_wrangling/Open_Street_project/Open_street_lima_project/Project_Lima.ipynb).\n",
    "\n",
    "We started our report giving a series of data relevant to the data set and also more specific to the banks and restaurants. However, we should also take into consideration the limitations of the analysis:\n",
    "\n",
    "1. It is not possible to say how much coverage or detail has the data of the actual city. Therefore, things as the rankings are only relevant in so far as the underlying data is meaningful.\n",
    "2. The process of cleaning and making sure that the data is of a certain quality is specially difficult with user entry data. While we have tried to overcome quite relevant and noticeable problems with the data (as with the accents), it is not possible to guarantee that there are no remaining untreated errors. For example, even when we put extra care with the banks and restaurants, we could find that our solution, while good, was not perfect.\n",
    "3. The data is not correctly categorized. As seen with fast food, there does not appear to be clear rules when clasifying a restaurant as a fast food or a restaurant. We observed the same thing for schools (some universities or offices were classified as such). A careful user of the data base should first scrutinize the tag that she wants to investigate and check if their treatment is uniform across the data.\n",
    "\n",
    "Having focused on the problems, there are still a series of improvements available:\n",
    "\n",
    "1. While it is impossible to say, per se, how much coverage the data set has, it would be interesting to contrast its entries to other mapping apis, like Google Maps. Of course, this option may not be available given copyright or patent issues. However, there are other things that might be possible. For example, as we observed, the number of schools appears to be low. Here there is space for some data accuracy. The Peruvian Ministry of Education has available in its website the list of all schools in Lima with their appropriate latitude and longitude coordinates. This can be an interesting source for data comparison.\n",
    "2. There is no easy solution for the cleaning process. This entails reitarating through the steps of checking your data, catching the mistakes and correcting them again. However, efforts can be made to reduce data entry errors. Perhaps by making sure users follow certain patterns or recommending them normally used options when entering data (for example, if the data entry is a bank show the user top 10 banks with more entries so she can choose from them without typing its entry).\n",
    "3. This only depends on how careful the data base user is to detect some contradictions. Still, as said before, some of these errors could be reduced in the entry stage.\n",
    "\n"
   ]
  }
 ],
 "metadata": {
  "kernelspec": {
   "display_name": "Python 2",
   "language": "python",
   "name": "python2"
  },
  "language_info": {
   "codemirror_mode": {
    "name": "ipython",
    "version": 2
   },
   "file_extension": ".py",
   "mimetype": "text/x-python",
   "name": "python",
   "nbconvert_exporter": "python",
   "pygments_lexer": "ipython2",
   "version": "2.7.12"
  }
 },
 "nbformat": 4,
 "nbformat_minor": 1
}
